{
 "cells": [
  {
   "cell_type": "code",
   "execution_count": 8,
   "metadata": {},
   "outputs": [],
   "source": [
    "import pandas as pd"
   ]
  },
  {
   "cell_type": "code",
   "execution_count": 9,
   "metadata": {},
   "outputs": [],
   "source": [
    "# load data\n",
    "file_history = 'youbike_history.csv'\n",
    "file_realtime = 'youbike_realtime.csv'\n",
    "\n",
    "history_df = pd.read_csv(file_history,names=['借用時段','借用站名','歸還時段','歸還站名','借用時間','紀錄日期'])\n",
    "realtime_df = pd.read_csv(file_realtime)"
   ]
  },
  {
   "cell_type": "code",
   "execution_count": 10,
   "metadata": {},
   "outputs": [
    {
     "name": "stdout",
     "output_type": "stream",
     "text": [
      "2941065 1406\n",
      "(2941065, 6) (1406, 18)\n"
     ]
    }
   ],
   "source": [
    "#check data information\n",
    "print(len(history_df),len(realtime_df))\n",
    "print(history_df.shape,realtime_df.shape)"
   ]
  },
  {
   "cell_type": "code",
   "execution_count": 12,
   "metadata": {},
   "outputs": [
    {
     "data": {
      "text/html": [
       "<div>\n",
       "<style scoped>\n",
       "    .dataframe tbody tr th:only-of-type {\n",
       "        vertical-align: middle;\n",
       "    }\n",
       "\n",
       "    .dataframe tbody tr th {\n",
       "        vertical-align: top;\n",
       "    }\n",
       "\n",
       "    .dataframe thead th {\n",
       "        text-align: right;\n",
       "    }\n",
       "</style>\n",
       "<table border=\"1\" class=\"dataframe\">\n",
       "  <thead>\n",
       "    <tr style=\"text-align: right;\">\n",
       "      <th></th>\n",
       "      <th>歸還時段</th>\n",
       "      <th>紀錄日期</th>\n",
       "    </tr>\n",
       "  </thead>\n",
       "  <tbody>\n",
       "    <tr>\n",
       "      <th>0</th>\n",
       "      <td>2023-11-22 18:00:00</td>\n",
       "      <td>2023-11-22</td>\n",
       "    </tr>\n",
       "    <tr>\n",
       "      <th>1</th>\n",
       "      <td>2023-11-22 17:00:00</td>\n",
       "      <td>2023-11-22</td>\n",
       "    </tr>\n",
       "    <tr>\n",
       "      <th>2</th>\n",
       "      <td>2023-11-22 12:00:00</td>\n",
       "      <td>2023-11-22</td>\n",
       "    </tr>\n",
       "    <tr>\n",
       "      <th>3</th>\n",
       "      <td>2023-11-22 12:00:00</td>\n",
       "      <td>2023-11-22</td>\n",
       "    </tr>\n",
       "    <tr>\n",
       "      <th>4</th>\n",
       "      <td>2023-11-22 21:00:00</td>\n",
       "      <td>2023-11-22</td>\n",
       "    </tr>\n",
       "    <tr>\n",
       "      <th>...</th>\n",
       "      <td>...</td>\n",
       "      <td>...</td>\n",
       "    </tr>\n",
       "    <tr>\n",
       "      <th>2941060</th>\n",
       "      <td>2023-11-01 23:00:00</td>\n",
       "      <td>2023-11-01</td>\n",
       "    </tr>\n",
       "    <tr>\n",
       "      <th>2941061</th>\n",
       "      <td>2023-11-01 18:00:00</td>\n",
       "      <td>2023-11-01</td>\n",
       "    </tr>\n",
       "    <tr>\n",
       "      <th>2941062</th>\n",
       "      <td>2023-11-01 20:00:00</td>\n",
       "      <td>2023-11-01</td>\n",
       "    </tr>\n",
       "    <tr>\n",
       "      <th>2941063</th>\n",
       "      <td>2023-11-01 18:00:00</td>\n",
       "      <td>2023-11-01</td>\n",
       "    </tr>\n",
       "    <tr>\n",
       "      <th>2941064</th>\n",
       "      <td>2023-11-01 17:00:00</td>\n",
       "      <td>2023-11-01</td>\n",
       "    </tr>\n",
       "  </tbody>\n",
       "</table>\n",
       "<p>2941065 rows × 2 columns</p>\n",
       "</div>"
      ],
      "text/plain": [
       "                        歸還時段        紀錄日期\n",
       "0        2023-11-22 18:00:00  2023-11-22\n",
       "1        2023-11-22 17:00:00  2023-11-22\n",
       "2        2023-11-22 12:00:00  2023-11-22\n",
       "3        2023-11-22 12:00:00  2023-11-22\n",
       "4        2023-11-22 21:00:00  2023-11-22\n",
       "...                      ...         ...\n",
       "2941060  2023-11-01 23:00:00  2023-11-01\n",
       "2941061  2023-11-01 18:00:00  2023-11-01\n",
       "2941062  2023-11-01 20:00:00  2023-11-01\n",
       "2941063  2023-11-01 18:00:00  2023-11-01\n",
       "2941064  2023-11-01 17:00:00  2023-11-01\n",
       "\n",
       "[2941065 rows x 2 columns]"
      ]
     },
     "execution_count": 12,
     "metadata": {},
     "output_type": "execute_result"
    }
   ],
   "source": [
    "history_df[['歸還時段','紀錄日期']]"
   ]
  },
  {
   "cell_type": "code",
   "execution_count": 12,
   "metadata": {},
   "outputs": [
    {
     "data": {
      "text/html": [
       "<div>\n",
       "<style scoped>\n",
       "    .dataframe tbody tr th:only-of-type {\n",
       "        vertical-align: middle;\n",
       "    }\n",
       "\n",
       "    .dataframe tbody tr th {\n",
       "        vertical-align: top;\n",
       "    }\n",
       "\n",
       "    .dataframe thead th {\n",
       "        text-align: right;\n",
       "    }\n",
       "</style>\n",
       "<table border=\"1\" class=\"dataframe\">\n",
       "  <thead>\n",
       "    <tr style=\"text-align: right;\">\n",
       "      <th></th>\n",
       "      <th>sno</th>\n",
       "      <th>sna</th>\n",
       "      <th>tot</th>\n",
       "      <th>sbi</th>\n",
       "      <th>sarea</th>\n",
       "      <th>mday</th>\n",
       "      <th>lat</th>\n",
       "      <th>lng</th>\n",
       "      <th>ar</th>\n",
       "      <th>sareaen</th>\n",
       "      <th>snaen</th>\n",
       "      <th>aren</th>\n",
       "      <th>bemp</th>\n",
       "      <th>act</th>\n",
       "      <th>srcUpdateTime</th>\n",
       "      <th>updateTime</th>\n",
       "      <th>infoTime</th>\n",
       "      <th>infoDate</th>\n",
       "    </tr>\n",
       "  </thead>\n",
       "  <tbody>\n",
       "    <tr>\n",
       "      <th>0</th>\n",
       "      <td>500101001</td>\n",
       "      <td>YouBike2.0_捷運科技大樓站</td>\n",
       "      <td>28</td>\n",
       "      <td>16</td>\n",
       "      <td>大安區</td>\n",
       "      <td>2024-04-12 15:45:22</td>\n",
       "      <td>25.02605</td>\n",
       "      <td>121.54360</td>\n",
       "      <td>復興南路二段235號前</td>\n",
       "      <td>Daan Dist.</td>\n",
       "      <td>YouBike2.0_MRT Technology Bldg. Sta.</td>\n",
       "      <td>No.235， Sec. 2， Fuxing S. Rd.</td>\n",
       "      <td>12</td>\n",
       "      <td>1</td>\n",
       "      <td>2024-04-12 15:46:25</td>\n",
       "      <td>2024-04-12 15:46:51</td>\n",
       "      <td>2024-04-12 15:45:22</td>\n",
       "      <td>2024-04-12</td>\n",
       "    </tr>\n",
       "    <tr>\n",
       "      <th>1</th>\n",
       "      <td>500101002</td>\n",
       "      <td>YouBike2.0_復興南路二段273號前</td>\n",
       "      <td>21</td>\n",
       "      <td>5</td>\n",
       "      <td>大安區</td>\n",
       "      <td>2024-04-12 15:46:20</td>\n",
       "      <td>25.02565</td>\n",
       "      <td>121.54357</td>\n",
       "      <td>復興南路二段273號西側</td>\n",
       "      <td>Daan Dist.</td>\n",
       "      <td>YouBike2.0_No.273， Sec. 2， Fuxing S. Rd.</td>\n",
       "      <td>No.273， Sec. 2， Fuxing S. Rd. (West)</td>\n",
       "      <td>16</td>\n",
       "      <td>1</td>\n",
       "      <td>2024-04-12 15:46:25</td>\n",
       "      <td>2024-04-12 15:46:51</td>\n",
       "      <td>2024-04-12 15:46:20</td>\n",
       "      <td>2024-04-12</td>\n",
       "    </tr>\n",
       "    <tr>\n",
       "      <th>2</th>\n",
       "      <td>500101003</td>\n",
       "      <td>YouBike2.0_國北教大實小東側門</td>\n",
       "      <td>16</td>\n",
       "      <td>6</td>\n",
       "      <td>大安區</td>\n",
       "      <td>2024-04-12 15:46:20</td>\n",
       "      <td>25.02429</td>\n",
       "      <td>121.54124</td>\n",
       "      <td>和平東路二段96巷7號</td>\n",
       "      <td>Daan Dist.</td>\n",
       "      <td>YouBike2.0_NTUE Experiment Elementary School (...</td>\n",
       "      <td>No. 7， Ln. 96， Sec. 2， Heping E. Rd</td>\n",
       "      <td>10</td>\n",
       "      <td>1</td>\n",
       "      <td>2024-04-12 15:46:25</td>\n",
       "      <td>2024-04-12 15:46:51</td>\n",
       "      <td>2024-04-12 15:46:20</td>\n",
       "      <td>2024-04-12</td>\n",
       "    </tr>\n",
       "    <tr>\n",
       "      <th>3</th>\n",
       "      <td>500101004</td>\n",
       "      <td>YouBike2.0_和平公園東側</td>\n",
       "      <td>11</td>\n",
       "      <td>2</td>\n",
       "      <td>大安區</td>\n",
       "      <td>2024-04-12 15:28:19</td>\n",
       "      <td>25.02351</td>\n",
       "      <td>121.54282</td>\n",
       "      <td>和平東路二段118巷33號</td>\n",
       "      <td>Daan Dist.</td>\n",
       "      <td>YouBike2.0_Heping Park (East)</td>\n",
       "      <td>No. 33， Ln. 118， Sec. 2， Heping E. Rd</td>\n",
       "      <td>9</td>\n",
       "      <td>1</td>\n",
       "      <td>2024-04-12 15:46:25</td>\n",
       "      <td>2024-04-12 15:46:51</td>\n",
       "      <td>2024-04-12 15:28:19</td>\n",
       "      <td>2024-04-12</td>\n",
       "    </tr>\n",
       "    <tr>\n",
       "      <th>4</th>\n",
       "      <td>500101005</td>\n",
       "      <td>YouBike2.0_辛亥復興路口西北側</td>\n",
       "      <td>16</td>\n",
       "      <td>0</td>\n",
       "      <td>大安區</td>\n",
       "      <td>2024-04-12 15:46:20</td>\n",
       "      <td>25.02153</td>\n",
       "      <td>121.54299</td>\n",
       "      <td>復興南路二段368號</td>\n",
       "      <td>Daan Dist.</td>\n",
       "      <td>YouBike2.0_Xinhai Fuxing Rd. Intersection (Nor...</td>\n",
       "      <td>No. 368， Sec. 2， Fuxing S. Rd.</td>\n",
       "      <td>16</td>\n",
       "      <td>1</td>\n",
       "      <td>2024-04-12 15:46:25</td>\n",
       "      <td>2024-04-12 15:46:51</td>\n",
       "      <td>2024-04-12 15:46:20</td>\n",
       "      <td>2024-04-12</td>\n",
       "    </tr>\n",
       "  </tbody>\n",
       "</table>\n",
       "</div>"
      ],
      "text/plain": [
       "         sno                     sna  tot  sbi sarea                 mday  \\\n",
       "0  500101001      YouBike2.0_捷運科技大樓站   28   16   大安區  2024-04-12 15:45:22   \n",
       "1  500101002  YouBike2.0_復興南路二段273號前   21    5   大安區  2024-04-12 15:46:20   \n",
       "2  500101003    YouBike2.0_國北教大實小東側門   16    6   大安區  2024-04-12 15:46:20   \n",
       "3  500101004       YouBike2.0_和平公園東側   11    2   大安區  2024-04-12 15:28:19   \n",
       "4  500101005    YouBike2.0_辛亥復興路口西北側   16    0   大安區  2024-04-12 15:46:20   \n",
       "\n",
       "        lat        lng             ar     sareaen  \\\n",
       "0  25.02605  121.54360    復興南路二段235號前  Daan Dist.   \n",
       "1  25.02565  121.54357   復興南路二段273號西側  Daan Dist.   \n",
       "2  25.02429  121.54124    和平東路二段96巷7號  Daan Dist.   \n",
       "3  25.02351  121.54282  和平東路二段118巷33號  Daan Dist.   \n",
       "4  25.02153  121.54299     復興南路二段368號  Daan Dist.   \n",
       "\n",
       "                                               snaen  \\\n",
       "0               YouBike2.0_MRT Technology Bldg. Sta.   \n",
       "1           YouBike2.0_No.273， Sec. 2， Fuxing S. Rd.   \n",
       "2  YouBike2.0_NTUE Experiment Elementary School (...   \n",
       "3                      YouBike2.0_Heping Park (East)   \n",
       "4  YouBike2.0_Xinhai Fuxing Rd. Intersection (Nor...   \n",
       "\n",
       "                                    aren  bemp  act        srcUpdateTime  \\\n",
       "0          No.235， Sec. 2， Fuxing S. Rd.    12    1  2024-04-12 15:46:25   \n",
       "1   No.273， Sec. 2， Fuxing S. Rd. (West)    16    1  2024-04-12 15:46:25   \n",
       "2    No. 7， Ln. 96， Sec. 2， Heping E. Rd    10    1  2024-04-12 15:46:25   \n",
       "3  No. 33， Ln. 118， Sec. 2， Heping E. Rd     9    1  2024-04-12 15:46:25   \n",
       "4         No. 368， Sec. 2， Fuxing S. Rd.    16    1  2024-04-12 15:46:25   \n",
       "\n",
       "            updateTime             infoTime    infoDate  \n",
       "0  2024-04-12 15:46:51  2024-04-12 15:45:22  2024-04-12  \n",
       "1  2024-04-12 15:46:51  2024-04-12 15:46:20  2024-04-12  \n",
       "2  2024-04-12 15:46:51  2024-04-12 15:46:20  2024-04-12  \n",
       "3  2024-04-12 15:46:51  2024-04-12 15:28:19  2024-04-12  \n",
       "4  2024-04-12 15:46:51  2024-04-12 15:46:20  2024-04-12  "
      ]
     },
     "execution_count": 12,
     "metadata": {},
     "output_type": "execute_result"
    }
   ],
   "source": [
    "realtime_df.head()"
   ]
  },
  {
   "cell_type": "code",
   "execution_count": 13,
   "metadata": {},
   "outputs": [
    {
     "data": {
      "text/plain": [
       "(1318, 2276)"
      ]
     },
     "execution_count": 13,
     "metadata": {},
     "output_type": "execute_result"
    }
   ],
   "source": [
    "# find distinct stataion from two history_df columns\n",
    "out_station_set = set(history_df['借用站名'].to_list())\n",
    "return_station_set = set(history_df['歸還站名'].to_list())\n",
    "len(out_station_set), len(return_station_set)"
   ]
  },
  {
   "cell_type": "code",
   "execution_count": 9,
   "metadata": {},
   "outputs": [
    {
     "data": {
      "text/plain": [
       "1318"
      ]
     },
     "execution_count": 9,
     "metadata": {},
     "output_type": "execute_result"
    }
   ],
   "source": [
    "#check if interesection between the two set\n",
    "len(return_station_set.intersection(out_station_set))\n"
   ]
  },
  {
   "cell_type": "markdown",
   "metadata": {},
   "source": [
    "### Conclusion 1\n",
    "從歷史資料可以知道 \\\n",
    "所有借用的車站都跟歸還車站有重疊 但歸還車站比較多很多。\\\n",
    "推論是歸還車站包含新北市車站（需要再做確認）\n"
   ]
  },
  {
   "cell_type": "code",
   "execution_count": 14,
   "metadata": {},
   "outputs": [],
   "source": [
    "# extract station name from real time data column\n",
    "def strip(text):\n",
    "    return text[11:]\n",
    "rt_stations = set(realtime_df['sna'].apply(strip).to_list())"
   ]
  },
  {
   "cell_type": "code",
   "execution_count": 70,
   "metadata": {},
   "outputs": [
    {
     "data": {
      "text/plain": [
       "1296"
      ]
     },
     "execution_count": 70,
     "metadata": {},
     "output_type": "execute_result"
    }
   ],
   "source": [
    "#check overlap between real time stations and out stations (借用)\n",
    "len(rt_stations.intersection(out_station_set))"
   ]
  },
  {
   "cell_type": "code",
   "execution_count": 69,
   "metadata": {},
   "outputs": [
    {
     "data": {
      "text/plain": [
       "110"
      ]
     },
     "execution_count": 69,
     "metadata": {},
     "output_type": "execute_result"
    }
   ],
   "source": [
    "# check how many stations are in rt stations but not in out stations\n",
    "# 這可能是對應不起來的資料，也可以被解釋成新的車站 （即時有但是歷史紀錄沒有）\n",
    "len(rt_stations.difference(out_station_set))"
   ]
  },
  {
   "cell_type": "code",
   "execution_count": 73,
   "metadata": {},
   "outputs": [
    {
     "data": {
      "text/plain": [
       "22"
      ]
     },
     "execution_count": 73,
     "metadata": {},
     "output_type": "execute_result"
    }
   ],
   "source": [
    "# check how many stations are in out stations but not in rt stations\n",
    "# 這可能是對應不起來的資料，也可以被解釋成廢棄的車站\n",
    "len(out_station_set.difference(rt_stations))"
   ]
  },
  {
   "cell_type": "code",
   "execution_count": 6,
   "metadata": {},
   "outputs": [],
   "source": [
    "example = {'a':1,'a':123}"
   ]
  },
  {
   "cell_type": "code",
   "execution_count": 5,
   "metadata": {},
   "outputs": [
    {
     "data": {
      "text/plain": [
       "{1, 2, 3}"
      ]
     },
     "execution_count": 5,
     "metadata": {},
     "output_type": "execute_result"
    }
   ],
   "source": [
    "set(example)"
   ]
  },
  {
   "cell_type": "code",
   "execution_count": 75,
   "metadata": {},
   "outputs": [
    {
     "data": {
      "text/plain": [
       "{'3樓客服中心',\n",
       " '?公公園',\n",
       " nan,\n",
       " '中國醫藥大學附設醫院臺北分�',\n",
       " '中華峨嵋街口',\n",
       " '僑安地下停車場(2號出口)東南�',\n",
       " '公?承德路口',\n",
       " '天母東路8巷/忠誠路二段154巷�',\n",
       " '峨嵋停車場',\n",
       " '崇仰公園(公?路255巷)',\n",
       " '捷運北投站(1號出口)(北投路側',\n",
       " '捷運善導寺站(3號出口)(忠孝東',\n",
       " '捷運科技大樓站(台北教育大學',\n",
       " '捷運萬芳醫院站(興隆路三段115',\n",
       " '新生高架停車場(林森北路107巷',\n",
       " '民善新湖二路口(家樂福內湖店',\n",
       " '糖?文化園區',\n",
       " '臺北市立大學(忠誠路二段207巷',\n",
       " '臺北市電影主題公園(峨嵋街)',\n",
       " '重慶南海路口西南側',\n",
       " '銘傳大學(中山北路五段280巷口',\n",
       " '雍和科學園區'}"
      ]
     },
     "execution_count": 75,
     "metadata": {},
     "output_type": "execute_result"
    }
   ],
   "source": [
    "# list the stations that are in out stations but not in rt stations\n",
    "out_station_set.difference(rt_stations)"
   ]
  },
  {
   "cell_type": "markdown",
   "metadata": {},
   "source": [
    "### conclusion 2\n",
    "絕大多數的的車站都可以mapping起來\\\n",
    "但是有少數歷史紀錄的站別資料有誤，也可能有一些真的是廢棄的站別"
   ]
  }
 ],
 "metadata": {
  "kernelspec": {
   "display_name": ".venv",
   "language": "python",
   "name": "python3"
  },
  "language_info": {
   "codemirror_mode": {
    "name": "ipython",
    "version": 3
   },
   "file_extension": ".py",
   "mimetype": "text/x-python",
   "name": "python",
   "nbconvert_exporter": "python",
   "pygments_lexer": "ipython3",
   "version": "3.11.8"
  }
 },
 "nbformat": 4,
 "nbformat_minor": 2
}
