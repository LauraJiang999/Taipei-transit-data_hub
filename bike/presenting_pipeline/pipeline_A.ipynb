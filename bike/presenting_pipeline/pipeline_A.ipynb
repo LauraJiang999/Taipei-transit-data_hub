{
 "cells": [
  {
   "cell_type": "code",
   "execution_count": 1,
   "metadata": {},
   "outputs": [],
   "source": [
    "import pandas as pd\n",
    "import os\n",
    "import numpy as np\n",
    "from pathlib import Path"
   ]
  },
  {
   "cell_type": "code",
   "execution_count": 2,
   "metadata": {},
   "outputs": [],
   "source": [
    "bike_station = pd.read_csv('../bike/bike_usage_realtime.csv',index_col=0)"
   ]
  },
  {
   "cell_type": "code",
   "execution_count": 3,
   "metadata": {},
   "outputs": [],
   "source": [
    "bike_station['sarea'] = bike_station['sarea'].replace('臺大公館校區','大安區')"
   ]
  },
  {
   "cell_type": "code",
   "execution_count": 4,
   "metadata": {},
   "outputs": [],
   "source": [
    "bike_station.rename(\n",
    "    {\n",
    "        'sno':'bike_station_id',\n",
    "        'sna':'station_name',\n",
    "        'act':'disable',\n",
    "        'sarea':'district',\n",
    "        'latitude':'lat',\n",
    "        'longitude':'lng'\n",
    "\n",
    "    }\n",
    "    ,axis=1,\n",
    "    inplace=True\n",
    "                    )"
   ]
  },
  {
   "cell_type": "code",
   "execution_count": 5,
   "metadata": {},
   "outputs": [],
   "source": [
    "bike_station['city_code']='TPE'\n",
    "\n",
    "bike_station['station_name'] = bike_station['station_name'].apply(lambda x: x.split('_')[1])\n",
    "bike_station = bike_station[['bike_station_id','station_name',\n",
    "                             'city_code','district','lng','lat']]"
   ]
  },
  {
   "cell_type": "code",
   "execution_count": 21,
   "metadata": {},
   "outputs": [],
   "source": [
    "bike_station.to_csv('pipeline_A.csv',index=False)"
   ]
  }
 ],
 "metadata": {
  "kernelspec": {
   "display_name": ".venv",
   "language": "python",
   "name": "python3"
  },
  "language_info": {
   "codemirror_mode": {
    "name": "ipython",
    "version": 3
   },
   "file_extension": ".py",
   "mimetype": "text/x-python",
   "name": "python",
   "nbconvert_exporter": "python",
   "pygments_lexer": "ipython3",
   "version": "3.12.2"
  }
 },
 "nbformat": 4,
 "nbformat_minor": 2
}
