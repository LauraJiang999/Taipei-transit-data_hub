{
 "cells": [
  {
   "cell_type": "markdown",
   "metadata": {},
   "source": [
    "##### 將download_bike_usage_history_develop 整合在一起"
   ]
  },
  {
   "cell_type": "code",
   "execution_count": 5,
   "metadata": {},
   "outputs": [],
   "source": [
    "import pandas as pd\n",
    "import requests\n",
    "import zipfile\n",
    "from io import BytesIO\n",
    "import io"
   ]
  },
  {
   "cell_type": "code",
   "execution_count": 6,
   "metadata": {},
   "outputs": [],
   "source": [
    "import pandas as pd\n",
    "url=\"https://tcgbusfs.blob.core.windows.net/dotapp/youbike_second_ticket_opendata/YouBikeHis.csv\"\n",
    "df = pd.read_csv(url)\n"
   ]
  },
  {
   "cell_type": "code",
   "execution_count": null,
   "metadata": {},
   "outputs": [],
   "source": [
    "for index, row in df.iterrows():\n",
    "    try:\n",
    "        fileinfo = row['fileinfo']\n",
    "        fileURL = row['fileURL']\n",
    "        filename = fileinfo.replace(\"年\", \"_\").replace(\"月\", \"_bike_usage_history.csv\")\n",
    "        \n",
    "        response = requests.get(fileURL)\n",
    "        zip_content = BytesIO(response.content)\n",
    "\n",
    "        with zipfile.ZipFile(zip_content, 'r') as zip_ref:\n",
    "            data = zip_ref.namelist()\n",
    "            for file in data:\n",
    "                if '.csv' in file:\n",
    "                    file_in_zip = file\n",
    "            with zip_ref.open(file_in_zip) as csv_file:\n",
    "                transform_df = pd.read_csv(csv_file, header=None,encoding_errors='replace')\n",
    "\n",
    "        first_cell = transform_df.iloc[0,0]  \n",
    "        is_rent_time = first_cell == 'rent_time' \n",
    "        is_rent_time\n",
    "        if is_rent_time:\n",
    "            transform_df.columns = transform_df.iloc[0]\n",
    "            transform_df = transform_df.drop(0)\n",
    "            \n",
    "        transform_df.to_csv(filename)\n",
    "\n",
    "        print(filename, fileURL)\n",
    "    \n",
    "    except Exception as e:\n",
    "        print(f\"An error occurred for row {index}: {e}. Skipping to the next row...\")\n",
    "        continue\n"
   ]
  }
 ],
 "metadata": {
  "kernelspec": {
   "display_name": ".venv",
   "language": "python",
   "name": "python3"
  },
  "language_info": {
   "codemirror_mode": {
    "name": "ipython",
    "version": 3
   },
   "file_extension": ".py",
   "mimetype": "text/x-python",
   "name": "python",
   "nbconvert_exporter": "python",
   "pygments_lexer": "ipython3",
   "version": "3.12.2"
  }
 },
 "nbformat": 4,
 "nbformat_minor": 2
}
