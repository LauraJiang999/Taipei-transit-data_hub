{
 "cells": [
  {
   "cell_type": "code",
   "execution_count": 7,
   "metadata": {},
   "outputs": [],
   "source": [
    "# 從官網得到的API\n",
    "#https://apis.youbike.com.tw/json/station-yb1.json\n",
    "#https://apis.youbike.com.tw/json/station-yb2.json\n",
    "import requests\n",
    "import pandas as pd"
   ]
  },
  {
   "cell_type": "code",
   "execution_count": 16,
   "metadata": {},
   "outputs": [],
   "source": [
    "header = {\n",
    "    'User-Agent': 'Mozilla/5.0 (Macintosh; Intel Mac OS X 10_15_7) AppleWebKit/605.1.15 (KHTML, like Gecko) Version/17.1 Safari/605.1.15'\n",
    "}\n",
    "resp = requests.get('https://apis.youbike.com.tw/json/station-yb2.json',headers=header)"
   ]
  },
  {
   "cell_type": "code",
   "execution_count": 17,
   "metadata": {},
   "outputs": [],
   "source": [
    "df = pd.json_normalize(resp.json())"
   ]
  },
  {
   "cell_type": "code",
   "execution_count": 19,
   "metadata": {},
   "outputs": [
    {
     "data": {
      "text/plain": [
       "area_code\n",
       "00    1413\n",
       "01    1333\n",
       "12    1323\n",
       "05    1306\n",
       "13     443\n",
       "07     423\n",
       "08     146\n",
       "0B     137\n",
       "14     124\n",
       "09     102\n",
       "0A      66\n",
       "10      41\n",
       "Name: count, dtype: int64"
      ]
     },
     "execution_count": 19,
     "metadata": {},
     "output_type": "execute_result"
    }
   ],
   "source": [
    "df['area_code'].value_counts()"
   ]
  },
  {
   "cell_type": "code",
   "execution_count": 26,
   "metadata": {},
   "outputs": [],
   "source": [
    "#00 台北市\n",
    "#01 台中\n",
    "#12 高雄\n",
    "#05 新北"
   ]
  },
  {
   "cell_type": "code",
   "execution_count": 27,
   "metadata": {},
   "outputs": [],
   "source": [
    "df = df[df['area_code'].isin(['00','05'])]\n"
   ]
  },
  {
   "cell_type": "code",
   "execution_count": 29,
   "metadata": {},
   "outputs": [],
   "source": [
    "import numpy as np"
   ]
  },
  {
   "cell_type": "code",
   "execution_count": 30,
   "metadata": {},
   "outputs": [],
   "source": [
    "mapping = {'00':'TPE','05':'NWT'}"
   ]
  },
  {
   "cell_type": "code",
   "execution_count": 33,
   "metadata": {},
   "outputs": [],
   "source": [
    "df.loc[:,'city_code'] = df['area_code'].apply(lambda x: mapping[x])"
   ]
  },
  {
   "cell_type": "code",
   "execution_count": 35,
   "metadata": {},
   "outputs": [
    {
     "data": {
      "text/plain": [
       "Index(['country_code', 'area_code', 'type', 'status', 'station_no', 'name_tw',\n",
       "       'district_tw', 'address_tw', 'name_en', 'district_en', 'address_en',\n",
       "       'name_cn', 'district_cn', 'address_cn', 'parking_spaces',\n",
       "       'available_spaces', 'available_spaces_level', 'empty_spaces',\n",
       "       'forbidden_spaces', 'lat', 'lng', 'img', 'updated_at', 'time',\n",
       "       'available_spaces_detail.yb1', 'available_spaces_detail.yb2',\n",
       "       'available_spaces_detail.eyb', 'city_code'],\n",
       "      dtype='object')"
      ]
     },
     "execution_count": 35,
     "metadata": {},
     "output_type": "execute_result"
    }
   ],
   "source": [
    "df.columns"
   ]
  },
  {
   "cell_type": "code",
   "execution_count": 55,
   "metadata": {},
   "outputs": [],
   "source": [
    "keep_cols = ['station_no', 'name_tw',\n",
    "       'district_tw', 'address_tw','parking_spaces','lat', 'lng','city_code']\n",
    "df = df[keep_cols]"
   ]
  },
  {
   "cell_type": "code",
   "execution_count": 57,
   "metadata": {},
   "outputs": [],
   "source": [
    "df[df['city_code']=='NWT'].to_csv('NWT_bike_station.csv',index=False,encoding='utf-8')"
   ]
  },
  {
   "cell_type": "code",
   "execution_count": 58,
   "metadata": {},
   "outputs": [],
   "source": [
    "df[df['city_code']=='TPE'].to_csv('TPE_bike_station.csv',index=False,encoding='utf-8')"
   ]
  },
  {
   "cell_type": "code",
   "execution_count": 72,
   "metadata": {},
   "outputs": [],
   "source": [
    "## creating mapping json\n",
    "temp = df[df['city_code']=='TPE'][['name_tw','station_no']].set_index('name_tw')\n",
    "temp['station_no'].to_json('TPE_station_mapping.json',force_ascii=False)"
   ]
  },
  {
   "cell_type": "code",
   "execution_count": 73,
   "metadata": {},
   "outputs": [],
   "source": [
    "temp = df[df['city_code']=='NWT'][['name_tw','station_no']].set_index('name_tw')\n",
    "temp['station_no'].to_json('NWT_station_mapping.json',force_ascii=False)"
   ]
  },
  {
   "cell_type": "code",
   "execution_count": null,
   "metadata": {},
   "outputs": [],
   "source": []
  }
 ],
 "metadata": {
  "kernelspec": {
   "display_name": ".venv",
   "language": "python",
   "name": "python3"
  },
  "language_info": {
   "codemirror_mode": {
    "name": "ipython",
    "version": 3
   },
   "file_extension": ".py",
   "mimetype": "text/x-python",
   "name": "python",
   "nbconvert_exporter": "python",
   "pygments_lexer": "ipython3",
   "version": "3.12.2"
  }
 },
 "nbformat": 4,
 "nbformat_minor": 2
}
