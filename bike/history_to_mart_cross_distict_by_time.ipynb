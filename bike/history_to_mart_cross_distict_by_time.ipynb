{
 "cells": [
  {
   "cell_type": "code",
   "execution_count": 1,
   "metadata": {},
   "outputs": [],
   "source": [
    "import json\n",
    "import pandas as pd"
   ]
  },
  {
   "cell_type": "code",
   "execution_count": 2,
   "metadata": {},
   "outputs": [],
   "source": [
    "path=\"2023_7_bike_usage_history.csv\"\n",
    "df = pd.read_csv(path,index_col=0)"
   ]
  },
  {
   "cell_type": "code",
   "execution_count": 3,
   "metadata": {},
   "outputs": [],
   "source": [
    "df.columns=['lend_time','lend_station_name','return_time','return_station_name','usage_time','source_date']"
   ]
  },
  {
   "cell_type": "code",
   "execution_count": 4,
   "metadata": {},
   "outputs": [],
   "source": [
    "df['source_date'] = pd.to_datetime(df['source_date'])\n",
    "df['lend_date'] = pd.to_datetime(df['lend_time']).dt.date\n",
    "df['lend_hour'] = pd.to_datetime(df['lend_time']).dt.hour\n",
    "df['return_date'] = pd.to_datetime(df['return_time']).dt.date\n",
    "df['return_hour'] = pd.to_datetime(df['return_time']).dt.hour"
   ]
  },
  {
   "cell_type": "code",
   "execution_count": 5,
   "metadata": {},
   "outputs": [],
   "source": [
    "df = df.drop(['lend_time','return_time'],axis=1)\n",
    "df['usage_time'] = pd.to_timedelta(df['usage_time']).dt.total_seconds().astype('int')"
   ]
  },
  {
   "cell_type": "code",
   "execution_count": 6,
   "metadata": {},
   "outputs": [],
   "source": [
    "tpe_stations = pd.read_csv('TPE_bike_station.csv')\n",
    "nwt_stations = pd.read_csv('NWT_bike_station.csv')"
   ]
  },
  {
   "cell_type": "code",
   "execution_count": 7,
   "metadata": {},
   "outputs": [],
   "source": [
    "tpe_stations = tpe_stations[['station_no','name_tw','district_tw']]\n",
    "nwt_stations = nwt_stations[['station_no','name_tw','district_tw']]"
   ]
  },
  {
   "cell_type": "code",
   "execution_count": 8,
   "metadata": {},
   "outputs": [],
   "source": [
    "tpe_stations = tpe_stations.add_prefix('lend_')\n",
    "nwt_stations = nwt_stations.add_prefix('return_')"
   ]
  },
  {
   "cell_type": "code",
   "execution_count": 9,
   "metadata": {},
   "outputs": [],
   "source": [
    "df = df.merge(tpe_stations,how='inner',left_on='lend_station_name',right_on='lend_name_tw')"
   ]
  },
  {
   "cell_type": "code",
   "execution_count": 10,
   "metadata": {},
   "outputs": [],
   "source": [
    "df = df.merge(nwt_stations,how='inner',left_on='return_station_name',right_on='return_name_tw')"
   ]
  },
  {
   "cell_type": "code",
   "execution_count": 11,
   "metadata": {},
   "outputs": [],
   "source": [
    "df = df[(df['lend_date']==df['return_date']) & (df['lend_hour']==df['return_hour'])]"
   ]
  },
  {
   "cell_type": "code",
   "execution_count": 12,
   "metadata": {},
   "outputs": [],
   "source": [
    "df = df[['lend_date','lend_hour','lend_station_no','lend_station_name',\n",
    "    'lend_district_tw','return_station_no','return_station_name',\n",
    "    'return_district_tw']]"
   ]
  },
  {
   "cell_type": "code",
   "execution_count": 13,
   "metadata": {},
   "outputs": [],
   "source": [
    "by_station = df.groupby(by=df.columns.to_list(),as_index=False).size()"
   ]
  },
  {
   "cell_type": "code",
   "execution_count": 14,
   "metadata": {},
   "outputs": [],
   "source": [
    "by_station['day_of_week'] = pd.to_datetime(by_station['lend_date']).dt.day_of_week\n",
    "by_station['weekend'] = pd.to_datetime(by_station['lend_date']).dt.weekday.isin([5,6])"
   ]
  },
  {
   "cell_type": "code",
   "execution_count": 15,
   "metadata": {},
   "outputs": [],
   "source": [
    "by_station = by_station.rename(\n",
    "    {'lend_date':'date',\n",
    "     'lend_hour':'hour',\n",
    "     'lend_station_no':'lend_station_id',\n",
    "     'lend_district_tw':'lend_station_district',\n",
    "     'return_station_no':'return_station_id',\n",
    "     'return_district_tw':'return_station_district',\n",
    "     'size':'traffic_count'},axis=1\n",
    ")\n",
    "by_station = by_station[['date','hour','day_of_week','weekend',\n",
    "                        'lend_station_id','lend_station_name',\n",
    "                        'lend_station_district','return_station_id',\n",
    "                        'return_station_name','return_station_district',\n",
    "                        'traffic_count']]"
   ]
  },
  {
   "cell_type": "code",
   "execution_count": 107,
   "metadata": {},
   "outputs": [],
   "source": [
    "by_station.to_csv('by_station_single_month.csv',index=False)"
   ]
  },
  {
   "cell_type": "code",
   "execution_count": 17,
   "metadata": {},
   "outputs": [],
   "source": [
    "by_time = df.groupby(by=['lend_date', 'lend_hour'],as_index=False).size()"
   ]
  },
  {
   "cell_type": "code",
   "execution_count": 18,
   "metadata": {},
   "outputs": [],
   "source": [
    "by_time['day_of_week'] = pd.to_datetime(by_time['lend_date']).dt.day_of_week\n",
    "by_time['weekend'] = pd.to_datetime(by_time['lend_date']).dt.weekday.isin([5,6])"
   ]
  },
  {
   "cell_type": "code",
   "execution_count": 19,
   "metadata": {},
   "outputs": [],
   "source": [
    "by_time = by_time.rename(\n",
    "    {'lend_date':'date',\n",
    "     'lend_hour':'hour',\n",
    "     'size':'traffic_count'},axis=1)\n",
    "by_time = by_time[['date','hour','day_of_week','weekend','traffic_count']]"
   ]
  },
  {
   "cell_type": "code",
   "execution_count": 20,
   "metadata": {},
   "outputs": [
    {
     "data": {
      "text/html": [
       "<div>\n",
       "<style scoped>\n",
       "    .dataframe tbody tr th:only-of-type {\n",
       "        vertical-align: middle;\n",
       "    }\n",
       "\n",
       "    .dataframe tbody tr th {\n",
       "        vertical-align: top;\n",
       "    }\n",
       "\n",
       "    .dataframe thead th {\n",
       "        text-align: right;\n",
       "    }\n",
       "</style>\n",
       "<table border=\"1\" class=\"dataframe\">\n",
       "  <thead>\n",
       "    <tr style=\"text-align: right;\">\n",
       "      <th></th>\n",
       "      <th>date</th>\n",
       "      <th>hour</th>\n",
       "      <th>day_of_week</th>\n",
       "      <th>weekend</th>\n",
       "      <th>traffic_count</th>\n",
       "    </tr>\n",
       "  </thead>\n",
       "  <tbody>\n",
       "    <tr>\n",
       "      <th>0</th>\n",
       "      <td>2023-07-01</td>\n",
       "      <td>0</td>\n",
       "      <td>5</td>\n",
       "      <td>True</td>\n",
       "      <td>53</td>\n",
       "    </tr>\n",
       "    <tr>\n",
       "      <th>1</th>\n",
       "      <td>2023-07-01</td>\n",
       "      <td>1</td>\n",
       "      <td>5</td>\n",
       "      <td>True</td>\n",
       "      <td>41</td>\n",
       "    </tr>\n",
       "    <tr>\n",
       "      <th>2</th>\n",
       "      <td>2023-07-01</td>\n",
       "      <td>2</td>\n",
       "      <td>5</td>\n",
       "      <td>True</td>\n",
       "      <td>19</td>\n",
       "    </tr>\n",
       "    <tr>\n",
       "      <th>3</th>\n",
       "      <td>2023-07-01</td>\n",
       "      <td>3</td>\n",
       "      <td>5</td>\n",
       "      <td>True</td>\n",
       "      <td>21</td>\n",
       "    </tr>\n",
       "    <tr>\n",
       "      <th>4</th>\n",
       "      <td>2023-07-01</td>\n",
       "      <td>4</td>\n",
       "      <td>5</td>\n",
       "      <td>True</td>\n",
       "      <td>9</td>\n",
       "    </tr>\n",
       "    <tr>\n",
       "      <th>...</th>\n",
       "      <td>...</td>\n",
       "      <td>...</td>\n",
       "      <td>...</td>\n",
       "      <td>...</td>\n",
       "      <td>...</td>\n",
       "    </tr>\n",
       "    <tr>\n",
       "      <th>739</th>\n",
       "      <td>2023-07-31</td>\n",
       "      <td>19</td>\n",
       "      <td>0</td>\n",
       "      <td>False</td>\n",
       "      <td>115</td>\n",
       "    </tr>\n",
       "    <tr>\n",
       "      <th>740</th>\n",
       "      <td>2023-07-31</td>\n",
       "      <td>20</td>\n",
       "      <td>0</td>\n",
       "      <td>False</td>\n",
       "      <td>84</td>\n",
       "    </tr>\n",
       "    <tr>\n",
       "      <th>741</th>\n",
       "      <td>2023-07-31</td>\n",
       "      <td>21</td>\n",
       "      <td>0</td>\n",
       "      <td>False</td>\n",
       "      <td>70</td>\n",
       "    </tr>\n",
       "    <tr>\n",
       "      <th>742</th>\n",
       "      <td>2023-07-31</td>\n",
       "      <td>22</td>\n",
       "      <td>0</td>\n",
       "      <td>False</td>\n",
       "      <td>55</td>\n",
       "    </tr>\n",
       "    <tr>\n",
       "      <th>743</th>\n",
       "      <td>2023-07-31</td>\n",
       "      <td>23</td>\n",
       "      <td>0</td>\n",
       "      <td>False</td>\n",
       "      <td>9</td>\n",
       "    </tr>\n",
       "  </tbody>\n",
       "</table>\n",
       "<p>744 rows × 5 columns</p>\n",
       "</div>"
      ],
      "text/plain": [
       "           date  hour  day_of_week  weekend  traffic_count\n",
       "0    2023-07-01     0            5     True             53\n",
       "1    2023-07-01     1            5     True             41\n",
       "2    2023-07-01     2            5     True             19\n",
       "3    2023-07-01     3            5     True             21\n",
       "4    2023-07-01     4            5     True              9\n",
       "..          ...   ...          ...      ...            ...\n",
       "739  2023-07-31    19            0    False            115\n",
       "740  2023-07-31    20            0    False             84\n",
       "741  2023-07-31    21            0    False             70\n",
       "742  2023-07-31    22            0    False             55\n",
       "743  2023-07-31    23            0    False              9\n",
       "\n",
       "[744 rows x 5 columns]"
      ]
     },
     "execution_count": 20,
     "metadata": {},
     "output_type": "execute_result"
    }
   ],
   "source": [
    "by_time"
   ]
  },
  {
   "cell_type": "code",
   "execution_count": 113,
   "metadata": {},
   "outputs": [],
   "source": [
    "by_time.to_csv('by_time_single_month.csv',index=False)"
   ]
  }
 ],
 "metadata": {
  "kernelspec": {
   "display_name": ".venv",
   "language": "python",
   "name": "python3"
  },
  "language_info": {
   "codemirror_mode": {
    "name": "ipython",
    "version": 3
   },
   "file_extension": ".py",
   "mimetype": "text/x-python",
   "name": "python",
   "nbconvert_exporter": "python",
   "pygments_lexer": "ipython3",
   "version": "3.12.2"
  }
 },
 "nbformat": 4,
 "nbformat_minor": 2
}
