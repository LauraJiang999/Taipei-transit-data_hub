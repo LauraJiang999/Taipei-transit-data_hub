{
 "cells": [
  {
   "cell_type": "code",
   "execution_count": 26,
   "metadata": {},
   "outputs": [],
   "source": [
    "import json\n",
    "import pandas as pd"
   ]
  },
  {
   "cell_type": "code",
   "execution_count": 27,
   "metadata": {},
   "outputs": [],
   "source": [
    "path=\"2023_7_bike_usage_history.csv\"\n",
    "df = pd.read_csv(path,index_col=0)"
   ]
  },
  {
   "cell_type": "code",
   "execution_count": 28,
   "metadata": {},
   "outputs": [],
   "source": [
    "df.columns=['lend_time','lend_station_name','return_time','return_station_name','usage_time','source_date']"
   ]
  },
  {
   "cell_type": "code",
   "execution_count": 29,
   "metadata": {},
   "outputs": [],
   "source": [
    "df['source_date'] = pd.to_datetime(df['source_date'])\n",
    "df['lend_date'] = pd.to_datetime(df['lend_time']).dt.date\n",
    "df['lend_hour'] = pd.to_datetime(df['lend_time']).dt.hour\n",
    "df['return_date'] = pd.to_datetime(df['return_time']).dt.date\n",
    "df['return_hour'] = pd.to_datetime(df['return_time']).dt.hour"
   ]
  },
  {
   "cell_type": "code",
   "execution_count": 30,
   "metadata": {},
   "outputs": [],
   "source": [
    "df = df.drop(['lend_time','return_time'],axis=1)\n",
    "df['usage_time'] = pd.to_timedelta(df['usage_time']).dt.total_seconds().astype('int')"
   ]
  },
  {
   "cell_type": "code",
   "execution_count": 32,
   "metadata": {},
   "outputs": [],
   "source": [
    "tpe_stations = pd.read_csv('TPE_bike_station.csv')\n",
    "nwt_stations = pd.read_csv('NWT_bike_station.csv')"
   ]
  },
  {
   "cell_type": "code",
   "execution_count": 35,
   "metadata": {},
   "outputs": [],
   "source": [
    "tpe_stations = tpe_stations[['station_no','name_tw','district_tw']]\n",
    "nwt_stations = nwt_stations[['station_no','name_tw','district_tw']]"
   ]
  },
  {
   "cell_type": "code",
   "execution_count": 46,
   "metadata": {},
   "outputs": [],
   "source": [
    "tpe_stations = tpe_stations.add_prefix('lend_')\n",
    "nwt_stations = nwt_stations.add_prefix('return_')"
   ]
  },
  {
   "cell_type": "code",
   "execution_count": 48,
   "metadata": {},
   "outputs": [],
   "source": [
    "df = df.merge(tpe_stations,how='inner',left_on='lend_station_name',right_on='lend_name_tw')"
   ]
  },
  {
   "cell_type": "code",
   "execution_count": 50,
   "metadata": {},
   "outputs": [],
   "source": [
    "df = df.merge(nwt_stations,how='inner',left_on='return_station_name',right_on='return_name_tw')"
   ]
  },
  {
   "cell_type": "code",
   "execution_count": 56,
   "metadata": {},
   "outputs": [],
   "source": [
    "df = df[(df['lend_date']==df['return_date']) & (df['lend_hour']==df['return_hour'])]"
   ]
  },
  {
   "cell_type": "code",
   "execution_count": 84,
   "metadata": {},
   "outputs": [],
   "source": [
    "df = df[['lend_date','lend_hour','lend_station_no','lend_station_name',\n",
    "    'lend_district_tw','return_station_no','return_station_name',\n",
    "    'return_district_tw']]"
   ]
  },
  {
   "cell_type": "code",
   "execution_count": 88,
   "metadata": {},
   "outputs": [],
   "source": [
    "by_station = df.groupby(by=df.columns.to_list(),as_index=False).size()"
   ]
  },
  {
   "cell_type": "code",
   "execution_count": 94,
   "metadata": {},
   "outputs": [],
   "source": [
    "by_station['day_of_week'] = pd.to_datetime(by_station['lend_date']).dt.day_of_week\n",
    "by_station['weekend'] = pd.to_datetime(by_station['lend_date']).dt.weekday.isin([5,6])"
   ]
  },
  {
   "cell_type": "code",
   "execution_count": 104,
   "metadata": {},
   "outputs": [],
   "source": [
    "by_station = by_station.rename(\n",
    "    {'lend_date':'date',\n",
    "     'lend_hour':'hour',\n",
    "     'lend_station_no':'lend_station_id',\n",
    "     'lend_district_tw':'lend_station_district',\n",
    "     'return_station_no':'return_station_id',\n",
    "     'return_district_tw':'return_station_district',\n",
    "     'size':'traffic_count'},axis=1\n",
    ")\n",
    "by_station = by_station[['date','hour','day_of_week','weekend',\n",
    "                        'lend_station_id','lend_station_name',\n",
    "                        'lend_station_district','return_station_id',\n",
    "                        'return_station_name','return_station_district',\n",
    "                        'traffic_count']]"
   ]
  },
  {
   "cell_type": "code",
   "execution_count": 107,
   "metadata": {},
   "outputs": [],
   "source": [
    "by_station.to_csv('by_station_single_month.csv',index=False)"
   ]
  },
  {
   "cell_type": "code",
   "execution_count": 108,
   "metadata": {},
   "outputs": [],
   "source": [
    "by_time = df.groupby(by=['lend_date', 'lend_hour'],as_index=False).size()"
   ]
  },
  {
   "cell_type": "code",
   "execution_count": 110,
   "metadata": {},
   "outputs": [],
   "source": [
    "by_time['day_of_week'] = pd.to_datetime(by_time['lend_date']).dt.day_of_week\n",
    "by_time['weekend'] = pd.to_datetime(by_time['lend_date']).dt.weekday.isin([5,6])"
   ]
  },
  {
   "cell_type": "code",
   "execution_count": 112,
   "metadata": {},
   "outputs": [],
   "source": [
    "by_time = by_time.rename(\n",
    "    {'lend_date':'date',\n",
    "     'lend_hour':'hour',\n",
    "     'size':'traffic_count'},axis=1)\n",
    "by_time = by_time[['date','hour','day_of_week','weekend','traffic_count']]"
   ]
  },
  {
   "cell_type": "code",
   "execution_count": 113,
   "metadata": {},
   "outputs": [],
   "source": [
    "by_time.to_csv('by_time_single_month.csv',index=False)"
   ]
  }
 ],
 "metadata": {
  "kernelspec": {
   "display_name": ".venv",
   "language": "python",
   "name": "python3"
  },
  "language_info": {
   "codemirror_mode": {
    "name": "ipython",
    "version": 3
   },
   "file_extension": ".py",
   "mimetype": "text/x-python",
   "name": "python",
   "nbconvert_exporter": "python",
   "pygments_lexer": "ipython3",
   "version": "3.12.2"
  }
 },
 "nbformat": 4,
 "nbformat_minor": 2
}
