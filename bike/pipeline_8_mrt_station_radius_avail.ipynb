{
 "cells": [
  {
   "cell_type": "code",
   "execution_count": 1,
   "metadata": {},
   "outputs": [],
   "source": [
    "import pandas as pd\n",
    "import os\n",
    "import geopy.distance\n",
    "import numpy as np\n",
    "from tqdm import tqdm\n",
    "from pathlib import Path"
   ]
  },
  {
   "cell_type": "code",
   "execution_count": 2,
   "metadata": {},
   "outputs": [],
   "source": [
    "RADIUS = 500"
   ]
  },
  {
   "cell_type": "code",
   "execution_count": 3,
   "metadata": {},
   "outputs": [],
   "source": [
    "mrt_station = pd.read_csv('../MRT/mrt_station.csv')\n",
    "\n"
   ]
  },
  {
   "cell_type": "code",
   "execution_count": 4,
   "metadata": {},
   "outputs": [],
   "source": [
    "# MRT_station_name: str\n",
    "# city_code: str\n",
    "# district: str\n",
    "# station_lat: decimal\n",
    "# station_lng: decimal\n",
    "\n",
    "mrt_station = mrt_station[['StationName.Zh_tw','LocationCityCode', 'LocationTown','StationPosition.PositionLon',\n",
    "       'StationPosition.PositionLat']]\n",
    "mrt_station = mrt_station.rename(\n",
    "    {\n",
    "        'StationName.Zh_tw':'MRT_station_name',\n",
    "        'LocationCityCode':'city_code',\n",
    "        'LocationTown':'district',\n",
    "        'StationPosition.PositionLat':'station_lat',\n",
    "        'StationPosition.PositionLon':'station_lng'\n",
    "    },axis=1)\n",
    "\n",
    "mrt_station = mrt_station[['MRT_station_name','city_code','district','station_lat','station_lng']]"
   ]
  },
  {
   "cell_type": "code",
   "execution_count": 5,
   "metadata": {},
   "outputs": [],
   "source": [
    "mrt_station = mrt_station.drop_duplicates(subset='MRT_station_name')"
   ]
  },
  {
   "cell_type": "code",
   "execution_count": 6,
   "metadata": {},
   "outputs": [],
   "source": [
    "target_stations = ['民權西路','中山','台北車站','中正紀念堂',\n",
    "      '東門','大安','西門','忠孝新生','忠孝復興',\n",
    "      '南京復興','松江南京','古亭','西湖','港墘','南港']"
   ]
  },
  {
   "cell_type": "code",
   "execution_count": 7,
   "metadata": {},
   "outputs": [
    {
     "data": {
      "text/plain": [
       "15"
      ]
     },
     "execution_count": 7,
     "metadata": {},
     "output_type": "execute_result"
    }
   ],
   "source": [
    "len(target_stations)"
   ]
  },
  {
   "cell_type": "code",
   "execution_count": 8,
   "metadata": {},
   "outputs": [],
   "source": [
    "mrt_station = mrt_station[mrt_station['MRT_station_name'].isin(target_stations)]"
   ]
  },
  {
   "cell_type": "code",
   "execution_count": 9,
   "metadata": {},
   "outputs": [],
   "source": [
    "target_stations = mrt_station['MRT_station_name'].to_list()"
   ]
  },
  {
   "cell_type": "code",
   "execution_count": 10,
   "metadata": {},
   "outputs": [],
   "source": [
    "bike_station = pd.read_csv('../bike/bike_usage_realtime.csv',index_col=0)\n",
    "bike_station['sarea'] = bike_station['sarea'].replace('臺大公館校區','大安區')\n",
    "bike_station = bike_station.rename(\n",
    "    {\n",
    "        'sna':'Bike_station_name',\n",
    "        'sarea':'district',\n",
    "        'latitude':'station_lat',\n",
    "        'longitude':'station_lng'\n",
    "\n",
    "    }\n",
    "    ,axis=1)\n",
    "bike_station['city_code']='TPE'\n",
    "\n",
    "bike_station['Bike_station_name'] = bike_station['Bike_station_name'].apply(lambda x: x.split('_')[1])\n",
    "bike_station = bike_station[['Bike_station_name','district',\n",
    "                             'city_code','total','station_lat','station_lng']]"
   ]
  },
  {
   "cell_type": "code",
   "execution_count": 11,
   "metadata": {},
   "outputs": [
    {
     "name": "stderr",
     "output_type": "stream",
     "text": [
      "100%|██████████| 15/15 [00:00<00:00, 15.04it/s]\n"
     ]
    }
   ],
   "source": [
    "bike_coords = bike_station[['station_lat', 'station_lng']].to_numpy()\n",
    "mrt_coords = mrt_station[['station_lat', 'station_lng']].to_numpy()\n",
    "\n",
    "# Initialize a matrix to store distances\n",
    "dist_matrix = np.zeros((len(mrt_coords), len(bike_coords)))\n",
    "\n",
    "# Compute geodesic distance between each pair of points\n",
    "for i in tqdm(range(len(mrt_coords))):\n",
    "    for j in range(len(bike_coords)):\n",
    "        dist = geopy.distance.geodesic(mrt_coords[i], bike_coords[j]).m\n",
    "        dist_matrix[i, j] = dist"
   ]
  },
  {
   "cell_type": "code",
   "execution_count": 12,
   "metadata": {},
   "outputs": [],
   "source": [
    "ubike_rt = pd.read_csv('ubike_0501.csv',index_col=0)\n",
    "ubike_rt.drop_duplicates(inplace=True)\n",
    "ubike_rt['sarea'] = ubike_rt['sarea'].replace('臺大公館校區','大安區')\n",
    "ubike_rt['sna'] = ubike_rt['sna'].apply(lambda x: x.split('_')[1])\n"
   ]
  },
  {
   "cell_type": "code",
   "execution_count": 13,
   "metadata": {},
   "outputs": [],
   "source": [
    "ubike_rt['thres'] = np.min(np.column_stack(((ubike_rt['tot']*0.1).to_numpy(),np.full(len(ubike_rt),5))),axis=1)\n",
    "def almost_empty(row):\n",
    "    bike = row['sbi']\n",
    "    thres = row['thres']\n",
    "    if bike <thres:\n",
    "        return True\n",
    "    else:\n",
    "        return False"
   ]
  },
  {
   "cell_type": "code",
   "execution_count": 14,
   "metadata": {},
   "outputs": [],
   "source": [
    "ubike_rt['almost_empty'] = ubike_rt.apply(almost_empty,axis=1)\n",
    "ubike_rt['is_empty'] = ubike_rt['sbi']==0\n",
    "ubike_rt['date'] = pd.to_datetime(ubike_rt['updateTime']).dt.date\n",
    "ubike_rt['hour'] = pd.to_datetime(ubike_rt['updateTime']).dt.hour\n",
    "ubike_rt['min'] = (pd.to_datetime(ubike_rt['updateTime']).dt.minute)//10*10"
   ]
  },
  {
   "cell_type": "code",
   "execution_count": 15,
   "metadata": {},
   "outputs": [],
   "source": [
    "ubike_rt = ubike_rt.drop(['ar', 'aren', 'infoDate', 'infoTime', 'mday','updateTime',\n",
    "       'srcUpdateTime','sarea', 'sareaen', 'snaen', 'sno'],axis=1)"
   ]
  },
  {
   "cell_type": "code",
   "execution_count": 16,
   "metadata": {},
   "outputs": [
    {
     "name": "stdout",
     "output_type": "stream",
     "text": [
      "西門 (11, 6)\n",
      "台北車站 (13, 6)\n",
      "忠孝新生 (19, 6)\n",
      "忠孝復興 (17, 6)\n",
      "南港 (9, 6)\n",
      "大安 (12, 6)\n",
      "南京復興 (15, 6)\n",
      "西湖 (16, 6)\n",
      "港墘 (16, 6)\n",
      "古亭 (15, 6)\n",
      "中正紀念堂 (10, 6)\n",
      "中山 (8, 6)\n",
      "松江南京 (20, 6)\n",
      "東門 (9, 6)\n",
      "民權西路 (17, 6)\n"
     ]
    }
   ],
   "source": [
    "for idx, station in enumerate(target_stations):\n",
    "    youbike_dist_to_station = dist_matrix[idx]\n",
    "    youbike_index = np.where(youbike_dist_to_station<RADIUS)[0]\n",
    "    print(station,bike_station.iloc[youbike_index].shape)\n",
    "    # if idx==0:\n",
    "    #     break"
   ]
  },
  {
   "cell_type": "code",
   "execution_count": 17,
   "metadata": {},
   "outputs": [],
   "source": [
    "result = None\n",
    "for idx, station in enumerate(target_stations):\n",
    "    youbike_dist_to_station = dist_matrix[idx]\n",
    "    youbike_index = np.where(youbike_dist_to_station<300)[0]\n",
    "    bike_station_in_area = bike_station.iloc[youbike_index]\n",
    "    subset = ubike_rt[ubike_rt['sna'].isin(bike_station_in_area['Bike_station_name'])]\n",
    "    subset = subset.drop_duplicates(subset=['sna','date','hour','min'])\n",
    "    subset = subset.reset_index(drop=True)\n",
    "    subset = subset.groupby(['date','hour','min'],as_index=False)[['almost_empty','is_empty']].mean()\n",
    "    single_mrt = mrt_station.iloc[idx].to_frame().T\n",
    "    single_mrt['key'] = 0\n",
    "    subset['key'] = 0\n",
    "    single_mrt = single_mrt.merge(subset,on='key',how='outer')\n",
    "    if result is None:\n",
    "        result = single_mrt.copy(deep=True)\n",
    "    else:\n",
    "        result = pd.concat([result,single_mrt],ignore_index=True)\n",
    "    "
   ]
  },
  {
   "cell_type": "code",
   "execution_count": 18,
   "metadata": {},
   "outputs": [
    {
     "data": {
      "text/html": [
       "<div>\n",
       "<style scoped>\n",
       "    .dataframe tbody tr th:only-of-type {\n",
       "        vertical-align: middle;\n",
       "    }\n",
       "\n",
       "    .dataframe tbody tr th {\n",
       "        vertical-align: top;\n",
       "    }\n",
       "\n",
       "    .dataframe thead th {\n",
       "        text-align: right;\n",
       "    }\n",
       "</style>\n",
       "<table border=\"1\" class=\"dataframe\">\n",
       "  <thead>\n",
       "    <tr style=\"text-align: right;\">\n",
       "      <th></th>\n",
       "      <th>MRT_station_name</th>\n",
       "      <th>city_code</th>\n",
       "      <th>district</th>\n",
       "      <th>station_lat</th>\n",
       "      <th>station_lng</th>\n",
       "      <th>key</th>\n",
       "      <th>date</th>\n",
       "      <th>hour</th>\n",
       "      <th>min</th>\n",
       "      <th>almost_empty</th>\n",
       "      <th>is_empty</th>\n",
       "    </tr>\n",
       "  </thead>\n",
       "  <tbody>\n",
       "    <tr>\n",
       "      <th>0</th>\n",
       "      <td>西門</td>\n",
       "      <td>TPE</td>\n",
       "      <td>中正區</td>\n",
       "      <td>25.042274</td>\n",
       "      <td>121.508511</td>\n",
       "      <td>0</td>\n",
       "      <td>2024-04-16</td>\n",
       "      <td>22</td>\n",
       "      <td>20</td>\n",
       "      <td>1.000000</td>\n",
       "      <td>0.428571</td>\n",
       "    </tr>\n",
       "    <tr>\n",
       "      <th>1</th>\n",
       "      <td>西門</td>\n",
       "      <td>TPE</td>\n",
       "      <td>中正區</td>\n",
       "      <td>25.042274</td>\n",
       "      <td>121.508511</td>\n",
       "      <td>0</td>\n",
       "      <td>2024-04-16</td>\n",
       "      <td>22</td>\n",
       "      <td>30</td>\n",
       "      <td>1.000000</td>\n",
       "      <td>0.428571</td>\n",
       "    </tr>\n",
       "    <tr>\n",
       "      <th>2</th>\n",
       "      <td>西門</td>\n",
       "      <td>TPE</td>\n",
       "      <td>中正區</td>\n",
       "      <td>25.042274</td>\n",
       "      <td>121.508511</td>\n",
       "      <td>0</td>\n",
       "      <td>2024-04-16</td>\n",
       "      <td>22</td>\n",
       "      <td>40</td>\n",
       "      <td>1.000000</td>\n",
       "      <td>0.714286</td>\n",
       "    </tr>\n",
       "    <tr>\n",
       "      <th>3</th>\n",
       "      <td>西門</td>\n",
       "      <td>TPE</td>\n",
       "      <td>中正區</td>\n",
       "      <td>25.042274</td>\n",
       "      <td>121.508511</td>\n",
       "      <td>0</td>\n",
       "      <td>2024-04-16</td>\n",
       "      <td>22</td>\n",
       "      <td>50</td>\n",
       "      <td>1.000000</td>\n",
       "      <td>0.714286</td>\n",
       "    </tr>\n",
       "    <tr>\n",
       "      <th>4</th>\n",
       "      <td>西門</td>\n",
       "      <td>TPE</td>\n",
       "      <td>中正區</td>\n",
       "      <td>25.042274</td>\n",
       "      <td>121.508511</td>\n",
       "      <td>0</td>\n",
       "      <td>2024-04-16</td>\n",
       "      <td>23</td>\n",
       "      <td>0</td>\n",
       "      <td>0.857143</td>\n",
       "      <td>0.857143</td>\n",
       "    </tr>\n",
       "    <tr>\n",
       "      <th>...</th>\n",
       "      <td>...</td>\n",
       "      <td>...</td>\n",
       "      <td>...</td>\n",
       "      <td>...</td>\n",
       "      <td>...</td>\n",
       "      <td>...</td>\n",
       "      <td>...</td>\n",
       "      <td>...</td>\n",
       "      <td>...</td>\n",
       "      <td>...</td>\n",
       "      <td>...</td>\n",
       "    </tr>\n",
       "    <tr>\n",
       "      <th>27835</th>\n",
       "      <td>民權西路</td>\n",
       "      <td>TPE</td>\n",
       "      <td>中山區</td>\n",
       "      <td>25.06235</td>\n",
       "      <td>121.519585</td>\n",
       "      <td>0</td>\n",
       "      <td>2024-04-29</td>\n",
       "      <td>19</td>\n",
       "      <td>40</td>\n",
       "      <td>0.571429</td>\n",
       "      <td>0.142857</td>\n",
       "    </tr>\n",
       "    <tr>\n",
       "      <th>27836</th>\n",
       "      <td>民權西路</td>\n",
       "      <td>TPE</td>\n",
       "      <td>中山區</td>\n",
       "      <td>25.06235</td>\n",
       "      <td>121.519585</td>\n",
       "      <td>0</td>\n",
       "      <td>2024-04-29</td>\n",
       "      <td>19</td>\n",
       "      <td>50</td>\n",
       "      <td>0.714286</td>\n",
       "      <td>0.428571</td>\n",
       "    </tr>\n",
       "    <tr>\n",
       "      <th>27837</th>\n",
       "      <td>民權西路</td>\n",
       "      <td>TPE</td>\n",
       "      <td>中山區</td>\n",
       "      <td>25.06235</td>\n",
       "      <td>121.519585</td>\n",
       "      <td>0</td>\n",
       "      <td>2024-04-29</td>\n",
       "      <td>20</td>\n",
       "      <td>0</td>\n",
       "      <td>0.714286</td>\n",
       "      <td>0.285714</td>\n",
       "    </tr>\n",
       "    <tr>\n",
       "      <th>27838</th>\n",
       "      <td>民權西路</td>\n",
       "      <td>TPE</td>\n",
       "      <td>中山區</td>\n",
       "      <td>25.06235</td>\n",
       "      <td>121.519585</td>\n",
       "      <td>0</td>\n",
       "      <td>2024-05-01</td>\n",
       "      <td>19</td>\n",
       "      <td>40</td>\n",
       "      <td>0.571429</td>\n",
       "      <td>0.142857</td>\n",
       "    </tr>\n",
       "    <tr>\n",
       "      <th>27839</th>\n",
       "      <td>民權西路</td>\n",
       "      <td>TPE</td>\n",
       "      <td>中山區</td>\n",
       "      <td>25.06235</td>\n",
       "      <td>121.519585</td>\n",
       "      <td>0</td>\n",
       "      <td>2024-05-01</td>\n",
       "      <td>19</td>\n",
       "      <td>50</td>\n",
       "      <td>0.428571</td>\n",
       "      <td>0.000000</td>\n",
       "    </tr>\n",
       "  </tbody>\n",
       "</table>\n",
       "<p>27840 rows × 11 columns</p>\n",
       "</div>"
      ],
      "text/plain": [
       "      MRT_station_name city_code district station_lat station_lng  key  \\\n",
       "0                   西門       TPE      中正區   25.042274  121.508511    0   \n",
       "1                   西門       TPE      中正區   25.042274  121.508511    0   \n",
       "2                   西門       TPE      中正區   25.042274  121.508511    0   \n",
       "3                   西門       TPE      中正區   25.042274  121.508511    0   \n",
       "4                   西門       TPE      中正區   25.042274  121.508511    0   \n",
       "...                ...       ...      ...         ...         ...  ...   \n",
       "27835             民權西路       TPE      中山區    25.06235  121.519585    0   \n",
       "27836             民權西路       TPE      中山區    25.06235  121.519585    0   \n",
       "27837             民權西路       TPE      中山區    25.06235  121.519585    0   \n",
       "27838             民權西路       TPE      中山區    25.06235  121.519585    0   \n",
       "27839             民權西路       TPE      中山區    25.06235  121.519585    0   \n",
       "\n",
       "             date  hour  min  almost_empty  is_empty  \n",
       "0      2024-04-16    22   20      1.000000  0.428571  \n",
       "1      2024-04-16    22   30      1.000000  0.428571  \n",
       "2      2024-04-16    22   40      1.000000  0.714286  \n",
       "3      2024-04-16    22   50      1.000000  0.714286  \n",
       "4      2024-04-16    23    0      0.857143  0.857143  \n",
       "...           ...   ...  ...           ...       ...  \n",
       "27835  2024-04-29    19   40      0.571429  0.142857  \n",
       "27836  2024-04-29    19   50      0.714286  0.428571  \n",
       "27837  2024-04-29    20    0      0.714286  0.285714  \n",
       "27838  2024-05-01    19   40      0.571429  0.142857  \n",
       "27839  2024-05-01    19   50      0.428571  0.000000  \n",
       "\n",
       "[27840 rows x 11 columns]"
      ]
     },
     "execution_count": 18,
     "metadata": {},
     "output_type": "execute_result"
    }
   ],
   "source": [
    "result"
   ]
  },
  {
   "cell_type": "code",
   "execution_count": 19,
   "metadata": {},
   "outputs": [],
   "source": [
    "import datetime"
   ]
  },
  {
   "cell_type": "code",
   "execution_count": 20,
   "metadata": {},
   "outputs": [],
   "source": [
    "def create_dt_from_row(row):\n",
    "    year = row['date'].year\n",
    "    month = row['date'].month\n",
    "    day = row['date'].day\n",
    "    return datetime.datetime(year,month,day,row['hour'],row['min'])"
   ]
  },
  {
   "cell_type": "code",
   "execution_count": 21,
   "metadata": {},
   "outputs": [],
   "source": [
    "result['timestamp'] = result.apply(lambda row:create_dt_from_row(row),axis=1)"
   ]
  },
  {
   "cell_type": "code",
   "execution_count": 22,
   "metadata": {},
   "outputs": [],
   "source": [
    "result.to_csv(f'pipeline_8_R{RADIUS}.csv',index=False)"
   ]
  },
  {
   "cell_type": "code",
   "execution_count": null,
   "metadata": {},
   "outputs": [],
   "source": []
  }
 ],
 "metadata": {
  "kernelspec": {
   "display_name": ".venv",
   "language": "python",
   "name": "python3"
  },
  "language_info": {
   "codemirror_mode": {
    "name": "ipython",
    "version": 3
   },
   "file_extension": ".py",
   "mimetype": "text/x-python",
   "name": "python",
   "nbconvert_exporter": "python",
   "pygments_lexer": "ipython3",
   "version": "3.12.2"
  }
 },
 "nbformat": 4,
 "nbformat_minor": 2
}
