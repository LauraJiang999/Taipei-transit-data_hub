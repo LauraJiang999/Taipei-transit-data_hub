{
 "cells": [
  {
   "cell_type": "markdown",
   "metadata": {},
   "source": [
    "##### 從「臺北市公共自行車2.0租借紀錄」- 讀取「資料資源下載網址」"
   ]
  },
  {
   "cell_type": "code",
   "execution_count": 3,
   "metadata": {},
   "outputs": [],
   "source": [
    "import pandas as pd\n",
    "import requests\n",
    "import zipfile\n",
    "from io import BytesIO\n",
    "import io"
   ]
  },
  {
   "cell_type": "code",
   "execution_count": 4,
   "metadata": {},
   "outputs": [],
   "source": [
    "import pandas as pd\n",
    "url=\"https://tcgbusfs.blob.core.windows.net/dotapp/youbike_second_ticket_opendata/YouBikeHis.csv\"\n",
    "df = pd.read_csv(url)\n"
   ]
  },
  {
   "cell_type": "markdown",
   "metadata": {},
   "source": [
    "#### 讀取資料發現fileurl 是zip檔"
   ]
  },
  {
   "cell_type": "code",
   "execution_count": 5,
   "metadata": {},
   "outputs": [
    {
     "data": {
      "text/html": [
       "<div>\n",
       "<style scoped>\n",
       "    .dataframe tbody tr th:only-of-type {\n",
       "        vertical-align: middle;\n",
       "    }\n",
       "\n",
       "    .dataframe tbody tr th {\n",
       "        vertical-align: top;\n",
       "    }\n",
       "\n",
       "    .dataframe thead th {\n",
       "        text-align: right;\n",
       "    }\n",
       "</style>\n",
       "<table border=\"1\" class=\"dataframe\">\n",
       "  <thead>\n",
       "    <tr style=\"text-align: right;\">\n",
       "      <th></th>\n",
       "      <th>UpdateTime</th>\n",
       "      <th>SrcUpdateTime</th>\n",
       "      <th>fileinfo</th>\n",
       "      <th>fileURL</th>\n",
       "    </tr>\n",
       "  </thead>\n",
       "  <tbody>\n",
       "    <tr>\n",
       "      <th>0</th>\n",
       "      <td>2024-01-16T15:50:23+08:00</td>\n",
       "      <td>2024-01-16T15:50:23+08:00</td>\n",
       "      <td>2023年11月</td>\n",
       "      <td>https://tcgbusfs.blob.core.windows.net/dotapp/...</td>\n",
       "    </tr>\n",
       "    <tr>\n",
       "      <th>1</th>\n",
       "      <td>2024-01-16T15:50:23+08:00</td>\n",
       "      <td>2024-01-16T15:50:23+08:00</td>\n",
       "      <td>2023年10月</td>\n",
       "      <td>https://tcgbusfs.blob.core.windows.net/dotapp/...</td>\n",
       "    </tr>\n",
       "    <tr>\n",
       "      <th>2</th>\n",
       "      <td>2024-01-16T15:50:23+08:00</td>\n",
       "      <td>2024-01-16T15:50:23+08:00</td>\n",
       "      <td>2023年9月</td>\n",
       "      <td>https://tcgbusfs.blob.core.windows.net/dotapp/...</td>\n",
       "    </tr>\n",
       "    <tr>\n",
       "      <th>3</th>\n",
       "      <td>2024-01-16T15:50:23+08:00</td>\n",
       "      <td>2024-01-16T15:50:23+08:00</td>\n",
       "      <td>2023年8月</td>\n",
       "      <td>https://tcgbusfs.blob.core.windows.net/dotapp/...</td>\n",
       "    </tr>\n",
       "    <tr>\n",
       "      <th>4</th>\n",
       "      <td>2023-09-15T13:55:05+08:00</td>\n",
       "      <td>2023-09-15T13:55:05+08:00</td>\n",
       "      <td>2023年7月</td>\n",
       "      <td>https://tcgbusfs.blob.core.windows.net/dotapp/...</td>\n",
       "    </tr>\n",
       "  </tbody>\n",
       "</table>\n",
       "</div>"
      ],
      "text/plain": [
       "                  UpdateTime              SrcUpdateTime  fileinfo  \\\n",
       "0  2024-01-16T15:50:23+08:00  2024-01-16T15:50:23+08:00  2023年11月   \n",
       "1  2024-01-16T15:50:23+08:00  2024-01-16T15:50:23+08:00  2023年10月   \n",
       "2  2024-01-16T15:50:23+08:00  2024-01-16T15:50:23+08:00   2023年9月   \n",
       "3  2024-01-16T15:50:23+08:00  2024-01-16T15:50:23+08:00   2023年8月   \n",
       "4  2023-09-15T13:55:05+08:00  2023-09-15T13:55:05+08:00   2023年7月   \n",
       "\n",
       "                                             fileURL  \n",
       "0  https://tcgbusfs.blob.core.windows.net/dotapp/...  \n",
       "1  https://tcgbusfs.blob.core.windows.net/dotapp/...  \n",
       "2  https://tcgbusfs.blob.core.windows.net/dotapp/...  \n",
       "3  https://tcgbusfs.blob.core.windows.net/dotapp/...  \n",
       "4  https://tcgbusfs.blob.core.windows.net/dotapp/...  "
      ]
     },
     "execution_count": 5,
     "metadata": {},
     "output_type": "execute_result"
    }
   ],
   "source": [
    "df.head()"
   ]
  },
  {
   "cell_type": "markdown",
   "metadata": {},
   "source": [
    "#### Step 1: \n",
    "- 下載第一筆zip \n",
    "- 解壓縮 \n",
    "- 轉df (使用pandas) \n",
    "- 命名＆存CSV"
   ]
  },
  {
   "cell_type": "code",
   "execution_count": 6,
   "metadata": {},
   "outputs": [],
   "source": [
    "fileurl=df[\"fileURL\"][0]"
   ]
  },
  {
   "cell_type": "code",
   "execution_count": 7,
   "metadata": {},
   "outputs": [],
   "source": [
    "import requests\n",
    "import zipfile\n",
    "import io\n",
    "\n",
    "response =requests.get(fileurl)"
   ]
  },
  {
   "cell_type": "code",
   "execution_count": 8,
   "metadata": {},
   "outputs": [],
   "source": [
    "from io import BytesIO\n",
    "zip_content = BytesIO(response.content)\n",
    "    \n",
    "# Extract the contents of the zip file（提取 zip 檔案的內容）\n",
    "with zipfile.ZipFile(zip_content, 'r') as zip_ref:\n",
    "    # Assuming there's only one file in the zip, extract it（假設 zip 中只有一個文件，請將其解壓縮）\n",
    "    file_in_zip = zip_ref.namelist()[0]\n",
    "    with zip_ref.open(file_in_zip) as csv_file:\n",
    "        # Read the CSV file into a pandas DataFrame（將 CSV 檔案讀入 pandas DataFrame）\n",
    "        transform_df = pd.read_csv(csv_file,header=None)"
   ]
  },
  {
   "cell_type": "code",
   "execution_count": 9,
   "metadata": {},
   "outputs": [],
   "source": [
    "transform_df.to_csv(\"bike_usage_history.csv\")"
   ]
  },
  {
   "cell_type": "markdown",
   "metadata": {},
   "source": [
    "#### Step 2: \n",
    "- 逐筆\n",
    "    - 下載zip & 解壓縮\n",
    "    - 轉df\n",
    "    - 定義csv名稱（給予規則命名）"
   ]
  },
  {
   "cell_type": "code",
   "execution_count": null,
   "metadata": {},
   "outputs": [],
   "source": [
    "import pandas as pd\n",
    "import requests\n",
    "import zipfile\n",
    "from io import BytesIO\n",
    "\n",
    "\n",
    "#下載zip & \n",
    "fileurl=df[\"fileURL\"][0] ##要調整\n",
    "response =requests.get(fileurl)\n",
    "zip_content = BytesIO(response.content)\n",
    "\n",
    "with zipfile.ZipFile(zip_content, 'r') as zip_ref:\n",
    "    file_in_zip = zip_ref.namelist()[0]\n",
    "    #解壓縮\n",
    "    with zip_ref.open(file_in_zip) as csv_file:\n",
    "        #轉df\n",
    "        transform_df = pd.read_csv(csv_file,header=None)\n",
    "\n",
    "#存檔並定義csv名稱（給予規則命名）\n",
    "transform_df.to_csv(\"bike_usage_history.csv\") ##要調整"
   ]
  },
  {
   "cell_type": "code",
   "execution_count": 3,
   "metadata": {},
   "outputs": [
    {
     "data": {
      "text/html": [
       "<div>\n",
       "<style scoped>\n",
       "    .dataframe tbody tr th:only-of-type {\n",
       "        vertical-align: middle;\n",
       "    }\n",
       "\n",
       "    .dataframe tbody tr th {\n",
       "        vertical-align: top;\n",
       "    }\n",
       "\n",
       "    .dataframe thead th {\n",
       "        text-align: right;\n",
       "    }\n",
       "</style>\n",
       "<table border=\"1\" class=\"dataframe\">\n",
       "  <thead>\n",
       "    <tr style=\"text-align: right;\">\n",
       "      <th></th>\n",
       "      <th>UpdateTime</th>\n",
       "      <th>SrcUpdateTime</th>\n",
       "      <th>fileinfo</th>\n",
       "      <th>fileURL</th>\n",
       "    </tr>\n",
       "  </thead>\n",
       "  <tbody>\n",
       "    <tr>\n",
       "      <th>0</th>\n",
       "      <td>2024-01-16T15:50:23+08:00</td>\n",
       "      <td>2024-01-16T15:50:23+08:00</td>\n",
       "      <td>2023年11月</td>\n",
       "      <td>https://tcgbusfs.blob.core.windows.net/dotapp/...</td>\n",
       "    </tr>\n",
       "    <tr>\n",
       "      <th>1</th>\n",
       "      <td>2024-01-16T15:50:23+08:00</td>\n",
       "      <td>2024-01-16T15:50:23+08:00</td>\n",
       "      <td>2023年10月</td>\n",
       "      <td>https://tcgbusfs.blob.core.windows.net/dotapp/...</td>\n",
       "    </tr>\n",
       "    <tr>\n",
       "      <th>2</th>\n",
       "      <td>2024-01-16T15:50:23+08:00</td>\n",
       "      <td>2024-01-16T15:50:23+08:00</td>\n",
       "      <td>2023年9月</td>\n",
       "      <td>https://tcgbusfs.blob.core.windows.net/dotapp/...</td>\n",
       "    </tr>\n",
       "    <tr>\n",
       "      <th>3</th>\n",
       "      <td>2024-01-16T15:50:23+08:00</td>\n",
       "      <td>2024-01-16T15:50:23+08:00</td>\n",
       "      <td>2023年8月</td>\n",
       "      <td>https://tcgbusfs.blob.core.windows.net/dotapp/...</td>\n",
       "    </tr>\n",
       "    <tr>\n",
       "      <th>4</th>\n",
       "      <td>2023-09-15T13:55:05+08:00</td>\n",
       "      <td>2023-09-15T13:55:05+08:00</td>\n",
       "      <td>2023年7月</td>\n",
       "      <td>https://tcgbusfs.blob.core.windows.net/dotapp/...</td>\n",
       "    </tr>\n",
       "  </tbody>\n",
       "</table>\n",
       "</div>"
      ],
      "text/plain": [
       "                  UpdateTime              SrcUpdateTime  fileinfo  \\\n",
       "0  2024-01-16T15:50:23+08:00  2024-01-16T15:50:23+08:00  2023年11月   \n",
       "1  2024-01-16T15:50:23+08:00  2024-01-16T15:50:23+08:00  2023年10月   \n",
       "2  2024-01-16T15:50:23+08:00  2024-01-16T15:50:23+08:00   2023年9月   \n",
       "3  2024-01-16T15:50:23+08:00  2024-01-16T15:50:23+08:00   2023年8月   \n",
       "4  2023-09-15T13:55:05+08:00  2023-09-15T13:55:05+08:00   2023年7月   \n",
       "\n",
       "                                             fileURL  \n",
       "0  https://tcgbusfs.blob.core.windows.net/dotapp/...  \n",
       "1  https://tcgbusfs.blob.core.windows.net/dotapp/...  \n",
       "2  https://tcgbusfs.blob.core.windows.net/dotapp/...  \n",
       "3  https://tcgbusfs.blob.core.windows.net/dotapp/...  \n",
       "4  https://tcgbusfs.blob.core.windows.net/dotapp/...  "
      ]
     },
     "execution_count": 3,
     "metadata": {},
     "output_type": "execute_result"
    }
   ],
   "source": [
    "df.head()"
   ]
  },
  {
   "cell_type": "code",
   "execution_count": 23,
   "metadata": {},
   "outputs": [
    {
     "name": "stdout",
     "output_type": "stream",
     "text": [
      "2023_11_bike_usage_history.csv https://tcgbusfs.blob.core.windows.net/dotapp/youbike_second_ticket_opendata/2023/2023-11/202311_YouBike2.0票證刷卡資料.zip\n"
     ]
    }
   ],
   "source": [
    "# 提取欄位名稱（fileinfo,fileURL）\n",
    "# 將欄位fileinfo 調整顯示內容\n",
    "for index, row in df.iterrows():\n",
    "    fileinfo = row['fileinfo']\n",
    "    fileURL = row['fileURL']\n",
    "    filename = fileinfo.replace(\"年\", \"_\").replace(\"月\", \"_bike_usage_history.csv\")\n",
    "    print(filename,fileURL)\n",
    "    break"
   ]
  },
  {
   "cell_type": "code",
   "execution_count": 7,
   "metadata": {},
   "outputs": [
    {
     "name": "stdout",
     "output_type": "stream",
     "text": [
      "2023_11_bike_usage_history.csv https://tcgbusfs.blob.core.windows.net/dotapp/youbike_second_ticket_opendata/2023/2023-11/202311_YouBike2.0票證刷卡資料.zip\n"
     ]
    }
   ],
   "source": [
    "# 提取欄位名稱（fileinfo,fileURL）\n",
    "# 將欄位fileinfo 調整顯示內容\n",
    "for index, row in df.iterrows():\n",
    "    fileinfo = row['fileinfo']\n",
    "    fileURL = row['fileURL']\n",
    "    filename = fileinfo.replace(\"年\", \"_\").replace(\"月\", \"_bike_usage_history.csv\")\n",
    "    \n",
    "    \n",
    "    response =requests.get(fileURL)\n",
    "    zip_content = BytesIO(response.content)\n",
    "\n",
    "    with zipfile.ZipFile(zip_content, 'r') as zip_ref:\n",
    "        file_in_zip = zip_ref.namelist()[0]\n",
    "        #解壓縮\n",
    "        with zip_ref.open(file_in_zip) as csv_file:\n",
    "            #轉df\n",
    "            transform_df = pd.read_csv(csv_file,header=None)\n",
    "\n",
    "    #存檔並定義csv名稱（給予規則命名）\n",
    "    transform_df.to_csv(filename) ##要調整\n",
    "    \n",
    "    \n",
    "    print(filename,fileURL)\n",
    "    # break"
   ]
  },
  {
   "cell_type": "code",
   "execution_count": null,
   "metadata": {},
   "outputs": [],
   "source": []
  }
 ],
 "metadata": {
  "kernelspec": {
   "display_name": ".venv",
   "language": "python",
   "name": "python3"
  },
  "language_info": {
   "codemirror_mode": {
    "name": "ipython",
    "version": 3
   },
   "file_extension": ".py",
   "mimetype": "text/x-python",
   "name": "python",
   "nbconvert_exporter": "python",
   "pygments_lexer": "ipython3",
   "version": "3.12.2"
  }
 },
 "nbformat": 4,
 "nbformat_minor": 2
}
