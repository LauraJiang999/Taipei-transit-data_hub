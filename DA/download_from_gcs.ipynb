{
 "cells": [
  {
   "cell_type": "code",
   "execution_count": 1,
   "metadata": {},
   "outputs": [],
   "source": [
    "from google.cloud import storage\n",
    "import pandas as pd\n",
    "import os"
   ]
  },
  {
   "cell_type": "code",
   "execution_count": 2,
   "metadata": {},
   "outputs": [],
   "source": [
    "os.environ['GOOGLE_APPLICATION_CREDENTIALS'] = r'D:\\data_engineer\\TIR_group2\\TIR101_Group2\\secrets\\harry_GCS_BigQuery_write_cred.json'"
   ]
  },
  {
   "cell_type": "code",
   "execution_count": 3,
   "metadata": {},
   "outputs": [],
   "source": [
    "storage_client = storage.Client()"
   ]
  },
  {
   "cell_type": "code",
   "execution_count": 4,
   "metadata": {},
   "outputs": [
    {
     "data": {
      "text/plain": [
       "[<Bucket: mrt_realtime>,\n",
       " <Bucket: processed_table>,\n",
       " <Bucket: static_reference>,\n",
       " <Bucket: youbike_mart_files>,\n",
       " <Bucket: youbike_realtime>]"
      ]
     },
     "execution_count": 4,
     "metadata": {},
     "output_type": "execute_result"
    }
   ],
   "source": [
    "[b for b in storage_client.list_buckets()]"
   ]
  },
  {
   "cell_type": "code",
   "execution_count": 5,
   "metadata": {},
   "outputs": [],
   "source": [
    "bucket = storage_client.bucket(\"static_reference\")"
   ]
  },
  {
   "cell_type": "code",
   "execution_count": 7,
   "metadata": {},
   "outputs": [
    {
     "data": {
      "text/plain": [
       "['bike/',\n",
       " 'bike/NWT_bike_station.csv',\n",
       " 'bike/TPE_bike_station.csv',\n",
       " 'bike_history/',\n",
       " 'bike_history/2020_10_bike_usage_history.csv',\n",
       " 'bike_history/2020_11_bike_usage_history.csv',\n",
       " 'bike_history/2020_12_bike_usage_history.csv',\n",
       " 'bike_history/2020_4_bike_usage_history.csv',\n",
       " 'bike_history/2020_5_bike_usage_history.csv',\n",
       " 'bike_history/2020_6_bike_usage_history.csv',\n",
       " 'bike_history/2020_7_bike_usage_history.csv',\n",
       " 'bike_history/2020_8_bike_usage_history.csv',\n",
       " 'bike_history/2020_9_bike_usage_history.csv',\n",
       " 'bike_history/2021_10_bike_usage_history.csv',\n",
       " 'bike_history/2021_11_bike_usage_history.csv',\n",
       " 'bike_history/2021_12_bike_usage_history.csv',\n",
       " 'bike_history/2021_1_bike_usage_history.csv',\n",
       " 'bike_history/2021_2_bike_usage_history.csv',\n",
       " 'bike_history/2021_3_bike_usage_history.csv',\n",
       " 'bike_history/2021_4_bike_usage_history.csv',\n",
       " 'bike_history/2021_5_bike_usage_history.csv',\n",
       " 'bike_history/2021_6_bike_usage_history.csv',\n",
       " 'bike_history/2021_7_bike_usage_history.csv',\n",
       " 'bike_history/2021_8_bike_usage_history.csv',\n",
       " 'bike_history/2021_9_bike_usage_history.csv',\n",
       " 'bike_history/2022_10_bike_usage_history.csv',\n",
       " 'bike_history/2022_11_bike_usage_history.csv',\n",
       " 'bike_history/2022_12_bike_usage_history.csv',\n",
       " 'bike_history/2022_1_bike_usage_history.csv',\n",
       " 'bike_history/2022_2_bike_usage_history.csv',\n",
       " 'bike_history/2022_3_bike_usage_history.csv',\n",
       " 'bike_history/2022_4_bike_usage_history.csv',\n",
       " 'bike_history/2022_5_bike_usage_history.csv',\n",
       " 'bike_history/2022_6_bike_usage_history.csv',\n",
       " 'bike_history/2022_7_bike_usage_history.csv',\n",
       " 'bike_history/2022_8_bike_usage_history.csv',\n",
       " 'bike_history/2022_9_bike_usage_history.csv',\n",
       " 'bike_history/2023_10_bike_usage_history.csv',\n",
       " 'bike_history/2023_11_bike_usage_history.csv',\n",
       " 'bike_history/2023_1_bike_usage_history.csv',\n",
       " 'bike_history/2023_2_bike_usage_history.csv',\n",
       " 'bike_history/2023_3_bike_usage_history.csv',\n",
       " 'bike_history/2023_4_bike_usage_history.csv',\n",
       " 'bike_history/2023_5_bike_usage_history.csv',\n",
       " 'bike_history/2023_6_bike_usage_history.csv',\n",
       " 'bike_history/2023_7_bike_usage_history.csv',\n",
       " 'bike_history/2023_8_bike_usage_history.csv',\n",
       " 'bike_history/2023_9_bike_usage_history.csv',\n",
       " 'bus/',\n",
       " 'bus/tpe_bus_station_info.csv',\n",
       " 'bus/tpe_bus_station_info_after_api_call.csv',\n",
       " 'mrt/',\n",
       " 'mrt/mrt_station.csv']"
      ]
     },
     "execution_count": 7,
     "metadata": {},
     "output_type": "execute_result"
    }
   ],
   "source": [
    "blobs_list = [b.name for b in bucket.list_blobs()]\n",
    "blobs_list"
   ]
  },
  {
   "cell_type": "code",
   "execution_count": 9,
   "metadata": {},
   "outputs": [
    {
     "data": {
      "text/plain": [
       "False"
      ]
     },
     "execution_count": 9,
     "metadata": {},
     "output_type": "execute_result"
    }
   ],
   "source": [
    "\"bike_history/bike_station_grouping_features.csv\" in blobs_list"
   ]
  },
  {
   "cell_type": "code",
   "execution_count": 7,
   "metadata": {},
   "outputs": [],
   "source": [
    "blob = bucket.blob(blobs_list[0])"
   ]
  },
  {
   "cell_type": "code",
   "execution_count": 12,
   "metadata": {},
   "outputs": [
    {
     "data": {
      "text/plain": [
       "['history', '2020_10_bike_usage_history.csv']"
      ]
     },
     "execution_count": 12,
     "metadata": {},
     "output_type": "execute_result"
    }
   ],
   "source": [
    "blobs_list[0].split(\"/\")"
   ]
  },
  {
   "cell_type": "code",
   "execution_count": 13,
   "metadata": {},
   "outputs": [],
   "source": [
    "filename = os.path.join(os.getcwd(),\"data\",blobs_list[0].split(\"/\")[1])\n",
    "blob.download_to_filename(filename)"
   ]
  },
  {
   "cell_type": "code",
   "execution_count": null,
   "metadata": {},
   "outputs": [],
   "source": []
  }
 ],
 "metadata": {
  "kernelspec": {
   "display_name": ".venv",
   "language": "python",
   "name": "python3"
  },
  "language_info": {
   "codemirror_mode": {
    "name": "ipython",
    "version": 3
   },
   "file_extension": ".py",
   "mimetype": "text/x-python",
   "name": "python",
   "nbconvert_exporter": "python",
   "pygments_lexer": "ipython3",
   "version": "3.10.9"
  }
 },
 "nbformat": 4,
 "nbformat_minor": 2
}
