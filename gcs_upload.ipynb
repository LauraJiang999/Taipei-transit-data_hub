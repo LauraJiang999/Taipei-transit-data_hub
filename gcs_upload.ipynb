{
 "cells": [
  {
   "cell_type": "markdown",
   "metadata": {},
   "source": [
    "## GCS first try\n",
    "[website](https://cloud.google.com/storage/docs/reference/libraries)\\\n",
    "[documentation](https://cloud.google.com/python/docs/reference/storage/latest)"
   ]
  },
  {
   "cell_type": "code",
   "execution_count": 1,
   "metadata": {},
   "outputs": [],
   "source": [
    "from google.oauth2 import service_account\n",
    "from google.cloud import storage\n",
    "from google.cloud.storage.bucket import Bucket\n",
    "from io import BytesIO\n",
    "from zipfile import ZipFile\n",
    "import pandas as pd\n",
    "import requests\n",
    "\n",
    "# Set key_path to the path to the service account key file.\n",
    "# This can be replaced by setting env export GOOGLE_APPLICATION_CREDENTIALS=\"KEY_PATH\"\n",
    "key_path = \"./gcp_creds/gcp_credentials.json\"\n",
    "\n",
    "credentials = service_account.Credentials.from_service_account_file(\n",
    "    key_path,\n",
    "    scopes=[\"https://www.googleapis.com/auth/cloud-platform\"],\n",
    ")\n"
   ]
  },
  {
   "cell_type": "code",
   "execution_count": 2,
   "metadata": {},
   "outputs": [],
   "source": [
    "storage_client = storage.Client(credentials=credentials)\n",
    "\n",
    "bucket_name = \"tir101-group2\"\n",
    "\n",
    "bucket = storage_client.bucket(bucket_name)\n",
    "if not bucket.exists():\n",
    "    bucket.storage_class = \"STANDARD\"\n",
    "    new_bucket = storage_client.create_bucket(bucket, location=\"asia-east1\")"
   ]
  },
  {
   "cell_type": "code",
   "execution_count": 3,
   "metadata": {},
   "outputs": [],
   "source": [
    "#upload from memory\n",
    "def gcs_upload_df(bucket:Bucket,blob_name:str,df:pd.DataFrame) -> bool:\n",
    "    \"\"\"Uploads data from memory to the bucket.\"\"\"\n",
    "    blob = bucket.blob(blob_name)\n",
    "    if blob.exists():\n",
    "        print('file exist in gcp')\n",
    "        return\n",
    "    try:\n",
    "        blob.upload_from_string(df.to_csv(),'text/csv')\n",
    "        print('upload success')\n",
    "    except Exception as e:\n",
    "        print(e)"
   ]
  },
  {
   "cell_type": "code",
   "execution_count": 4,
   "metadata": {},
   "outputs": [],
   "source": [
    "#upload from file\n",
    "\n",
    "def gcs_file_upload(bucket:Bucket, source_name, dest_name):\n",
    "    \"\"\"Uploads a file to the bucket.\"\"\"\n",
    "\n",
    "    blob = bucket.blob(dest_name)\n",
    "    if blob.exists():\n",
    "        print('file exist in gcp')\n",
    "        return\n",
    "    try:\n",
    "        blob.upload_from_filename(source_name)\n",
    "        print('upload success')\n",
    "    except Exception as e:\n",
    "        print(e)"
   ]
  },
  {
   "cell_type": "code",
   "execution_count": 5,
   "metadata": {},
   "outputs": [],
   "source": [
    "hist = pd.read_csv('YouBikeHis.csv')"
   ]
  },
  {
   "cell_type": "code",
   "execution_count": 6,
   "metadata": {},
   "outputs": [],
   "source": [
    "test_url = hist['fileURL'][0]"
   ]
  },
  {
   "cell_type": "code",
   "execution_count": 7,
   "metadata": {},
   "outputs": [],
   "source": [
    "\n",
    "resp = requests.get(test_url)"
   ]
  },
  {
   "cell_type": "code",
   "execution_count": 8,
   "metadata": {},
   "outputs": [],
   "source": [
    "z = ZipFile(BytesIO(resp.content))"
   ]
  },
  {
   "cell_type": "code",
   "execution_count": 9,
   "metadata": {},
   "outputs": [],
   "source": [
    "col_names = ['借用時段','借用站名','歸還時段','歸還站名','借用時間','紀錄日期']\n",
    "df = pd.read_csv(z.open(z.filelist[0]),names=col_names)    "
   ]
  },
  {
   "cell_type": "code",
   "execution_count": 10,
   "metadata": {},
   "outputs": [
    {
     "data": {
      "text/plain": [
       "Timestamp('2023-11-22 00:00:00')"
      ]
     },
     "execution_count": 10,
     "metadata": {},
     "output_type": "execute_result"
    }
   ],
   "source": [
    "data_date = pd.to_datetime(df['紀錄日期'][0])\n",
    "data_date"
   ]
  },
  {
   "cell_type": "code",
   "execution_count": 11,
   "metadata": {},
   "outputs": [
    {
     "name": "stdout",
     "output_type": "stream",
     "text": [
      "upload success\n"
     ]
    }
   ],
   "source": [
    "gcs_upload_df(bucket,f\"ubike_history_{data_date.year}_{data_date.month}.csv\",df)"
   ]
  },
  {
   "cell_type": "code",
   "execution_count": null,
   "metadata": {},
   "outputs": [],
   "source": []
  }
 ],
 "metadata": {
  "kernelspec": {
   "display_name": ".venv",
   "language": "python",
   "name": "python3"
  },
  "language_info": {
   "codemirror_mode": {
    "name": "ipython",
    "version": 3
   },
   "file_extension": ".py",
   "mimetype": "text/x-python",
   "name": "python",
   "nbconvert_exporter": "python",
   "pygments_lexer": "ipython3",
   "version": "3.11.8"
  }
 },
 "nbformat": 4,
 "nbformat_minor": 2
}
