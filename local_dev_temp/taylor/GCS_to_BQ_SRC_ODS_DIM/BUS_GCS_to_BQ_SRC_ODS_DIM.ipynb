{
 "cells": [
  {
   "cell_type": "code",
   "execution_count": 6,
   "metadata": {},
   "outputs": [],
   "source": [
    "import os"
   ]
  },
  {
   "cell_type": "markdown",
   "metadata": {},
   "source": [
    "# Key"
   ]
  },
  {
   "cell_type": "code",
   "execution_count": 2,
   "metadata": {},
   "outputs": [],
   "source": [
    "BIGQUERY_CREDENTIALS_FILE_PATH = r\"/Users/taylorlin/Desktop/GCP_Key/harry_GCS_BigQuery_write_cred.json\"\n",
    "# BIGQUERY_CREDENTIALS_FILE_PATH = r\"D:\\data_engineer\\TIR_group2\\TIR101_Group2\\secrets\\harry_GCS_BigQuery_write_cred.json\"\n",
    "os.environ[\"GOOGLE_APPLICATION_CREDENTIALS\"] = BIGQUERY_CREDENTIALS_FILE_PATH"
   ]
  },
  {
   "cell_type": "code",
   "execution_count": 3,
   "metadata": {},
   "outputs": [],
   "source": [
    "from google.cloud import bigquery"
   ]
  },
  {
   "cell_type": "code",
   "execution_count": 4,
   "metadata": {},
   "outputs": [],
   "source": [
    "BQ_CLIENT = bigquery.Client()  "
   ]
  },
  {
   "cell_type": "code",
   "execution_count": 5,
   "metadata": {},
   "outputs": [
    {
     "data": {
      "text/plain": [
       "'tir101-group2-422603'"
      ]
     },
     "execution_count": 5,
     "metadata": {},
     "output_type": "execute_result"
    }
   ],
   "source": [
    "# showing project name(level higher than dataset)\n",
    "BQ_CLIENT.project"
   ]
  },
  {
   "cell_type": "markdown",
   "metadata": {},
   "source": [
    "# Dataset Creation in BQ"
   ]
  },
  {
   "cell_type": "code",
   "execution_count": 7,
   "metadata": {},
   "outputs": [],
   "source": [
    "def create_dataset(dataset_name:str , location:str=\"asia-east1\",client: bigquery.Client = BQ_CLIENT):\n",
    "    \"\"\"Create a dataset\"\"\"\n",
    "    porject_name = client.project\n",
    "    dataset_id = f\"{porject_name}.{dataset_name}\"\n",
    "\n",
    "    dataset = bigquery.Dataset(dataset_id)\n",
    "    dataset.location = location\n",
    "\n",
    "    client.create_dataset(dataset)\n",
    "    print(f\"created {dataset_name} in project {porject_name} ,location:{location}\")"
   ]
  },
  {
   "cell_type": "code",
   "execution_count": 8,
   "metadata": {},
   "outputs": [
    {
     "name": "stdout",
     "output_type": "stream",
     "text": [
      "created BUS_GCS_to_BQ_SRC_ODS_DIM in project tir101-group2-422603 ,location:asia-east1\n"
     ]
    }
   ],
   "source": [
    "create_dataset(dataset_name=\"BUS_GCS_to_BQ_SRC_ODS_DIM\")"
   ]
  },
  {
   "cell_type": "markdown",
   "metadata": {},
   "source": [
    "bus_station_id,station_name,address,city_code,district,lat,lng,bearing,subarea"
   ]
  },
  {
   "cell_type": "markdown",
   "metadata": {},
   "source": [
    "# GCS-CSV to BQ-SRC-CSV"
   ]
  },
  {
   "cell_type": "code",
   "execution_count": 10,
   "metadata": {},
   "outputs": [
    {
     "name": "stdout",
     "output_type": "stream",
     "text": [
      "SRC_Bus_static_data is created.\n"
     ]
    }
   ],
   "source": [
    "def GCS_tpe_bus_static_to_BQ_SRC(client: bigquery.Client = BQ_CLIENT) -> None:\n",
    "    \"\"\"create external table (GCS to BQ) for bus raw data(tpe_bus_station_info_after_api_call)\"\"\"\n",
    "    query_job = client.query(\n",
    "    \"\"\"\n",
    "        CREATE OR REPLACE EXTERNAL TABLE `BUS_GCS_to_BQ_SRC_ODS_DIM.SRC_Bus_static_data`\n",
    "        (\n",
    "            `bus_station_id` INT,\n",
    "            `station_name` STRING,\n",
    "            `address` STRING,\n",
    "            `city_code` STRING,\n",
    "            `district` STRING,\n",
    "            `lat` FLOAT64,\n",
    "            `lng` FLOAT64,\n",
    "            `bearing` STRING,\n",
    "            `subarea` STRING\n",
    "        )\n",
    "        OPTIONS \n",
    "        (\n",
    "            format = 'CSV',\n",
    "            uris = ['gs://static_reference/bus/tpe_bus_station_info_after_api_call.csv'],\n",
    "            skip_leading_rows = 1,\n",
    "            max_bad_records = 1\n",
    "        )\n",
    "    \"\"\"\n",
    "    )\n",
    "    query_job.result()\n",
    "    print(\"SRC_Bus_static_data is created.\")\n",
    "GCS_tpe_bus_static_to_BQ_SRC()"
   ]
  },
  {
   "cell_type": "markdown",
   "metadata": {},
   "source": [
    "# BQ-SRC transforming to BQ-ODS\n",
    "\n",
    "刪除 `subarea` 欄位\n",
    "新增\n",
    "  `create_time` timestamp,\n",
    "  `update_time` timestamp\n",
    "\n",
    "\n",
    "CREATE TABLE `bus_station` (\n",
    "  `bus_station_id` int PRIMARY KEY,\n",
    "  `station_name` varchar(20),\n",
    "  `address` varchar(50),\n",
    "  `city_code` char(3),\n",
    "  `district` varchar(10),\n",
    "  `lat` decimal(8,6),\n",
    "  `lng` decimal(9,6),\n",
    "  `bearing` char(1),\n",
    "  `create_time` timestamp,\n",
    "  `update_time` timestamp\n",
    ");"
   ]
  },
  {
   "cell_type": "code",
   "execution_count": 12,
   "metadata": {},
   "outputs": [
    {
     "name": "stdout",
     "output_type": "stream",
     "text": [
      "ODS_Bus_static_data is created\n"
     ]
    }
   ],
   "source": [
    "def BQ_SRC_to_ODS_bus_station(client: bigquery.Client = BQ_CLIENT) -> None:\n",
    "    \"\"\"Transforming the SRC layer of bus stations into the ODS layer of bus stations.\"\"\"\n",
    "    query_job = client.query(\n",
    "    \"\"\"\n",
    "    CREATE OR REPLACE TABLE `BUS_GCS_to_BQ_SRC_ODS_DIM.ODS_Bus_static_data` AS\n",
    "    SELECT\n",
    "        `bus_station_id`,\n",
    "        TRIM(`station_name`) AS `station_name`,\n",
    "        TRIM(`address`) AS `address`,\n",
    "        TRIM(`city_code`) AS `city_code`,\n",
    "        TRIM(`district`) AS `district`,\n",
    "        `lat`,\n",
    "        `lng`,\n",
    "        TRIM(`bearing`) AS `bearing`,\n",
    "        CURRENT_TIMESTAMP() AS update_time\n",
    "    from \n",
    "        BUS_GCS_to_BQ_SRC_ODS_DIM.SRC_Bus_static_data\n",
    "    \"\"\"\n",
    "    )\n",
    "    query_job.result()\n",
    "    print(\"ODS_Bus_static_data is created\")\n",
    "BQ_SRC_to_ODS_bus_station()"
   ]
  },
  {
   "cell_type": "code",
   "execution_count": 14,
   "metadata": {},
   "outputs": [
    {
     "name": "stdout",
     "output_type": "stream",
     "text": [
      "DIM_Bus_static_data is created\n"
     ]
    }
   ],
   "source": [
    "def BQ_ODS_to_DIM_bus_station(client: bigquery.Client = BQ_CLIENT) -> None:\n",
    "    \"\"\"Transforming the SRC layer of bus stations into the ODS layer of bus stations.\"\"\"\n",
    "    query_job = client.query(\n",
    "    \"\"\"\n",
    "    CREATE OR REPLACE TABLE `BUS_GCS_to_BQ_SRC_ODS_DIM.DIM_Bus_static_data` AS\n",
    "    SELECT *\n",
    "    from \n",
    "        BUS_GCS_to_BQ_SRC_ODS_DIM.ODS_Bus_static_data\n",
    "    \"\"\"\n",
    "    )\n",
    "    query_job.result()\n",
    "    print(\"DIM_Bus_static_data is created\")\n",
    "BQ_ODS_to_DIM_bus_station()"
   ]
  }
 ],
 "metadata": {
  "kernelspec": {
   "display_name": "Python 3",
   "language": "python",
   "name": "python3"
  },
  "language_info": {
   "codemirror_mode": {
    "name": "ipython",
    "version": 3
   },
   "file_extension": ".py",
   "mimetype": "text/x-python",
   "name": "python",
   "nbconvert_exporter": "python",
   "pygments_lexer": "ipython3",
   "version": "3.12.3"
  }
 },
 "nbformat": 4,
 "nbformat_minor": 2
}
