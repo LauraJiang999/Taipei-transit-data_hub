{
 "cells": [
  {
   "cell_type": "code",
   "execution_count": 79,
   "metadata": {},
   "outputs": [],
   "source": [
    "import pandas as pd\n",
    "import numpy as np\n",
    "from tqdm import tqdm"
   ]
  },
  {
   "cell_type": "code",
   "execution_count": 80,
   "metadata": {},
   "outputs": [],
   "source": [
    "tpe_stations = pd.read_csv('TPE_bike_station.csv')\n",
    "df = pd.read_csv('2023_11_bike_usage_history.csv',index_col=0)"
   ]
  },
  {
   "cell_type": "code",
   "execution_count": 81,
   "metadata": {},
   "outputs": [],
   "source": [
    "feature_set = tpe_stations['station_no'].to_frame()\n",
    "feature_set['station'] = tpe_stations['name_tw']"
   ]
  },
  {
   "cell_type": "code",
   "execution_count": 82,
   "metadata": {},
   "outputs": [],
   "source": [
    "df.columns=['lend_time','lend_station_name','return_time','return_station_name','usage_time','source_date']\n",
    "df['source_date'] = pd.to_datetime(df['source_date'])\n",
    "df['lend_date'] = pd.to_datetime(df['lend_time']).dt.date\n",
    "df['lend_hour'] = pd.to_datetime(df['lend_time']).dt.hour\n",
    "df['return_date'] = pd.to_datetime(df['return_time']).dt.date\n",
    "df['return_hour'] = pd.to_datetime(df['return_time']).dt.hour\n",
    "df = df.drop(['lend_time','return_time'],axis=1)\n",
    "df['usage_time'] = pd.to_timedelta(df['usage_time']).dt.total_seconds().astype('int')"
   ]
  },
  {
   "cell_type": "code",
   "execution_count": 83,
   "metadata": {},
   "outputs": [],
   "source": [
    "# average daily use (weekday)\n",
    "# average daily use (weekend)\n"
   ]
  },
  {
   "cell_type": "code",
   "execution_count": 84,
   "metadata": {},
   "outputs": [],
   "source": [
    "df['day_of_week'] = pd.to_datetime(df['source_date']).dt.weekday"
   ]
  },
  {
   "cell_type": "code",
   "execution_count": 85,
   "metadata": {},
   "outputs": [],
   "source": [
    "weekday = df[~df['day_of_week'].isin([5,6])]\n",
    "weekday = pd.concat([weekday['lend_station_name'],weekday['return_station_name']]).rename('station').value_counts().to_frame().reset_index()\n",
    "weekday = weekday[weekday['station'].isin(tpe_stations['name_tw'])]"
   ]
  },
  {
   "cell_type": "code",
   "execution_count": 86,
   "metadata": {},
   "outputs": [],
   "source": [
    "weekend = df[~df['day_of_week'].isin(range(0,5))]\n",
    "weekend = pd.concat([weekend['lend_station_name'],weekend['return_station_name']]).rename('station').value_counts().to_frame().reset_index()\n",
    "weekend = weekend[weekend['station'].isin(tpe_stations['name_tw'])]"
   ]
  },
  {
   "cell_type": "code",
   "execution_count": 87,
   "metadata": {},
   "outputs": [],
   "source": [
    "weekday['count'] = weekday['count']/df['source_date'].nunique()\n",
    "weekend['count'] = weekend['count']/df['source_date'].nunique()\n"
   ]
  },
  {
   "cell_type": "code",
   "execution_count": 88,
   "metadata": {},
   "outputs": [],
   "source": [
    "avg_use = pd.merge(weekday,weekend,how='outer',on='station',suffixes=['_weekday','_weekend'])\n",
    "avg_use = avg_use.fillna(0)\n",
    "del weekday,weekend"
   ]
  },
  {
   "cell_type": "code",
   "execution_count": 89,
   "metadata": {},
   "outputs": [],
   "source": [
    "feature_set = feature_set.merge(avg_use,how='inner',on='station')\n",
    "feature_set.shape\n",
    "del avg_use"
   ]
  },
  {
   "cell_type": "code",
   "execution_count": 90,
   "metadata": {},
   "outputs": [],
   "source": [
    "# Peak Usage Times top 5 (weekday)\n",
    "# Peak Usage Times top 5 (weekend)"
   ]
  },
  {
   "cell_type": "code",
   "execution_count": 91,
   "metadata": {},
   "outputs": [],
   "source": [
    "weekday = df[~df['day_of_week'].isin([5,6])]"
   ]
  },
  {
   "cell_type": "code",
   "execution_count": 92,
   "metadata": {},
   "outputs": [],
   "source": [
    "col_name = ['station','hour']\n",
    "weekday = pd.concat([\n",
    "    weekday[['lend_station_name','lend_hour']].set_axis(col_name,axis=1),\n",
    "    weekday[['return_station_name','return_hour']].set_axis(col_name,axis=1),\n",
    "])"
   ]
  },
  {
   "cell_type": "code",
   "execution_count": 93,
   "metadata": {},
   "outputs": [],
   "source": [
    "weekday_traffic_counts = weekday.groupby(['station', 'hour']).value_counts().reset_index(name='counts')\n"
   ]
  },
  {
   "cell_type": "code",
   "execution_count": 94,
   "metadata": {},
   "outputs": [],
   "source": [
    "weekday_traffic_counts = weekday_traffic_counts.groupby('station', group_keys=False)\\\n",
    "    .apply(lambda x: x.sort_values(by='counts', ascending=False).head(5))"
   ]
  },
  {
   "cell_type": "code",
   "execution_count": 95,
   "metadata": {},
   "outputs": [],
   "source": [
    "weekday_traffic_counts['rank'] = weekday_traffic_counts.groupby('station')['counts'].rank(method='first', ascending=False)\n",
    "\n",
    "# Pivot the DataFrame to wide format\n",
    "weekday_pivot_df = weekday_traffic_counts.pivot(index='station', columns='rank', values=['hour', 'counts'])"
   ]
  },
  {
   "cell_type": "code",
   "execution_count": 96,
   "metadata": {},
   "outputs": [],
   "source": [
    "weekday_pivot_df.columns = [f'{col[0]}_top{int(col[1])}' for col in weekday_pivot_df.columns]\n",
    "weekday_pivot_df.reset_index(inplace=True)"
   ]
  },
  {
   "cell_type": "code",
   "execution_count": 97,
   "metadata": {},
   "outputs": [],
   "source": [
    "weekend = df[~df['day_of_week'].isin(range(0,5))]\n",
    "col_name = ['station','hour']\n",
    "weekend = pd.concat([\n",
    "    weekend[['lend_station_name','lend_hour']].set_axis(col_name,axis=1),\n",
    "    weekend[['return_station_name','return_hour']].set_axis(col_name,axis=1),\n",
    "])\n",
    "weekend_traffic_counts = weekend.groupby(['station', 'hour']).value_counts().reset_index(name='counts')\n",
    "weekend_traffic_counts = weekend_traffic_counts.groupby('station', group_keys=False)\\\n",
    "    .apply(lambda x: x.sort_values(by='counts', ascending=False).head(5))\n",
    "weekend_traffic_counts['rank'] = weekend_traffic_counts.groupby('station')['counts'].rank(method='first', ascending=False)\n",
    "\n",
    "# Pivot the DataFrame to wide format\n",
    "weekend_pivot_df = weekend_traffic_counts.pivot(index='station', columns='rank', values=['hour', 'counts'])\n",
    "weekend_pivot_df.columns = [f'{col[0]}_top{int(col[1])}' for col in weekend_pivot_df.columns]\n",
    "weekend_pivot_df.reset_index(inplace=True)"
   ]
  },
  {
   "cell_type": "code",
   "execution_count": 98,
   "metadata": {},
   "outputs": [],
   "source": [
    "pivot_data = pd.merge(weekday_pivot_df,weekend_pivot_df,how='outer',on='station',suffixes=['_weekday','_weekend'])\n",
    "del weekday,weekend,weekday_pivot_df,weekend_pivot_df"
   ]
  },
  {
   "cell_type": "code",
   "execution_count": 99,
   "metadata": {},
   "outputs": [],
   "source": [
    "pivot_data = pivot_data[pivot_data['station'].isin(tpe_stations['name_tw'])]"
   ]
  },
  {
   "cell_type": "code",
   "execution_count": 100,
   "metadata": {},
   "outputs": [],
   "source": [
    "feature_set = feature_set.merge(pivot_data,how='inner',on='station')\n",
    "feature_set.shape\n",
    "del pivot_data"
   ]
  },
  {
   "cell_type": "code",
   "execution_count": 101,
   "metadata": {},
   "outputs": [],
   "source": [
    "# Usage Variability (daily) 變異係數\n",
    "# Usage Variability (hourly) 變異係數\n",
    "# Usage Variability (weekend/weekday) 變異係數\n",
    "col_name = ['station','hour','source_date']\n",
    "all_access = pd.concat([\n",
    "    df[['lend_station_name','lend_hour','source_date']].set_axis(col_name,axis=1),\n",
    "    df[['return_station_name','return_hour','source_date']].set_axis(col_name,axis=1),\n",
    "])"
   ]
  },
  {
   "cell_type": "code",
   "execution_count": 102,
   "metadata": {},
   "outputs": [
    {
     "data": {
      "text/html": [
       "<div>\n",
       "<style scoped>\n",
       "    .dataframe tbody tr th:only-of-type {\n",
       "        vertical-align: middle;\n",
       "    }\n",
       "\n",
       "    .dataframe tbody tr th {\n",
       "        vertical-align: top;\n",
       "    }\n",
       "\n",
       "    .dataframe thead th {\n",
       "        text-align: right;\n",
       "    }\n",
       "</style>\n",
       "<table border=\"1\" class=\"dataframe\">\n",
       "  <thead>\n",
       "    <tr style=\"text-align: right;\">\n",
       "      <th></th>\n",
       "      <th>station</th>\n",
       "      <th>cv</th>\n",
       "    </tr>\n",
       "  </thead>\n",
       "  <tbody>\n",
       "    <tr>\n",
       "      <th>0</th>\n",
       "      <td>3樓客服中心</td>\n",
       "      <td>2.828427</td>\n",
       "    </tr>\n",
       "    <tr>\n",
       "      <th>1</th>\n",
       "      <td>?公公園</td>\n",
       "      <td>0.674676</td>\n",
       "    </tr>\n",
       "    <tr>\n",
       "      <th>2</th>\n",
       "      <td>?寮公園</td>\n",
       "      <td>4.795832</td>\n",
       "    </tr>\n",
       "    <tr>\n",
       "      <th>3</th>\n",
       "      <td>一壽橋</td>\n",
       "      <td>0.761308</td>\n",
       "    </tr>\n",
       "    <tr>\n",
       "      <th>4</th>\n",
       "      <td>一江公園</td>\n",
       "      <td>0.768149</td>\n",
       "    </tr>\n",
       "  </tbody>\n",
       "</table>\n",
       "</div>"
      ],
      "text/plain": [
       "  station        cv\n",
       "0  3樓客服中心  2.828427\n",
       "1    ?公公園  0.674676\n",
       "2    ?寮公園  4.795832\n",
       "3     一壽橋  0.761308\n",
       "4    一江公園  0.768149"
      ]
     },
     "execution_count": 102,
     "metadata": {},
     "output_type": "execute_result"
    }
   ],
   "source": [
    "# groupby_hour\n",
    "groupby_hour = all_access.groupby(['station','hour']).size().reset_index(name='traffic_count')\n",
    "groupby_hour = groupby_hour.pivot(index='station',columns='hour',values='traffic_count').fillna(0).astype('int')\n",
    "groupby_hour['cv'] = np.std(groupby_hour.to_numpy(),axis=1)/np.mean(groupby_hour.to_numpy(),axis=1)\n",
    "hourly_cv = groupby_hour.reset_index()[['station','cv']]\n",
    "hourly_cv.columns.name=None\n",
    "del groupby_hour\n",
    "hourly_cv.head()\n"
   ]
  },
  {
   "cell_type": "code",
   "execution_count": 103,
   "metadata": {},
   "outputs": [
    {
     "data": {
      "text/html": [
       "<div>\n",
       "<style scoped>\n",
       "    .dataframe tbody tr th:only-of-type {\n",
       "        vertical-align: middle;\n",
       "    }\n",
       "\n",
       "    .dataframe tbody tr th {\n",
       "        vertical-align: top;\n",
       "    }\n",
       "\n",
       "    .dataframe thead th {\n",
       "        text-align: right;\n",
       "    }\n",
       "</style>\n",
       "<table border=\"1\" class=\"dataframe\">\n",
       "  <thead>\n",
       "    <tr style=\"text-align: right;\">\n",
       "      <th></th>\n",
       "      <th>station</th>\n",
       "      <th>cv</th>\n",
       "    </tr>\n",
       "  </thead>\n",
       "  <tbody>\n",
       "    <tr>\n",
       "      <th>0</th>\n",
       "      <td>3樓客服中心</td>\n",
       "      <td>3.201562</td>\n",
       "    </tr>\n",
       "    <tr>\n",
       "      <th>1</th>\n",
       "      <td>?公公園</td>\n",
       "      <td>0.203533</td>\n",
       "    </tr>\n",
       "    <tr>\n",
       "      <th>2</th>\n",
       "      <td>?寮公園</td>\n",
       "      <td>5.385165</td>\n",
       "    </tr>\n",
       "    <tr>\n",
       "      <th>3</th>\n",
       "      <td>一壽橋</td>\n",
       "      <td>0.312968</td>\n",
       "    </tr>\n",
       "    <tr>\n",
       "      <th>4</th>\n",
       "      <td>一江公園</td>\n",
       "      <td>0.257237</td>\n",
       "    </tr>\n",
       "  </tbody>\n",
       "</table>\n",
       "</div>"
      ],
      "text/plain": [
       "  station        cv\n",
       "0  3樓客服中心  3.201562\n",
       "1    ?公公園  0.203533\n",
       "2    ?寮公園  5.385165\n",
       "3     一壽橋  0.312968\n",
       "4    一江公園  0.257237"
      ]
     },
     "execution_count": 103,
     "metadata": {},
     "output_type": "execute_result"
    }
   ],
   "source": [
    "groupby_date = all_access.groupby(['station','source_date']).size().reset_index(name='traffic_count')\n",
    "groupby_date = groupby_date.pivot(index='station',columns='source_date',values='traffic_count').fillna(0).astype('int')\n",
    "groupby_date['cv'] = np.std(groupby_date.to_numpy(),axis=1)/np.mean(groupby_date.to_numpy(),axis=1)\n",
    "daily_cv = groupby_date.reset_index()[['station','cv']]\n",
    "daily_cv.columns.name=None\n",
    "del groupby_date\n",
    "daily_cv.head()\n"
   ]
  },
  {
   "cell_type": "code",
   "execution_count": 104,
   "metadata": {},
   "outputs": [],
   "source": [
    "all_access['day_of_week'] = pd.to_datetime(all_access['source_date']).dt.weekday\n",
    "all_access['weekday_weekend'] = np.where(all_access['day_of_week'].isin(range(0,5)),'weekday','weekend')"
   ]
  },
  {
   "cell_type": "code",
   "execution_count": 105,
   "metadata": {},
   "outputs": [
    {
     "data": {
      "text/html": [
       "<div>\n",
       "<style scoped>\n",
       "    .dataframe tbody tr th:only-of-type {\n",
       "        vertical-align: middle;\n",
       "    }\n",
       "\n",
       "    .dataframe tbody tr th {\n",
       "        vertical-align: top;\n",
       "    }\n",
       "\n",
       "    .dataframe thead th {\n",
       "        text-align: right;\n",
       "    }\n",
       "</style>\n",
       "<table border=\"1\" class=\"dataframe\">\n",
       "  <thead>\n",
       "    <tr style=\"text-align: right;\">\n",
       "      <th></th>\n",
       "      <th>station</th>\n",
       "      <th>cv</th>\n",
       "    </tr>\n",
       "  </thead>\n",
       "  <tbody>\n",
       "    <tr>\n",
       "      <th>0</th>\n",
       "      <td>3樓客服中心</td>\n",
       "      <td>0.500000</td>\n",
       "    </tr>\n",
       "    <tr>\n",
       "      <th>1</th>\n",
       "      <td>?公公園</td>\n",
       "      <td>0.433641</td>\n",
       "    </tr>\n",
       "    <tr>\n",
       "      <th>2</th>\n",
       "      <td>?寮公園</td>\n",
       "      <td>1.000000</td>\n",
       "    </tr>\n",
       "    <tr>\n",
       "      <th>3</th>\n",
       "      <td>一壽橋</td>\n",
       "      <td>0.528730</td>\n",
       "    </tr>\n",
       "    <tr>\n",
       "      <th>4</th>\n",
       "      <td>一江公園</td>\n",
       "      <td>0.648204</td>\n",
       "    </tr>\n",
       "  </tbody>\n",
       "</table>\n",
       "</div>"
      ],
      "text/plain": [
       "  station        cv\n",
       "0  3樓客服中心  0.500000\n",
       "1    ?公公園  0.433641\n",
       "2    ?寮公園  1.000000\n",
       "3     一壽橋  0.528730\n",
       "4    一江公園  0.648204"
      ]
     },
     "execution_count": 105,
     "metadata": {},
     "output_type": "execute_result"
    }
   ],
   "source": [
    "groupby_weekday_weekend = all_access.groupby(['station','weekday_weekend']).size().reset_index(name='traffic_count')\n",
    "groupby_weekday_weekend = groupby_weekday_weekend.pivot(index='station',columns='weekday_weekend',values='traffic_count').fillna(0).astype('int')\n",
    "groupby_weekday_weekend['cv'] = np.std(groupby_weekday_weekend.to_numpy(),axis=1)/np.mean(groupby_weekday_weekend.to_numpy(),axis=1)\n",
    "weekday_weekend_cv = groupby_weekday_weekend.reset_index()[['station','cv']]\n",
    "weekday_weekend_cv.columns.name=None\n",
    "del groupby_weekday_weekend\n",
    "weekday_weekend_cv.head()\n"
   ]
  },
  {
   "cell_type": "code",
   "execution_count": 106,
   "metadata": {},
   "outputs": [],
   "source": [
    "del all_access"
   ]
  },
  {
   "cell_type": "code",
   "execution_count": 107,
   "metadata": {},
   "outputs": [],
   "source": [
    "feature_set = feature_set.merge(hourly_cv,how='inner',on='station')\n",
    "feature_set = feature_set.merge(daily_cv,how='inner',on='station')\n",
    "feature_set = feature_set.merge(weekday_weekend_cv,how='inner',on='station')\n",
    "feature_set.shape\n",
    "del hourly_cv,daily_cv,weekday_weekend_cv"
   ]
  },
  {
   "cell_type": "code",
   "execution_count": 108,
   "metadata": {},
   "outputs": [
    {
     "data": {
      "text/html": [
       "<div>\n",
       "<style scoped>\n",
       "    .dataframe tbody tr th:only-of-type {\n",
       "        vertical-align: middle;\n",
       "    }\n",
       "\n",
       "    .dataframe tbody tr th {\n",
       "        vertical-align: top;\n",
       "    }\n",
       "\n",
       "    .dataframe thead th {\n",
       "        text-align: right;\n",
       "    }\n",
       "</style>\n",
       "<table border=\"1\" class=\"dataframe\">\n",
       "  <thead>\n",
       "    <tr style=\"text-align: right;\">\n",
       "      <th></th>\n",
       "      <th>station</th>\n",
       "      <th>usage_time_weekday</th>\n",
       "      <th>usage_time_weekend</th>\n",
       "    </tr>\n",
       "  </thead>\n",
       "  <tbody>\n",
       "    <tr>\n",
       "      <th>0</th>\n",
       "      <td>3樓客服中心</td>\n",
       "      <td>478.333333</td>\n",
       "      <td>589.000000</td>\n",
       "    </tr>\n",
       "    <tr>\n",
       "      <th>1</th>\n",
       "      <td>?公公園</td>\n",
       "      <td>1162.664787</td>\n",
       "      <td>1189.630844</td>\n",
       "    </tr>\n",
       "    <tr>\n",
       "      <th>2</th>\n",
       "      <td>一壽橋</td>\n",
       "      <td>1729.235751</td>\n",
       "      <td>2475.450820</td>\n",
       "    </tr>\n",
       "    <tr>\n",
       "      <th>3</th>\n",
       "      <td>一江公園</td>\n",
       "      <td>1001.648606</td>\n",
       "      <td>1125.544118</td>\n",
       "    </tr>\n",
       "    <tr>\n",
       "      <th>4</th>\n",
       "      <td>三張犁</td>\n",
       "      <td>1000.225486</td>\n",
       "      <td>1102.718121</td>\n",
       "    </tr>\n",
       "  </tbody>\n",
       "</table>\n",
       "</div>"
      ],
      "text/plain": [
       "  station  usage_time_weekday  usage_time_weekend\n",
       "0  3樓客服中心          478.333333          589.000000\n",
       "1    ?公公園         1162.664787         1189.630844\n",
       "2     一壽橋         1729.235751         2475.450820\n",
       "3    一江公園         1001.648606         1125.544118\n",
       "4     三張犁         1000.225486         1102.718121"
      ]
     },
     "execution_count": 108,
     "metadata": {},
     "output_type": "execute_result"
    }
   ],
   "source": [
    "# Duration of Use (weekday)\n",
    "# Duration of Use (weekend)\n",
    "weekday_duration = df[~df['day_of_week'].isin([5,6])].groupby('lend_station_name')['usage_time'].mean().reset_index()\n",
    "weekend_duration = df[~df['day_of_week'].isin(range(0,5))].groupby('lend_station_name')['usage_time'].mean().reset_index()\n",
    "duration_data = pd.merge(weekday_duration,weekend_duration,how='outer',on='lend_station_name',suffixes=['_weekday','_weekend'])\n",
    "duration_data = duration_data.rename({'lend_station_name':'station'},axis=1)\n",
    "duration_data.head()"
   ]
  },
  {
   "cell_type": "code",
   "execution_count": 109,
   "metadata": {},
   "outputs": [],
   "source": [
    "feature_set = feature_set.merge(duration_data,how='inner',on='station')\n",
    "feature_set.shape\n",
    "del duration_data"
   ]
  },
  {
   "cell_type": "code",
   "execution_count": 110,
   "metadata": {},
   "outputs": [
    {
     "data": {
      "text/html": [
       "<div>\n",
       "<style scoped>\n",
       "    .dataframe tbody tr th:only-of-type {\n",
       "        vertical-align: middle;\n",
       "    }\n",
       "\n",
       "    .dataframe tbody tr th {\n",
       "        vertical-align: top;\n",
       "    }\n",
       "\n",
       "    .dataframe thead th {\n",
       "        text-align: right;\n",
       "    }\n",
       "</style>\n",
       "<table border=\"1\" class=\"dataframe\">\n",
       "  <thead>\n",
       "    <tr style=\"text-align: right;\">\n",
       "      <th></th>\n",
       "      <th>station</th>\n",
       "      <th>top3_sum_percentage</th>\n",
       "    </tr>\n",
       "  </thead>\n",
       "  <tbody>\n",
       "    <tr>\n",
       "      <th>0</th>\n",
       "      <td>3樓客服中心</td>\n",
       "      <td>1.000000</td>\n",
       "    </tr>\n",
       "    <tr>\n",
       "      <th>1</th>\n",
       "      <td>?公公園</td>\n",
       "      <td>0.083735</td>\n",
       "    </tr>\n",
       "    <tr>\n",
       "      <th>2</th>\n",
       "      <td>一壽橋</td>\n",
       "      <td>0.326772</td>\n",
       "    </tr>\n",
       "    <tr>\n",
       "      <th>3</th>\n",
       "      <td>一江公園</td>\n",
       "      <td>0.136215</td>\n",
       "    </tr>\n",
       "    <tr>\n",
       "      <th>4</th>\n",
       "      <td>三張犁</td>\n",
       "      <td>0.268297</td>\n",
       "    </tr>\n",
       "  </tbody>\n",
       "</table>\n",
       "</div>"
      ],
      "text/plain": [
       "  station  top3_sum_percentage\n",
       "0  3樓客服中心             1.000000\n",
       "1    ?公公園             0.083735\n",
       "2     一壽橋             0.326772\n",
       "3    一江公園             0.136215\n",
       "4     三張犁             0.268297"
      ]
     },
     "execution_count": 110,
     "metadata": {},
     "output_type": "execute_result"
    }
   ],
   "source": [
    "# percentage of top3 linking stations\n",
    "# self returning percentage\n",
    "\n",
    "link_count = df.groupby('lend_station_name')['return_station_name'].value_counts(normalize=True).reset_index(name='proportion')\n",
    "top3_data = link_count.groupby('lend_station_name',group_keys=False).apply(lambda x: x.sort_values(by='proportion', ascending=False).head(3)['proportion'].sum()).reset_index(name='top3_sum_percentage')\n",
    "top3_data.rename({'lend_station_name':'station'},\n",
    "                            axis=1,inplace=True)\n",
    "top3_data.head()"
   ]
  },
  {
   "cell_type": "code",
   "execution_count": 111,
   "metadata": {},
   "outputs": [
    {
     "data": {
      "text/html": [
       "<div>\n",
       "<style scoped>\n",
       "    .dataframe tbody tr th:only-of-type {\n",
       "        vertical-align: middle;\n",
       "    }\n",
       "\n",
       "    .dataframe tbody tr th {\n",
       "        vertical-align: top;\n",
       "    }\n",
       "\n",
       "    .dataframe thead th {\n",
       "        text-align: right;\n",
       "    }\n",
       "</style>\n",
       "<table border=\"1\" class=\"dataframe\">\n",
       "  <thead>\n",
       "    <tr style=\"text-align: right;\">\n",
       "      <th></th>\n",
       "      <th>station</th>\n",
       "      <th>self_returning_proportion</th>\n",
       "    </tr>\n",
       "  </thead>\n",
       "  <tbody>\n",
       "    <tr>\n",
       "      <th>0</th>\n",
       "      <td>3樓客服中心</td>\n",
       "      <td>1.000000</td>\n",
       "    </tr>\n",
       "    <tr>\n",
       "      <th>1</th>\n",
       "      <td>?公公園</td>\n",
       "      <td>0.044378</td>\n",
       "    </tr>\n",
       "    <tr>\n",
       "      <th>558</th>\n",
       "      <td>一壽橋</td>\n",
       "      <td>0.256890</td>\n",
       "    </tr>\n",
       "    <tr>\n",
       "      <th>675</th>\n",
       "      <td>一江公園</td>\n",
       "      <td>0.072692</td>\n",
       "    </tr>\n",
       "    <tr>\n",
       "      <th>936</th>\n",
       "      <td>三張犁</td>\n",
       "      <td>0.105175</td>\n",
       "    </tr>\n",
       "  </tbody>\n",
       "</table>\n",
       "</div>"
      ],
      "text/plain": [
       "    station  self_returning_proportion\n",
       "0    3樓客服中心                   1.000000\n",
       "1      ?公公園                   0.044378\n",
       "558     一壽橋                   0.256890\n",
       "675    一江公園                   0.072692\n",
       "936     三張犁                   0.105175"
      ]
     },
     "execution_count": 111,
     "metadata": {},
     "output_type": "execute_result"
    }
   ],
   "source": [
    "self_returning_data = link_count[link_count['lend_station_name']==link_count['return_station_name']]\n",
    "self_returning_data = self_returning_data[['lend_station_name','proportion']]\n",
    "self_returning_data.rename({'lend_station_name':'station',\n",
    "                            'proportion':'self_returning_proportion'},\n",
    "                            axis=1,inplace=True)\n",
    "self_returning_data.head()"
   ]
  },
  {
   "cell_type": "code",
   "execution_count": 112,
   "metadata": {},
   "outputs": [],
   "source": [
    "del link_count"
   ]
  },
  {
   "cell_type": "code",
   "execution_count": 113,
   "metadata": {},
   "outputs": [],
   "source": [
    "feature_set = feature_set.merge(top3_data,how='inner',on='station')\n",
    "feature_set = feature_set.merge(self_returning_data,how='inner',on='station')\n",
    "feature_set.shape\n",
    "del top3_data, self_returning_data"
   ]
  },
  {
   "cell_type": "code",
   "execution_count": 114,
   "metadata": {},
   "outputs": [],
   "source": [
    "# Usage Variability (Seasonality) 目前只有一個月沒辦法有這個資料\n"
   ]
  },
  {
   "cell_type": "code",
   "execution_count": 115,
   "metadata": {},
   "outputs": [],
   "source": [
    "#Turnover Rate (不知道怎麼算？\n",
    "traffic_count = df.groupby(by=['lend_station_name']).size().reset_index(name='counts')\n",
    "traffic_count['daily_count'] = traffic_count['counts']/df['source_date'].nunique()"
   ]
  },
  {
   "cell_type": "code",
   "execution_count": 116,
   "metadata": {},
   "outputs": [],
   "source": [
    "traffic_count = tpe_stations[['name_tw','parking_spaces']].merge(traffic_count,how='inner',left_on='name_tw',right_on='lend_station_name')"
   ]
  },
  {
   "cell_type": "code",
   "execution_count": 117,
   "metadata": {},
   "outputs": [
    {
     "data": {
      "text/html": [
       "<div>\n",
       "<style scoped>\n",
       "    .dataframe tbody tr th:only-of-type {\n",
       "        vertical-align: middle;\n",
       "    }\n",
       "\n",
       "    .dataframe tbody tr th {\n",
       "        vertical-align: top;\n",
       "    }\n",
       "\n",
       "    .dataframe thead th {\n",
       "        text-align: right;\n",
       "    }\n",
       "</style>\n",
       "<table border=\"1\" class=\"dataframe\">\n",
       "  <thead>\n",
       "    <tr style=\"text-align: right;\">\n",
       "      <th></th>\n",
       "      <th>station</th>\n",
       "      <th>daily_turnover_rate</th>\n",
       "    </tr>\n",
       "  </thead>\n",
       "  <tbody>\n",
       "    <tr>\n",
       "      <th>0</th>\n",
       "      <td>捷運科技大樓站</td>\n",
       "      <td>18.127381</td>\n",
       "    </tr>\n",
       "    <tr>\n",
       "      <th>1</th>\n",
       "      <td>復興南路二段273號前</td>\n",
       "      <td>5.868254</td>\n",
       "    </tr>\n",
       "    <tr>\n",
       "      <th>2</th>\n",
       "      <td>國北教大實小東側門</td>\n",
       "      <td>4.352083</td>\n",
       "    </tr>\n",
       "    <tr>\n",
       "      <th>3</th>\n",
       "      <td>和平公園東側</td>\n",
       "      <td>8.660606</td>\n",
       "    </tr>\n",
       "    <tr>\n",
       "      <th>4</th>\n",
       "      <td>辛亥復興路口西北側</td>\n",
       "      <td>8.900000</td>\n",
       "    </tr>\n",
       "  </tbody>\n",
       "</table>\n",
       "</div>"
      ],
      "text/plain": [
       "       station  daily_turnover_rate\n",
       "0      捷運科技大樓站            18.127381\n",
       "1  復興南路二段273號前             5.868254\n",
       "2    國北教大實小東側門             4.352083\n",
       "3       和平公園東側             8.660606\n",
       "4    辛亥復興路口西北側             8.900000"
      ]
     },
     "execution_count": 117,
     "metadata": {},
     "output_type": "execute_result"
    }
   ],
   "source": [
    "traffic_count['daily_turnover_rate'] = traffic_count['daily_count']/traffic_count['parking_spaces']\n",
    "traffic_count = traffic_count[['name_tw','daily_turnover_rate']]\n",
    "traffic_count.rename({'name_tw':'station'},axis=1,inplace=True)\n",
    "traffic_count.head()"
   ]
  },
  {
   "cell_type": "code",
   "execution_count": 118,
   "metadata": {},
   "outputs": [],
   "source": [
    "feature_set = feature_set.merge(traffic_count,how='inner',on='station')\n",
    "feature_set.shape\n",
    "del traffic_count"
   ]
  },
  {
   "cell_type": "markdown",
   "metadata": {},
   "source": [
    "### next nearest station distance"
   ]
  },
  {
   "cell_type": "code",
   "execution_count": 119,
   "metadata": {},
   "outputs": [],
   "source": [
    "# next nearest station distance\n",
    "import geopy.distance"
   ]
  },
  {
   "cell_type": "code",
   "execution_count": 120,
   "metadata": {},
   "outputs": [],
   "source": [
    "def find_closest_distance(row,base_point):\n",
    "    other_point = row[['lat','lng']].to_numpy()\n",
    "    return geopy.distance.geodesic(base_point,other_point).m\n",
    "    "
   ]
  },
  {
   "cell_type": "code",
   "execution_count": 121,
   "metadata": {},
   "outputs": [],
   "source": [
    "#time complexity O(n**2)\n",
    "# distance = []\n",
    "# for idx,row in tqdm(tpe_stations.iterrows()):\n",
    "#     point_A = row[['lat','lng']].to_numpy()\n",
    "#     distance_list = tpe_stations.apply(find_closest_distance,base_point=point_A,axis=1)\n",
    "#     closest_distance = distance_list.sort_values().values[1]\n",
    "#     distance.append(closest_distance)"
   ]
  },
  {
   "cell_type": "code",
   "execution_count": 122,
   "metadata": {},
   "outputs": [
    {
     "name": "stderr",
     "output_type": "stream",
     "text": [
      "100%|██████████| 1413/1413 [00:48<00:00, 29.19it/s] \n"
     ]
    }
   ],
   "source": [
    "#time complexity O(n**2) but it's n(n-1)/2\n",
    "coords = tpe_stations[['lat', 'lng']].to_numpy()\n",
    "    \n",
    "# Initialize a matrix to store distances\n",
    "dist_matrix = np.zeros((len(coords), len(coords)))\n",
    "\n",
    "# Compute geodesic distance between each pair of points\n",
    "for i in tqdm(range(len(coords))):\n",
    "    for j in range(i + 1, len(coords)):\n",
    "        dist = geopy.distance.geodesic(coords[i], coords[j]).m\n",
    "        dist_matrix[i, j] = dist\n",
    "        dist_matrix[j, i] = dist  # since distance is symmetric\n",
    "\n",
    "# Find the minimum distance for each point, ignoring the zero (self-distance)\n",
    "# closest_distances = np.min(np.where(dist_matrix > 0, dist_matrix, np.inf), axis=1)\n",
    "# return closest_distances"
   ]
  },
  {
   "cell_type": "code",
   "execution_count": 123,
   "metadata": {},
   "outputs": [],
   "source": [
    "closest_distances = np.min(np.where(dist_matrix > 0, dist_matrix, np.inf), axis=1)"
   ]
  },
  {
   "cell_type": "code",
   "execution_count": 124,
   "metadata": {},
   "outputs": [],
   "source": [
    "tpe_stations['closest_distances'] = closest_distances"
   ]
  },
  {
   "cell_type": "code",
   "execution_count": 125,
   "metadata": {},
   "outputs": [],
   "source": [
    "# number of station in radius\n",
    "tpe_stations['R500_station_count'] = np.sum(dist_matrix<500,axis=0)-1"
   ]
  },
  {
   "cell_type": "code",
   "execution_count": 126,
   "metadata": {},
   "outputs": [
    {
     "data": {
      "text/plain": [
       "Index(['station_no', 'name_tw', 'district_tw', 'address_tw', 'parking_spaces',\n",
       "       'lat', 'lng', 'city_code', 'closest_distances', 'R500_station_count'],\n",
       "      dtype='object')"
      ]
     },
     "execution_count": 126,
     "metadata": {},
     "output_type": "execute_result"
    }
   ],
   "source": [
    "tpe_stations.columns"
   ]
  },
  {
   "cell_type": "code",
   "execution_count": 127,
   "metadata": {},
   "outputs": [
    {
     "data": {
      "text/plain": [
       "(1292, 35)"
      ]
     },
     "execution_count": 127,
     "metadata": {},
     "output_type": "execute_result"
    }
   ],
   "source": [
    "feature_set = feature_set.merge(tpe_stations[['name_tw','closest_distances', 'R500_station_count']],how='inner',\n",
    "                                left_on='station',\n",
    "                                right_on='name_tw')\n",
    "feature_set.shape"
   ]
  },
  {
   "cell_type": "code",
   "execution_count": 128,
   "metadata": {},
   "outputs": [],
   "source": [
    "del df"
   ]
  },
  {
   "cell_type": "markdown",
   "metadata": {},
   "source": [
    "### 用即時資料萃取"
   ]
  },
  {
   "cell_type": "code",
   "execution_count": 129,
   "metadata": {},
   "outputs": [],
   "source": [
    "ubike_rt = pd.read_csv('ubike_0501.csv',index_col=0)\n",
    "ubike_rt.drop_duplicates(inplace=True)"
   ]
  },
  {
   "cell_type": "code",
   "execution_count": 130,
   "metadata": {},
   "outputs": [],
   "source": [
    "# 缺車/正常/缺位比例 （缺車風險）還沒看風險怎麼算 先以即時資料的比例來看\n",
    "# 0 / 10% or 5 / normal\n",
    "ubike_rt['thres'] = np.min(np.column_stack(((ubike_rt['tot']*0.1).to_numpy(),np.full(len(ubike_rt),5))),axis=1)"
   ]
  },
  {
   "cell_type": "code",
   "execution_count": 131,
   "metadata": {},
   "outputs": [],
   "source": [
    "def bike_status(row):\n",
    "    space = row['bemp']\n",
    "    bike = row['sbi']\n",
    "    thres = row['thres']\n",
    "    if space == 0:\n",
    "        return '滿車'\n",
    "    elif bike ==0:\n",
    "        return '沒車'\n",
    "    elif space <thres:\n",
    "        return '快滿車'\n",
    "    elif bike <thres:\n",
    "        return '快沒車'\n",
    "    else:\n",
    "        return '正常'"
   ]
  },
  {
   "cell_type": "code",
   "execution_count": 132,
   "metadata": {},
   "outputs": [],
   "source": [
    "ubike_rt['station_status'] = ubike_rt.apply(bike_status,axis=1)"
   ]
  },
  {
   "cell_type": "code",
   "execution_count": 133,
   "metadata": {},
   "outputs": [],
   "source": [
    "ubike_rt['station'] = ubike_rt['sna'].apply(lambda x: x.split('_')[1])"
   ]
  },
  {
   "cell_type": "code",
   "execution_count": 134,
   "metadata": {},
   "outputs": [],
   "source": [
    "status_percentage = ubike_rt[['station','station_status']].groupby('station').value_counts(normalize=True).reset_index(name='percentage')"
   ]
  },
  {
   "cell_type": "code",
   "execution_count": 135,
   "metadata": {},
   "outputs": [],
   "source": [
    "status_percentage = status_percentage.pivot(index='station',columns='station_status',values='percentage').reset_index()\n",
    "status_percentage.fillna(0,inplace=True)\n"
   ]
  },
  {
   "cell_type": "code",
   "execution_count": 136,
   "metadata": {},
   "outputs": [
    {
     "data": {
      "text/html": [
       "<div>\n",
       "<style scoped>\n",
       "    .dataframe tbody tr th:only-of-type {\n",
       "        vertical-align: middle;\n",
       "    }\n",
       "\n",
       "    .dataframe tbody tr th {\n",
       "        vertical-align: top;\n",
       "    }\n",
       "\n",
       "    .dataframe thead th {\n",
       "        text-align: right;\n",
       "    }\n",
       "</style>\n",
       "<table border=\"1\" class=\"dataframe\">\n",
       "  <thead>\n",
       "    <tr style=\"text-align: right;\">\n",
       "      <th>station_status</th>\n",
       "      <th>station</th>\n",
       "      <th>快沒車</th>\n",
       "      <th>快滿車</th>\n",
       "      <th>正常</th>\n",
       "      <th>沒車</th>\n",
       "      <th>滿車</th>\n",
       "      <th>empty_risk_percentage</th>\n",
       "      <th>full_risk_percentage</th>\n",
       "    </tr>\n",
       "  </thead>\n",
       "  <tbody>\n",
       "    <tr>\n",
       "      <th>0</th>\n",
       "      <td>一壽橋</td>\n",
       "      <td>0.018837</td>\n",
       "      <td>0.031755</td>\n",
       "      <td>0.932185</td>\n",
       "      <td>0.013455</td>\n",
       "      <td>0.003767</td>\n",
       "      <td>0.032293</td>\n",
       "      <td>0.035522</td>\n",
       "    </tr>\n",
       "    <tr>\n",
       "      <th>1</th>\n",
       "      <td>一江公園</td>\n",
       "      <td>0.247578</td>\n",
       "      <td>0.000000</td>\n",
       "      <td>0.604413</td>\n",
       "      <td>0.148009</td>\n",
       "      <td>0.000000</td>\n",
       "      <td>0.395587</td>\n",
       "      <td>0.000000</td>\n",
       "    </tr>\n",
       "    <tr>\n",
       "      <th>2</th>\n",
       "      <td>三張犁</td>\n",
       "      <td>0.144241</td>\n",
       "      <td>0.022605</td>\n",
       "      <td>0.768030</td>\n",
       "      <td>0.055436</td>\n",
       "      <td>0.009688</td>\n",
       "      <td>0.199677</td>\n",
       "      <td>0.032293</td>\n",
       "    </tr>\n",
       "    <tr>\n",
       "      <th>3</th>\n",
       "      <td>三民公園</td>\n",
       "      <td>0.051130</td>\n",
       "      <td>0.041442</td>\n",
       "      <td>0.872982</td>\n",
       "      <td>0.020990</td>\n",
       "      <td>0.013455</td>\n",
       "      <td>0.072121</td>\n",
       "      <td>0.054898</td>\n",
       "    </tr>\n",
       "    <tr>\n",
       "      <th>4</th>\n",
       "      <td>三民公園(塔悠路)</td>\n",
       "      <td>0.050592</td>\n",
       "      <td>0.003767</td>\n",
       "      <td>0.900431</td>\n",
       "      <td>0.035522</td>\n",
       "      <td>0.009688</td>\n",
       "      <td>0.086114</td>\n",
       "      <td>0.013455</td>\n",
       "    </tr>\n",
       "  </tbody>\n",
       "</table>\n",
       "</div>"
      ],
      "text/plain": [
       "station_status    station       快沒車       快滿車        正常        沒車        滿車  \\\n",
       "0                     一壽橋  0.018837  0.031755  0.932185  0.013455  0.003767   \n",
       "1                    一江公園  0.247578  0.000000  0.604413  0.148009  0.000000   \n",
       "2                     三張犁  0.144241  0.022605  0.768030  0.055436  0.009688   \n",
       "3                    三民公園  0.051130  0.041442  0.872982  0.020990  0.013455   \n",
       "4               三民公園(塔悠路)  0.050592  0.003767  0.900431  0.035522  0.009688   \n",
       "\n",
       "station_status  empty_risk_percentage  full_risk_percentage  \n",
       "0                            0.032293              0.035522  \n",
       "1                            0.395587              0.000000  \n",
       "2                            0.199677              0.032293  \n",
       "3                            0.072121              0.054898  \n",
       "4                            0.086114              0.013455  "
      ]
     },
     "execution_count": 136,
     "metadata": {},
     "output_type": "execute_result"
    }
   ],
   "source": [
    "status_percentage['empty_risk_percentage'] = status_percentage['快沒車']+status_percentage['沒車']\n",
    "status_percentage['full_risk_percentage'] = status_percentage['快滿車']+status_percentage['滿車']\n",
    "status_percentage.head()"
   ]
  },
  {
   "cell_type": "code",
   "execution_count": 137,
   "metadata": {},
   "outputs": [],
   "source": [
    "feature_set = feature_set.merge(status_percentage[['station','empty_risk_percentage', 'full_risk_percentage']],how='inner',\n",
    "                                on='station')\n",
    "feature_set.shape\n",
    "del status_percentage"
   ]
  },
  {
   "cell_type": "code",
   "execution_count": 138,
   "metadata": {},
   "outputs": [],
   "source": [
    "# delta value mean\n",
    "ubike_rt['delta'] = np.abs(ubike_rt.groupby('sna')['sbi'].diff())"
   ]
  },
  {
   "cell_type": "code",
   "execution_count": 139,
   "metadata": {},
   "outputs": [],
   "source": [
    "ubike_rt = ubike_rt.dropna()"
   ]
  },
  {
   "cell_type": "code",
   "execution_count": 140,
   "metadata": {},
   "outputs": [],
   "source": [
    "avg_delta_by_station = ubike_rt.groupby('station')['delta'].mean().reset_index()"
   ]
  },
  {
   "cell_type": "code",
   "execution_count": 141,
   "metadata": {},
   "outputs": [],
   "source": [
    "del ubike_rt"
   ]
  },
  {
   "cell_type": "code",
   "execution_count": 142,
   "metadata": {},
   "outputs": [
    {
     "data": {
      "text/plain": [
       "(1276, 38)"
      ]
     },
     "execution_count": 142,
     "metadata": {},
     "output_type": "execute_result"
    }
   ],
   "source": [
    "feature_set = feature_set.merge(avg_delta_by_station,how='inner',on='station')\n",
    "del avg_delta_by_station\n",
    "feature_set.shape"
   ]
  },
  {
   "cell_type": "code",
   "execution_count": 143,
   "metadata": {},
   "outputs": [],
   "source": [
    "feature_set.drop('name_tw',axis=1,inplace=True)"
   ]
  },
  {
   "cell_type": "code",
   "execution_count": 144,
   "metadata": {},
   "outputs": [],
   "source": [
    "feature_set.to_csv('bike_station_grouping_features.csv',index=False)"
   ]
  }
 ],
 "metadata": {
  "kernelspec": {
   "display_name": ".venv",
   "language": "python",
   "name": "python3"
  },
  "language_info": {
   "codemirror_mode": {
    "name": "ipython",
    "version": 3
   },
   "file_extension": ".py",
   "mimetype": "text/x-python",
   "name": "python",
   "nbconvert_exporter": "python",
   "pygments_lexer": "ipython3",
   "version": "3.12.2"
  }
 },
 "nbformat": 4,
 "nbformat_minor": 2
}
