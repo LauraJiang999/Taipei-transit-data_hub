{
 "cells": [
  {
   "cell_type": "code",
   "execution_count": 1,
   "metadata": {},
   "outputs": [],
   "source": [
    "import pandas as pd\n",
    "import numpy as np\n",
    "from tqdm import tqdm"
   ]
  },
  {
   "cell_type": "code",
   "execution_count": 2,
   "metadata": {},
   "outputs": [],
   "source": [
    "df = pd.read_csv('2023_11_bike_usage_history.csv',index_col=0)"
   ]
  },
  {
   "cell_type": "code",
   "execution_count": 3,
   "metadata": {},
   "outputs": [],
   "source": [
    "df.columns=['lend_time','lend_station_name','return_time','return_station_name','usage_time','source_date']\n",
    "df['source_date'] = pd.to_datetime(df['source_date'])\n",
    "df['lend_date'] = pd.to_datetime(df['lend_time']).dt.date\n",
    "df['lend_hour'] = pd.to_datetime(df['lend_time']).dt.hour\n",
    "df['return_date'] = pd.to_datetime(df['return_time']).dt.date\n",
    "df['return_hour'] = pd.to_datetime(df['return_time']).dt.hour\n",
    "df = df.drop(['lend_time','return_time'],axis=1)\n",
    "df['usage_time'] = pd.to_timedelta(df['usage_time']).dt.total_seconds().astype('int')"
   ]
  },
  {
   "cell_type": "code",
   "execution_count": 4,
   "metadata": {},
   "outputs": [],
   "source": [
    "tpe_stations = pd.read_csv('TPE_bike_station.csv')\n",
    "tpe_stations = tpe_stations[['station_no','name_tw','district_tw']]"
   ]
  },
  {
   "cell_type": "code",
   "execution_count": 6,
   "metadata": {},
   "outputs": [],
   "source": [
    "# average daily use (weekday)\n",
    "# average daily use (weekend)\n"
   ]
  },
  {
   "cell_type": "code",
   "execution_count": 7,
   "metadata": {},
   "outputs": [],
   "source": [
    "df['day_of_week'] = pd.to_datetime(df['source_date']).dt.weekday"
   ]
  },
  {
   "cell_type": "code",
   "execution_count": 8,
   "metadata": {},
   "outputs": [],
   "source": [
    "weekday = df[~df['day_of_week'].isin([5,6])]\n",
    "weekday = pd.concat([weekday['lend_station_name'],weekday['return_station_name']]).rename('station').value_counts().to_frame().reset_index()\n",
    "weekday = weekday[weekday['station'].isin(tpe_stations['name_tw'])]"
   ]
  },
  {
   "cell_type": "code",
   "execution_count": 9,
   "metadata": {},
   "outputs": [],
   "source": [
    "weekend = df[~df['day_of_week'].isin(range(0,5))]\n",
    "weekend = pd.concat([weekend['lend_station_name'],weekend['return_station_name']]).rename('station').value_counts().to_frame().reset_index()\n",
    "weekend = weekend[weekend['station'].isin(tpe_stations['name_tw'])]"
   ]
  },
  {
   "cell_type": "code",
   "execution_count": 10,
   "metadata": {},
   "outputs": [],
   "source": [
    "weekday['count'] = weekday['count']/df['source_date'].nunique()\n",
    "weekend['count'] = weekend['count']/df['source_date'].nunique()\n"
   ]
  },
  {
   "cell_type": "code",
   "execution_count": 11,
   "metadata": {},
   "outputs": [],
   "source": [
    "avg_use = pd.merge(weekday,weekend,how='outer',on='station',suffixes=['_weekday','_weekend'])\n",
    "avg_use = avg_use.fillna(0)\n",
    "del weekday,weekend"
   ]
  },
  {
   "cell_type": "code",
   "execution_count": 12,
   "metadata": {},
   "outputs": [],
   "source": [
    "# Peak Usage Times top 5 (weekday)\n",
    "# Peak Usage Times top 5 (weekend)"
   ]
  },
  {
   "cell_type": "code",
   "execution_count": 13,
   "metadata": {},
   "outputs": [],
   "source": [
    "weekday = df[~df['day_of_week'].isin([5,6])]"
   ]
  },
  {
   "cell_type": "code",
   "execution_count": 14,
   "metadata": {},
   "outputs": [],
   "source": [
    "col_name = ['station','hour']\n",
    "weekday = pd.concat([\n",
    "    weekday[['lend_station_name','lend_hour']].set_axis(col_name,axis=1),\n",
    "    weekday[['return_station_name','return_hour']].set_axis(col_name,axis=1),\n",
    "])"
   ]
  },
  {
   "cell_type": "code",
   "execution_count": 15,
   "metadata": {},
   "outputs": [],
   "source": [
    "weekday_traffic_counts = weekday.groupby(['station', 'hour']).value_counts().reset_index(name='counts')\n"
   ]
  },
  {
   "cell_type": "code",
   "execution_count": 16,
   "metadata": {},
   "outputs": [],
   "source": [
    "weekday_traffic_counts = weekday_traffic_counts.groupby('station', group_keys=False)\\\n",
    "    .apply(lambda x: x.sort_values(by='counts', ascending=False).head(3))"
   ]
  },
  {
   "cell_type": "code",
   "execution_count": 17,
   "metadata": {},
   "outputs": [],
   "source": [
    "weekday_traffic_counts['rank'] = weekday_traffic_counts.groupby('station')['counts'].rank(method='first', ascending=False)\n",
    "\n",
    "# Pivot the DataFrame to wide format\n",
    "weekday_pivot_df = weekday_traffic_counts.pivot(index='station', columns='rank', values=['hour', 'counts'])"
   ]
  },
  {
   "cell_type": "code",
   "execution_count": 18,
   "metadata": {},
   "outputs": [],
   "source": [
    "weekday_pivot_df.columns = [f'{col[0]}_top{int(col[1])}' for col in weekday_pivot_df.columns]\n",
    "weekday_pivot_df.reset_index(inplace=True)"
   ]
  },
  {
   "cell_type": "code",
   "execution_count": 19,
   "metadata": {},
   "outputs": [],
   "source": [
    "weekend = df[~df['day_of_week'].isin(range(0,5))]\n",
    "col_name = ['station','hour']\n",
    "weekend = pd.concat([\n",
    "    weekend[['lend_station_name','lend_hour']].set_axis(col_name,axis=1),\n",
    "    weekend[['return_station_name','return_hour']].set_axis(col_name,axis=1),\n",
    "])\n",
    "weekend_traffic_counts = weekend.groupby(['station', 'hour']).value_counts().reset_index(name='counts')\n",
    "weekend_traffic_counts = weekend_traffic_counts.groupby('station', group_keys=False)\\\n",
    "    .apply(lambda x: x.sort_values(by='counts', ascending=False).head(3))\n",
    "weekend_traffic_counts['rank'] = weekend_traffic_counts.groupby('station')['counts'].rank(method='first', ascending=False)\n",
    "\n",
    "# Pivot the DataFrame to wide format\n",
    "weekend_pivot_df = weekend_traffic_counts.pivot(index='station', columns='rank', values=['hour', 'counts'])\n",
    "weekend_pivot_df.columns = [f'{col[0]}_top{int(col[1])}' for col in weekend_pivot_df.columns]\n",
    "weekend_pivot_df.reset_index(inplace=True)"
   ]
  },
  {
   "cell_type": "code",
   "execution_count": 20,
   "metadata": {},
   "outputs": [],
   "source": [
    "pivot_data = pd.merge(weekday_pivot_df,weekend_pivot_df,how='outer',on='station',suffixes=['_weekday','_weekend'])\n",
    "del weekday,weekend,weekday_pivot_df,weekend_pivot_df"
   ]
  },
  {
   "cell_type": "code",
   "execution_count": 21,
   "metadata": {},
   "outputs": [],
   "source": [
    "pivot_data = pivot_data[pivot_data['station'].isin(tpe_stations['name_tw'])]"
   ]
  },
  {
   "cell_type": "code",
   "execution_count": 22,
   "metadata": {},
   "outputs": [
    {
     "data": {
      "text/plain": [
       "((1294, 3), (1294, 13))"
      ]
     },
     "execution_count": 22,
     "metadata": {},
     "output_type": "execute_result"
    }
   ],
   "source": [
    "avg_use.shape,pivot_data.shape"
   ]
  },
  {
   "cell_type": "code",
   "execution_count": 102,
   "metadata": {},
   "outputs": [],
   "source": [
    "# Usage Variability (daily) 變異係數\n",
    "# Usage Variability (hourly) 變異係數\n",
    "# Usage Variability (weekend/weekday) 變異係數\n",
    "col_name = ['station','hour','source_date']\n",
    "all_access = pd.concat([\n",
    "    df[['lend_station_name','lend_hour','source_date']].set_axis(col_name,axis=1),\n",
    "    df[['return_station_name','return_hour','source_date']].set_axis(col_name,axis=1),\n",
    "])"
   ]
  },
  {
   "cell_type": "code",
   "execution_count": 171,
   "metadata": {},
   "outputs": [
    {
     "data": {
      "text/html": [
       "<div>\n",
       "<style scoped>\n",
       "    .dataframe tbody tr th:only-of-type {\n",
       "        vertical-align: middle;\n",
       "    }\n",
       "\n",
       "    .dataframe tbody tr th {\n",
       "        vertical-align: top;\n",
       "    }\n",
       "\n",
       "    .dataframe thead th {\n",
       "        text-align: right;\n",
       "    }\n",
       "</style>\n",
       "<table border=\"1\" class=\"dataframe\">\n",
       "  <thead>\n",
       "    <tr style=\"text-align: right;\">\n",
       "      <th></th>\n",
       "      <th>station</th>\n",
       "      <th>cv</th>\n",
       "    </tr>\n",
       "  </thead>\n",
       "  <tbody>\n",
       "    <tr>\n",
       "      <th>0</th>\n",
       "      <td>3樓客服中心</td>\n",
       "      <td>2.828427</td>\n",
       "    </tr>\n",
       "    <tr>\n",
       "      <th>1</th>\n",
       "      <td>?公公園</td>\n",
       "      <td>0.674676</td>\n",
       "    </tr>\n",
       "    <tr>\n",
       "      <th>2</th>\n",
       "      <td>?寮公園</td>\n",
       "      <td>4.795832</td>\n",
       "    </tr>\n",
       "    <tr>\n",
       "      <th>3</th>\n",
       "      <td>一壽橋</td>\n",
       "      <td>0.761308</td>\n",
       "    </tr>\n",
       "    <tr>\n",
       "      <th>4</th>\n",
       "      <td>一江公園</td>\n",
       "      <td>0.768149</td>\n",
       "    </tr>\n",
       "  </tbody>\n",
       "</table>\n",
       "</div>"
      ],
      "text/plain": [
       "  station        cv\n",
       "0  3樓客服中心  2.828427\n",
       "1    ?公公園  0.674676\n",
       "2    ?寮公園  4.795832\n",
       "3     一壽橋  0.761308\n",
       "4    一江公園  0.768149"
      ]
     },
     "execution_count": 171,
     "metadata": {},
     "output_type": "execute_result"
    }
   ],
   "source": [
    "# groupby_hour\n",
    "groupby_hour = all_access.groupby(['station','hour']).size().reset_index(name='traffic_count')\n",
    "groupby_hour = groupby_hour.pivot(index='station',columns='hour',values='traffic_count').fillna(0).astype('int')\n",
    "groupby_hour['cv'] = np.std(groupby_hour.to_numpy(),axis=1)/np.mean(groupby_hour.to_numpy(),axis=1)\n",
    "hourly_cv = groupby_hour.reset_index()[['station','cv']]\n",
    "hourly_cv.columns.name=None\n",
    "del groupby_hour\n",
    "hourly_cv.head()\n"
   ]
  },
  {
   "cell_type": "code",
   "execution_count": 172,
   "metadata": {},
   "outputs": [
    {
     "data": {
      "text/html": [
       "<div>\n",
       "<style scoped>\n",
       "    .dataframe tbody tr th:only-of-type {\n",
       "        vertical-align: middle;\n",
       "    }\n",
       "\n",
       "    .dataframe tbody tr th {\n",
       "        vertical-align: top;\n",
       "    }\n",
       "\n",
       "    .dataframe thead th {\n",
       "        text-align: right;\n",
       "    }\n",
       "</style>\n",
       "<table border=\"1\" class=\"dataframe\">\n",
       "  <thead>\n",
       "    <tr style=\"text-align: right;\">\n",
       "      <th></th>\n",
       "      <th>station</th>\n",
       "      <th>cv</th>\n",
       "    </tr>\n",
       "  </thead>\n",
       "  <tbody>\n",
       "    <tr>\n",
       "      <th>0</th>\n",
       "      <td>3樓客服中心</td>\n",
       "      <td>3.201562</td>\n",
       "    </tr>\n",
       "    <tr>\n",
       "      <th>1</th>\n",
       "      <td>?公公園</td>\n",
       "      <td>0.203533</td>\n",
       "    </tr>\n",
       "    <tr>\n",
       "      <th>2</th>\n",
       "      <td>?寮公園</td>\n",
       "      <td>5.385165</td>\n",
       "    </tr>\n",
       "    <tr>\n",
       "      <th>3</th>\n",
       "      <td>一壽橋</td>\n",
       "      <td>0.312968</td>\n",
       "    </tr>\n",
       "    <tr>\n",
       "      <th>4</th>\n",
       "      <td>一江公園</td>\n",
       "      <td>0.257237</td>\n",
       "    </tr>\n",
       "  </tbody>\n",
       "</table>\n",
       "</div>"
      ],
      "text/plain": [
       "  station        cv\n",
       "0  3樓客服中心  3.201562\n",
       "1    ?公公園  0.203533\n",
       "2    ?寮公園  5.385165\n",
       "3     一壽橋  0.312968\n",
       "4    一江公園  0.257237"
      ]
     },
     "execution_count": 172,
     "metadata": {},
     "output_type": "execute_result"
    }
   ],
   "source": [
    "groupby_date = all_access.groupby(['station','source_date']).size().reset_index(name='traffic_count')\n",
    "groupby_date = groupby_date.pivot(index='station',columns='source_date',values='traffic_count').fillna(0).astype('int')\n",
    "groupby_date['cv'] = np.std(groupby_date.to_numpy(),axis=1)/np.mean(groupby_date.to_numpy(),axis=1)\n",
    "daily_cv = groupby_date.reset_index()[['station','cv']]\n",
    "daily_cv.columns.name=None\n",
    "del groupby_date\n",
    "daily_cv.head()\n"
   ]
  },
  {
   "cell_type": "code",
   "execution_count": 173,
   "metadata": {},
   "outputs": [],
   "source": [
    "all_access['day_of_week'] = pd.to_datetime(all_access['source_date']).dt.weekday\n",
    "all_access['weekday_weekend'] = np.where(all_access['day_of_week'].isin(range(0,5)),'weekday','weekend')"
   ]
  },
  {
   "cell_type": "code",
   "execution_count": 175,
   "metadata": {},
   "outputs": [
    {
     "data": {
      "text/html": [
       "<div>\n",
       "<style scoped>\n",
       "    .dataframe tbody tr th:only-of-type {\n",
       "        vertical-align: middle;\n",
       "    }\n",
       "\n",
       "    .dataframe tbody tr th {\n",
       "        vertical-align: top;\n",
       "    }\n",
       "\n",
       "    .dataframe thead th {\n",
       "        text-align: right;\n",
       "    }\n",
       "</style>\n",
       "<table border=\"1\" class=\"dataframe\">\n",
       "  <thead>\n",
       "    <tr style=\"text-align: right;\">\n",
       "      <th></th>\n",
       "      <th>station</th>\n",
       "      <th>cv</th>\n",
       "    </tr>\n",
       "  </thead>\n",
       "  <tbody>\n",
       "    <tr>\n",
       "      <th>0</th>\n",
       "      <td>3樓客服中心</td>\n",
       "      <td>0.500000</td>\n",
       "    </tr>\n",
       "    <tr>\n",
       "      <th>1</th>\n",
       "      <td>?公公園</td>\n",
       "      <td>0.433641</td>\n",
       "    </tr>\n",
       "    <tr>\n",
       "      <th>2</th>\n",
       "      <td>?寮公園</td>\n",
       "      <td>1.000000</td>\n",
       "    </tr>\n",
       "    <tr>\n",
       "      <th>3</th>\n",
       "      <td>一壽橋</td>\n",
       "      <td>0.528730</td>\n",
       "    </tr>\n",
       "    <tr>\n",
       "      <th>4</th>\n",
       "      <td>一江公園</td>\n",
       "      <td>0.648204</td>\n",
       "    </tr>\n",
       "  </tbody>\n",
       "</table>\n",
       "</div>"
      ],
      "text/plain": [
       "  station        cv\n",
       "0  3樓客服中心  0.500000\n",
       "1    ?公公園  0.433641\n",
       "2    ?寮公園  1.000000\n",
       "3     一壽橋  0.528730\n",
       "4    一江公園  0.648204"
      ]
     },
     "execution_count": 175,
     "metadata": {},
     "output_type": "execute_result"
    }
   ],
   "source": [
    "groupby_weekday_weekend = all_access.groupby(['station','weekday_weekend']).size().reset_index(name='traffic_count')\n",
    "groupby_weekday_weekend = groupby_weekday_weekend.pivot(index='station',columns='weekday_weekend',values='traffic_count').fillna(0).astype('int')\n",
    "groupby_weekday_weekend['cv'] = np.std(groupby_weekday_weekend.to_numpy(),axis=1)/np.mean(groupby_weekday_weekend.to_numpy(),axis=1)\n",
    "daily_cv = groupby_weekday_weekend.reset_index()[['station','cv']]\n",
    "daily_cv.columns.name=None\n",
    "del groupby_weekday_weekend\n",
    "daily_cv.head()\n"
   ]
  },
  {
   "cell_type": "code",
   "execution_count": 98,
   "metadata": {},
   "outputs": [
    {
     "data": {
      "text/html": [
       "<div>\n",
       "<style scoped>\n",
       "    .dataframe tbody tr th:only-of-type {\n",
       "        vertical-align: middle;\n",
       "    }\n",
       "\n",
       "    .dataframe tbody tr th {\n",
       "        vertical-align: top;\n",
       "    }\n",
       "\n",
       "    .dataframe thead th {\n",
       "        text-align: right;\n",
       "    }\n",
       "</style>\n",
       "<table border=\"1\" class=\"dataframe\">\n",
       "  <thead>\n",
       "    <tr style=\"text-align: right;\">\n",
       "      <th></th>\n",
       "      <th>station</th>\n",
       "      <th>usage_time_weekday</th>\n",
       "      <th>usage_time_weekend</th>\n",
       "    </tr>\n",
       "  </thead>\n",
       "  <tbody>\n",
       "    <tr>\n",
       "      <th>0</th>\n",
       "      <td>3樓客服中心</td>\n",
       "      <td>478.333333</td>\n",
       "      <td>589.000000</td>\n",
       "    </tr>\n",
       "    <tr>\n",
       "      <th>1</th>\n",
       "      <td>?公公園</td>\n",
       "      <td>1162.664787</td>\n",
       "      <td>1189.630844</td>\n",
       "    </tr>\n",
       "    <tr>\n",
       "      <th>2</th>\n",
       "      <td>一壽橋</td>\n",
       "      <td>1729.235751</td>\n",
       "      <td>2475.450820</td>\n",
       "    </tr>\n",
       "    <tr>\n",
       "      <th>3</th>\n",
       "      <td>一江公園</td>\n",
       "      <td>1001.648606</td>\n",
       "      <td>1125.544118</td>\n",
       "    </tr>\n",
       "    <tr>\n",
       "      <th>4</th>\n",
       "      <td>三張犁</td>\n",
       "      <td>1000.225486</td>\n",
       "      <td>1102.718121</td>\n",
       "    </tr>\n",
       "  </tbody>\n",
       "</table>\n",
       "</div>"
      ],
      "text/plain": [
       "  station  usage_time_weekday  usage_time_weekend\n",
       "0  3樓客服中心          478.333333          589.000000\n",
       "1    ?公公園         1162.664787         1189.630844\n",
       "2     一壽橋         1729.235751         2475.450820\n",
       "3    一江公園         1001.648606         1125.544118\n",
       "4     三張犁         1000.225486         1102.718121"
      ]
     },
     "execution_count": 98,
     "metadata": {},
     "output_type": "execute_result"
    }
   ],
   "source": [
    "# Duration of Use (weekday)\n",
    "# Duration of Use (weekend)\n",
    "weekday_duration = df[~df['day_of_week'].isin([5,6])].groupby('lend_station_name')['usage_time'].mean().reset_index()\n",
    "weekend_duration = df[~df['day_of_week'].isin(range(0,5))].groupby('lend_station_name')['usage_time'].mean().reset_index()\n",
    "duration_data = pd.merge(weekday_duration,weekend_duration,how='outer',on='lend_station_name',suffixes=['_weekday','_weekend'])\n",
    "duration_data = duration_data.rename({'lend_station_name':'station'},axis=1)\n",
    "duration_data.head()"
   ]
  },
  {
   "cell_type": "code",
   "execution_count": null,
   "metadata": {},
   "outputs": [],
   "source": [
    "# percentage of top3 linking stations"
   ]
  },
  {
   "cell_type": "code",
   "execution_count": 25,
   "metadata": {},
   "outputs": [],
   "source": [
    "# Usage Variability (Seasonality) 目前只有一個月沒辦法有這個資料\n"
   ]
  },
  {
   "cell_type": "code",
   "execution_count": null,
   "metadata": {},
   "outputs": [],
   "source": [
    "#Turnover Rate (不知道怎麼算？"
   ]
  },
  {
   "cell_type": "markdown",
   "metadata": {},
   "source": [
    "### next nearest station distance"
   ]
  },
  {
   "cell_type": "code",
   "execution_count": 81,
   "metadata": {},
   "outputs": [
    {
     "data": {
      "text/html": [
       "<div>\n",
       "<style scoped>\n",
       "    .dataframe tbody tr th:only-of-type {\n",
       "        vertical-align: middle;\n",
       "    }\n",
       "\n",
       "    .dataframe tbody tr th {\n",
       "        vertical-align: top;\n",
       "    }\n",
       "\n",
       "    .dataframe thead th {\n",
       "        text-align: right;\n",
       "    }\n",
       "</style>\n",
       "<table border=\"1\" class=\"dataframe\">\n",
       "  <thead>\n",
       "    <tr style=\"text-align: right;\">\n",
       "      <th></th>\n",
       "      <th>station_no</th>\n",
       "      <th>name_tw</th>\n",
       "      <th>district_tw</th>\n",
       "      <th>address_tw</th>\n",
       "      <th>parking_spaces</th>\n",
       "      <th>lat</th>\n",
       "      <th>lng</th>\n",
       "      <th>city_code</th>\n",
       "    </tr>\n",
       "  </thead>\n",
       "  <tbody>\n",
       "    <tr>\n",
       "      <th>0</th>\n",
       "      <td>500101001</td>\n",
       "      <td>捷運科技大樓站</td>\n",
       "      <td>大安區</td>\n",
       "      <td>復興南路二段235號前</td>\n",
       "      <td>28</td>\n",
       "      <td>25.02605</td>\n",
       "      <td>121.54360</td>\n",
       "      <td>TPE</td>\n",
       "    </tr>\n",
       "    <tr>\n",
       "      <th>1</th>\n",
       "      <td>500101002</td>\n",
       "      <td>復興南路二段273號前</td>\n",
       "      <td>大安區</td>\n",
       "      <td>復興南路二段273號西側</td>\n",
       "      <td>21</td>\n",
       "      <td>25.02565</td>\n",
       "      <td>121.54357</td>\n",
       "      <td>TPE</td>\n",
       "    </tr>\n",
       "    <tr>\n",
       "      <th>2</th>\n",
       "      <td>500101003</td>\n",
       "      <td>國北教大實小東側門</td>\n",
       "      <td>大安區</td>\n",
       "      <td>和平東路二段96巷7號</td>\n",
       "      <td>16</td>\n",
       "      <td>25.02429</td>\n",
       "      <td>121.54124</td>\n",
       "      <td>TPE</td>\n",
       "    </tr>\n",
       "    <tr>\n",
       "      <th>3</th>\n",
       "      <td>500101004</td>\n",
       "      <td>和平公園東側</td>\n",
       "      <td>大安區</td>\n",
       "      <td>和平東路二段118巷33號</td>\n",
       "      <td>11</td>\n",
       "      <td>25.02351</td>\n",
       "      <td>121.54282</td>\n",
       "      <td>TPE</td>\n",
       "    </tr>\n",
       "    <tr>\n",
       "      <th>4</th>\n",
       "      <td>500101005</td>\n",
       "      <td>辛亥復興路口西北側</td>\n",
       "      <td>大安區</td>\n",
       "      <td>復興南路二段368號</td>\n",
       "      <td>16</td>\n",
       "      <td>25.02153</td>\n",
       "      <td>121.54299</td>\n",
       "      <td>TPE</td>\n",
       "    </tr>\n",
       "    <tr>\n",
       "      <th>...</th>\n",
       "      <td>...</td>\n",
       "      <td>...</td>\n",
       "      <td>...</td>\n",
       "      <td>...</td>\n",
       "      <td>...</td>\n",
       "      <td>...</td>\n",
       "      <td>...</td>\n",
       "      <td>...</td>\n",
       "    </tr>\n",
       "    <tr>\n",
       "      <th>1408</th>\n",
       "      <td>500119087</td>\n",
       "      <td>臺大總圖書館西南側</td>\n",
       "      <td>臺大公館校區</td>\n",
       "      <td>臺大圖書館西南側</td>\n",
       "      <td>30</td>\n",
       "      <td>25.01690</td>\n",
       "      <td>121.54031</td>\n",
       "      <td>TPE</td>\n",
       "    </tr>\n",
       "    <tr>\n",
       "      <th>1409</th>\n",
       "      <td>500119088</td>\n",
       "      <td>臺大黑森林西側</td>\n",
       "      <td>臺大公館校區</td>\n",
       "      <td>臺大霖澤館南側</td>\n",
       "      <td>20</td>\n",
       "      <td>25.01995</td>\n",
       "      <td>121.54347</td>\n",
       "      <td>TPE</td>\n",
       "    </tr>\n",
       "    <tr>\n",
       "      <th>1410</th>\n",
       "      <td>500119089</td>\n",
       "      <td>臺大獸醫館南側</td>\n",
       "      <td>臺大公館校區</td>\n",
       "      <td>臺大獸醫系館南側</td>\n",
       "      <td>24</td>\n",
       "      <td>25.01791</td>\n",
       "      <td>121.54242</td>\n",
       "      <td>TPE</td>\n",
       "    </tr>\n",
       "    <tr>\n",
       "      <th>1411</th>\n",
       "      <td>500119090</td>\n",
       "      <td>臺大新體育館東南側</td>\n",
       "      <td>臺大公館校區</td>\n",
       "      <td>臺大體育館東側</td>\n",
       "      <td>40</td>\n",
       "      <td>25.02112</td>\n",
       "      <td>121.53591</td>\n",
       "      <td>TPE</td>\n",
       "    </tr>\n",
       "    <tr>\n",
       "      <th>1412</th>\n",
       "      <td>500119091</td>\n",
       "      <td>臺大明達館北側(員工宿舍)</td>\n",
       "      <td>臺大公館校區</td>\n",
       "      <td>明達館北側前空地</td>\n",
       "      <td>18</td>\n",
       "      <td>25.01816</td>\n",
       "      <td>121.54469</td>\n",
       "      <td>TPE</td>\n",
       "    </tr>\n",
       "  </tbody>\n",
       "</table>\n",
       "<p>1413 rows × 8 columns</p>\n",
       "</div>"
      ],
      "text/plain": [
       "      station_no        name_tw district_tw     address_tw  parking_spaces  \\\n",
       "0      500101001        捷運科技大樓站         大安區    復興南路二段235號前              28   \n",
       "1      500101002    復興南路二段273號前         大安區   復興南路二段273號西側              21   \n",
       "2      500101003      國北教大實小東側門         大安區    和平東路二段96巷7號              16   \n",
       "3      500101004         和平公園東側         大安區  和平東路二段118巷33號              11   \n",
       "4      500101005      辛亥復興路口西北側         大安區     復興南路二段368號              16   \n",
       "...          ...            ...         ...            ...             ...   \n",
       "1408   500119087      臺大總圖書館西南側      臺大公館校區       臺大圖書館西南側              30   \n",
       "1409   500119088        臺大黑森林西側      臺大公館校區        臺大霖澤館南側              20   \n",
       "1410   500119089        臺大獸醫館南側      臺大公館校區       臺大獸醫系館南側              24   \n",
       "1411   500119090      臺大新體育館東南側      臺大公館校區        臺大體育館東側              40   \n",
       "1412   500119091  臺大明達館北側(員工宿舍)      臺大公館校區       明達館北側前空地              18   \n",
       "\n",
       "           lat        lng city_code  \n",
       "0     25.02605  121.54360       TPE  \n",
       "1     25.02565  121.54357       TPE  \n",
       "2     25.02429  121.54124       TPE  \n",
       "3     25.02351  121.54282       TPE  \n",
       "4     25.02153  121.54299       TPE  \n",
       "...        ...        ...       ...  \n",
       "1408  25.01690  121.54031       TPE  \n",
       "1409  25.01995  121.54347       TPE  \n",
       "1410  25.01791  121.54242       TPE  \n",
       "1411  25.02112  121.53591       TPE  \n",
       "1412  25.01816  121.54469       TPE  \n",
       "\n",
       "[1413 rows x 8 columns]"
      ]
     },
     "execution_count": 81,
     "metadata": {},
     "output_type": "execute_result"
    }
   ],
   "source": [
    "# next nearest station distance\n",
    "import geopy.distance\n",
    "tpe_stations = pd.read_csv('TPE_bike_station.csv')\n",
    "tpe_stations"
   ]
  },
  {
   "cell_type": "code",
   "execution_count": 82,
   "metadata": {},
   "outputs": [],
   "source": [
    "def find_closest_distance(row,base_point):\n",
    "    other_point = row[['lat','lng']].to_numpy()\n",
    "    return geopy.distance.geodesic(base_point,other_point).m\n",
    "    "
   ]
  },
  {
   "cell_type": "code",
   "execution_count": 83,
   "metadata": {},
   "outputs": [],
   "source": [
    "#time complexity O(n**2)\n",
    "# distance = []\n",
    "# for idx,row in tqdm(tpe_stations.iterrows()):\n",
    "#     point_A = row[['lat','lng']].to_numpy()\n",
    "#     distance_list = tpe_stations.apply(find_closest_distance,base_point=point_A,axis=1)\n",
    "#     closest_distance = distance_list.sort_values().values[1]\n",
    "#     distance.append(closest_distance)"
   ]
  },
  {
   "cell_type": "code",
   "execution_count": 84,
   "metadata": {},
   "outputs": [
    {
     "name": "stderr",
     "output_type": "stream",
     "text": [
      "100%|██████████| 1413/1413 [00:48<00:00, 29.36it/s] \n"
     ]
    }
   ],
   "source": [
    "#time complexity O(n**2) but it's n(n-1)/2\n",
    "coords = tpe_stations[['lat', 'lng']].to_numpy()\n",
    "    \n",
    "# Initialize a matrix to store distances\n",
    "dist_matrix = np.zeros((len(coords), len(coords)))\n",
    "\n",
    "# Compute geodesic distance between each pair of points\n",
    "for i in tqdm(range(len(coords))):\n",
    "    for j in range(i + 1, len(coords)):\n",
    "        dist = geopy.distance.geodesic(coords[i], coords[j]).m\n",
    "        dist_matrix[i, j] = dist\n",
    "        dist_matrix[j, i] = dist  # since distance is symmetric\n",
    "\n",
    "# Find the minimum distance for each point, ignoring the zero (self-distance)\n",
    "# closest_distances = np.min(np.where(dist_matrix > 0, dist_matrix, np.inf), axis=1)\n",
    "# return closest_distances"
   ]
  },
  {
   "cell_type": "code",
   "execution_count": 85,
   "metadata": {},
   "outputs": [],
   "source": [
    "closest_distances = np.min(np.where(dist_matrix > 0, dist_matrix, np.inf), axis=1)"
   ]
  },
  {
   "cell_type": "code",
   "execution_count": 86,
   "metadata": {},
   "outputs": [],
   "source": [
    "tpe_stations['closest_distances'] = closest_distances"
   ]
  },
  {
   "cell_type": "code",
   "execution_count": 87,
   "metadata": {},
   "outputs": [],
   "source": [
    "# number of station in radius\n",
    "tpe_stations['R500_station_count'] = np.sum(dist_matrix<500,axis=0)-1"
   ]
  },
  {
   "cell_type": "markdown",
   "metadata": {},
   "source": [
    "### 用即時資料萃取"
   ]
  },
  {
   "cell_type": "code",
   "execution_count": null,
   "metadata": {},
   "outputs": [],
   "source": [
    "# 缺車/正常/缺位比例 （缺車風險）還沒看風險怎麼算 先以即時資料的比例來看\n"
   ]
  },
  {
   "cell_type": "code",
   "execution_count": 99,
   "metadata": {},
   "outputs": [
    {
     "data": {
      "text/html": [
       "<div>\n",
       "<style scoped>\n",
       "    .dataframe tbody tr th:only-of-type {\n",
       "        vertical-align: middle;\n",
       "    }\n",
       "\n",
       "    .dataframe tbody tr th {\n",
       "        vertical-align: top;\n",
       "    }\n",
       "\n",
       "    .dataframe thead th {\n",
       "        text-align: right;\n",
       "    }\n",
       "</style>\n",
       "<table border=\"1\" class=\"dataframe\">\n",
       "  <thead>\n",
       "    <tr style=\"text-align: right;\">\n",
       "      <th></th>\n",
       "      <th>lend_station_name</th>\n",
       "      <th>return_station_name</th>\n",
       "      <th>usage_time</th>\n",
       "      <th>source_date</th>\n",
       "      <th>lend_date</th>\n",
       "      <th>lend_hour</th>\n",
       "      <th>return_date</th>\n",
       "      <th>return_hour</th>\n",
       "      <th>day_of_week</th>\n",
       "    </tr>\n",
       "  </thead>\n",
       "  <tbody>\n",
       "    <tr>\n",
       "      <th>0</th>\n",
       "      <td>捷運南京復興站(1號出口)</td>\n",
       "      <td>松江路77巷口</td>\n",
       "      <td>516</td>\n",
       "      <td>2023-11-22</td>\n",
       "      <td>2023-11-22</td>\n",
       "      <td>18</td>\n",
       "      <td>2023-11-22</td>\n",
       "      <td>18</td>\n",
       "      <td>2</td>\n",
       "    </tr>\n",
       "    <tr>\n",
       "      <th>1</th>\n",
       "      <td>河堤國小</td>\n",
       "      <td>捷運古亭站(2號出口)</td>\n",
       "      <td>16665</td>\n",
       "      <td>2023-11-22</td>\n",
       "      <td>2023-11-22</td>\n",
       "      <td>12</td>\n",
       "      <td>2023-11-22</td>\n",
       "      <td>17</td>\n",
       "      <td>2</td>\n",
       "    </tr>\n",
       "    <tr>\n",
       "      <th>2</th>\n",
       "      <td>萬華國中_1</td>\n",
       "      <td>和平金山路口</td>\n",
       "      <td>1161</td>\n",
       "      <td>2023-11-22</td>\n",
       "      <td>2023-11-22</td>\n",
       "      <td>11</td>\n",
       "      <td>2023-11-22</td>\n",
       "      <td>12</td>\n",
       "      <td>2</td>\n",
       "    </tr>\n",
       "    <tr>\n",
       "      <th>3</th>\n",
       "      <td>萬華國中_1</td>\n",
       "      <td>萬華國中_1</td>\n",
       "      <td>1491</td>\n",
       "      <td>2023-11-22</td>\n",
       "      <td>2023-11-22</td>\n",
       "      <td>11</td>\n",
       "      <td>2023-11-22</td>\n",
       "      <td>12</td>\n",
       "      <td>2</td>\n",
       "    </tr>\n",
       "    <tr>\n",
       "      <th>4</th>\n",
       "      <td>木新公園</td>\n",
       "      <td>樟樹公園</td>\n",
       "      <td>26265</td>\n",
       "      <td>2023-11-22</td>\n",
       "      <td>2023-11-22</td>\n",
       "      <td>14</td>\n",
       "      <td>2023-11-22</td>\n",
       "      <td>21</td>\n",
       "      <td>2</td>\n",
       "    </tr>\n",
       "    <tr>\n",
       "      <th>...</th>\n",
       "      <td>...</td>\n",
       "      <td>...</td>\n",
       "      <td>...</td>\n",
       "      <td>...</td>\n",
       "      <td>...</td>\n",
       "      <td>...</td>\n",
       "      <td>...</td>\n",
       "      <td>...</td>\n",
       "      <td>...</td>\n",
       "    </tr>\n",
       "    <tr>\n",
       "      <th>2941060</th>\n",
       "      <td>長春吉林路口</td>\n",
       "      <td>中原民生路口</td>\n",
       "      <td>864</td>\n",
       "      <td>2023-11-01</td>\n",
       "      <td>2023-11-01</td>\n",
       "      <td>23</td>\n",
       "      <td>2023-11-01</td>\n",
       "      <td>23</td>\n",
       "      <td>2</td>\n",
       "    </tr>\n",
       "    <tr>\n",
       "      <th>2941061</th>\n",
       "      <td>捷運松江南京站(7號出口)</td>\n",
       "      <td>捷運行天宮站(3號出口)</td>\n",
       "      <td>419</td>\n",
       "      <td>2023-11-01</td>\n",
       "      <td>2023-11-01</td>\n",
       "      <td>18</td>\n",
       "      <td>2023-11-01</td>\n",
       "      <td>18</td>\n",
       "      <td>2</td>\n",
       "    </tr>\n",
       "    <tr>\n",
       "      <th>2941062</th>\n",
       "      <td>新生德惠街口</td>\n",
       "      <td>捷運中山國小站(4號出口)</td>\n",
       "      <td>205</td>\n",
       "      <td>2023-11-01</td>\n",
       "      <td>2023-11-01</td>\n",
       "      <td>20</td>\n",
       "      <td>2023-11-01</td>\n",
       "      <td>20</td>\n",
       "      <td>2</td>\n",
       "    </tr>\n",
       "    <tr>\n",
       "      <th>2941063</th>\n",
       "      <td>捷運中山站(2號出口)</td>\n",
       "      <td>中山農安街口</td>\n",
       "      <td>977</td>\n",
       "      <td>2023-11-01</td>\n",
       "      <td>2023-11-01</td>\n",
       "      <td>18</td>\n",
       "      <td>2023-11-01</td>\n",
       "      <td>18</td>\n",
       "      <td>2</td>\n",
       "    </tr>\n",
       "    <tr>\n",
       "      <th>2941064</th>\n",
       "      <td>和平實小東北側</td>\n",
       "      <td>臺北遠企購物中心</td>\n",
       "      <td>799</td>\n",
       "      <td>2023-11-01</td>\n",
       "      <td>2023-11-01</td>\n",
       "      <td>17</td>\n",
       "      <td>2023-11-01</td>\n",
       "      <td>17</td>\n",
       "      <td>2</td>\n",
       "    </tr>\n",
       "  </tbody>\n",
       "</table>\n",
       "<p>2941065 rows × 9 columns</p>\n",
       "</div>"
      ],
      "text/plain": [
       "        lend_station_name return_station_name  usage_time source_date  \\\n",
       "0           捷運南京復興站(1號出口)             松江路77巷口         516  2023-11-22   \n",
       "1                    河堤國小         捷運古亭站(2號出口)       16665  2023-11-22   \n",
       "2                  萬華國中_1              和平金山路口        1161  2023-11-22   \n",
       "3                  萬華國中_1              萬華國中_1        1491  2023-11-22   \n",
       "4                    木新公園                樟樹公園       26265  2023-11-22   \n",
       "...                   ...                 ...         ...         ...   \n",
       "2941060            長春吉林路口              中原民生路口         864  2023-11-01   \n",
       "2941061     捷運松江南京站(7號出口)        捷運行天宮站(3號出口)         419  2023-11-01   \n",
       "2941062            新生德惠街口       捷運中山國小站(4號出口)         205  2023-11-01   \n",
       "2941063       捷運中山站(2號出口)              中山農安街口         977  2023-11-01   \n",
       "2941064           和平實小東北側            臺北遠企購物中心         799  2023-11-01   \n",
       "\n",
       "          lend_date  lend_hour return_date  return_hour  day_of_week  \n",
       "0        2023-11-22         18  2023-11-22           18            2  \n",
       "1        2023-11-22         12  2023-11-22           17            2  \n",
       "2        2023-11-22         11  2023-11-22           12            2  \n",
       "3        2023-11-22         11  2023-11-22           12            2  \n",
       "4        2023-11-22         14  2023-11-22           21            2  \n",
       "...             ...        ...         ...          ...          ...  \n",
       "2941060  2023-11-01         23  2023-11-01           23            2  \n",
       "2941061  2023-11-01         18  2023-11-01           18            2  \n",
       "2941062  2023-11-01         20  2023-11-01           20            2  \n",
       "2941063  2023-11-01         18  2023-11-01           18            2  \n",
       "2941064  2023-11-01         17  2023-11-01           17            2  \n",
       "\n",
       "[2941065 rows x 9 columns]"
      ]
     },
     "execution_count": 99,
     "metadata": {},
     "output_type": "execute_result"
    }
   ],
   "source": [
    "# delta value percentile\n",
    "df"
   ]
  }
 ],
 "metadata": {
  "kernelspec": {
   "display_name": ".venv",
   "language": "python",
   "name": "python3"
  },
  "language_info": {
   "codemirror_mode": {
    "name": "ipython",
    "version": 3
   },
   "file_extension": ".py",
   "mimetype": "text/x-python",
   "name": "python",
   "nbconvert_exporter": "python",
   "pygments_lexer": "ipython3",
   "version": "3.12.2"
  }
 },
 "nbformat": 4,
 "nbformat_minor": 2
}
