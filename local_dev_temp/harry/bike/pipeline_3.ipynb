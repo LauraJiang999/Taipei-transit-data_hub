{
 "cells": [
  {
   "cell_type": "code",
   "execution_count": 28,
   "metadata": {},
   "outputs": [],
   "source": [
    "# lend_city\tstr\t\n",
    "# return_city\tstr\t\n",
    "# lend_district\tstr\t\n",
    "# return_district\tstr\t\n",
    "# move_distance\t int\t單位公尺\n",
    "# traffic_count int\n",
    "# source_date\tdate\t租借日期"
   ]
  },
  {
   "cell_type": "code",
   "execution_count": 29,
   "metadata": {},
   "outputs": [],
   "source": [
    "import pandas as pd\n",
    "import os\n",
    "import geopy.distance\n",
    "import numpy as np\n",
    "from tqdm import tqdm\n",
    "from pathlib import Path"
   ]
  },
  {
   "cell_type": "code",
   "execution_count": 30,
   "metadata": {},
   "outputs": [],
   "source": [
    "tpe_station = pd.read_csv('bike_usage_realtime.csv',index_col=0)\n",
    "nwt_station = pd.read_csv('nwt_ubike_realtime.csv')\n",
    "tpe_station = tpe_station[['sna','sarea','latitude','longitude']]\n",
    "tpe_station['sna'] = tpe_station['sna'].apply(lambda x: x.split('_')[1])\n",
    "tpe_station['city'] = 'TPE'\n",
    "tpe_station.rename(\n",
    "    {\n",
    "        'latitude':'lat',\n",
    "        'longitude':'lng'\n",
    "    },axis=1,inplace=True\n",
    ")\n",
    "nwt_station = nwt_station[['sna','sarea','lat','lng']]\n",
    "nwt_station['city']='NWT'"
   ]
  },
  {
   "cell_type": "code",
   "execution_count": 31,
   "metadata": {},
   "outputs": [],
   "source": [
    "all_station = pd.concat([tpe_station,nwt_station]).reset_index(drop=True)\n",
    "del tpe_station,nwt_station"
   ]
  },
  {
   "cell_type": "code",
   "execution_count": 32,
   "metadata": {},
   "outputs": [
    {
     "name": "stderr",
     "output_type": "stream",
     "text": [
      "100%|██████████| 1767/1767 [01:14<00:00, 23.74it/s] \n"
     ]
    }
   ],
   "source": [
    "#time complexity O(n**2) but it's n(n-1)/2\n",
    "coords = all_station[['lat', 'lng']].to_numpy()\n",
    "    \n",
    "# Initialize a matrix to store distances\n",
    "dist_matrix = np.zeros((len(coords), len(coords)))\n",
    "\n",
    "# Compute geodesic distance between each pair of points\n",
    "for i in tqdm(range(len(coords))):\n",
    "    for j in range(i + 1, len(coords)):\n",
    "        dist = geopy.distance.geodesic(coords[i], coords[j]).m\n",
    "        dist_matrix[i, j] = dist\n",
    "        dist_matrix[j, i] = dist  # since distance is symmetric"
   ]
  },
  {
   "cell_type": "code",
   "execution_count": 33,
   "metadata": {},
   "outputs": [
    {
     "data": {
      "text/html": [
       "<div>\n",
       "<style scoped>\n",
       "    .dataframe tbody tr th:only-of-type {\n",
       "        vertical-align: middle;\n",
       "    }\n",
       "\n",
       "    .dataframe tbody tr th {\n",
       "        vertical-align: top;\n",
       "    }\n",
       "\n",
       "    .dataframe thead th {\n",
       "        text-align: right;\n",
       "    }\n",
       "</style>\n",
       "<table border=\"1\" class=\"dataframe\">\n",
       "  <thead>\n",
       "    <tr style=\"text-align: right;\">\n",
       "      <th></th>\n",
       "      <th>index</th>\n",
       "      <th>sna</th>\n",
       "      <th>sarea</th>\n",
       "      <th>lat</th>\n",
       "      <th>lng</th>\n",
       "      <th>city</th>\n",
       "    </tr>\n",
       "  </thead>\n",
       "  <tbody>\n",
       "    <tr>\n",
       "      <th>0</th>\n",
       "      <td>0</td>\n",
       "      <td>捷運科技大樓站</td>\n",
       "      <td>大安區</td>\n",
       "      <td>25.02605</td>\n",
       "      <td>121.54360</td>\n",
       "      <td>TPE</td>\n",
       "    </tr>\n",
       "    <tr>\n",
       "      <th>1</th>\n",
       "      <td>1</td>\n",
       "      <td>復興南路二段273號前</td>\n",
       "      <td>大安區</td>\n",
       "      <td>25.02565</td>\n",
       "      <td>121.54357</td>\n",
       "      <td>TPE</td>\n",
       "    </tr>\n",
       "    <tr>\n",
       "      <th>2</th>\n",
       "      <td>2</td>\n",
       "      <td>國北教大實小東側門</td>\n",
       "      <td>大安區</td>\n",
       "      <td>25.02429</td>\n",
       "      <td>121.54124</td>\n",
       "      <td>TPE</td>\n",
       "    </tr>\n",
       "    <tr>\n",
       "      <th>3</th>\n",
       "      <td>3</td>\n",
       "      <td>和平公園東側</td>\n",
       "      <td>大安區</td>\n",
       "      <td>25.02351</td>\n",
       "      <td>121.54282</td>\n",
       "      <td>TPE</td>\n",
       "    </tr>\n",
       "    <tr>\n",
       "      <th>4</th>\n",
       "      <td>4</td>\n",
       "      <td>辛亥復興路口西北側</td>\n",
       "      <td>大安區</td>\n",
       "      <td>25.02153</td>\n",
       "      <td>121.54299</td>\n",
       "      <td>TPE</td>\n",
       "    </tr>\n",
       "  </tbody>\n",
       "</table>\n",
       "</div>"
      ],
      "text/plain": [
       "   index          sna sarea       lat        lng city\n",
       "0      0      捷運科技大樓站   大安區  25.02605  121.54360  TPE\n",
       "1      1  復興南路二段273號前   大安區  25.02565  121.54357  TPE\n",
       "2      2    國北教大實小東側門   大安區  25.02429  121.54124  TPE\n",
       "3      3       和平公園東側   大安區  25.02351  121.54282  TPE\n",
       "4      4    辛亥復興路口西北側   大安區  25.02153  121.54299  TPE"
      ]
     },
     "execution_count": 33,
     "metadata": {},
     "output_type": "execute_result"
    }
   ],
   "source": [
    "all_station = all_station.reset_index()\n",
    "all_station.head()"
   ]
  },
  {
   "cell_type": "code",
   "execution_count": 34,
   "metadata": {},
   "outputs": [],
   "source": [
    "tpe_districts = ['中山區', '松山區', '大同區', '大安區', '中正區', '信義區', '萬華區', '文山區', '南港區',\n",
    "       '內湖區', '士林區', '北投區']"
   ]
  },
  {
   "cell_type": "code",
   "execution_count": 35,
   "metadata": {},
   "outputs": [],
   "source": [
    "file_list = os.listdir('./history')\n",
    "file_list = [file for file in file_list if 'bike_usage_history' in file]\n",
    "extracted_all = None"
   ]
  },
  {
   "cell_type": "code",
   "execution_count": 36,
   "metadata": {},
   "outputs": [
    {
     "name": "stdout",
     "output_type": "stream",
     "text": [
      "finish processing: 2023_3_bike_usage_history.csv\n",
      "561.393619206713\n",
      "finish processing: 2023_9_bike_usage_history.csv\n",
      "561.393619206713\n",
      "finish processing: 2021_11_bike_usage_history.csv\n",
      "546.5736441201116\n",
      "finish processing: 2022_2_bike_usage_history.csv\n",
      "546.5736441201116\n",
      "finish processing: 2023_4_bike_usage_history.csv\n",
      "546.5736441201116\n",
      "finish processing: 2022_8_bike_usage_history.csv\n",
      "546.5736441201116\n",
      "finish processing: 2021_12_bike_usage_history.csv\n",
      "0.0\n",
      "finish processing: 2023_7_bike_usage_history.csv\n",
      "0.0\n",
      "finish processing: 2023_10_bike_usage_history.csv\n",
      "0.0\n",
      "finish processing: 2022_1_bike_usage_history.csv\n",
      "0.0\n",
      "finish processing: 2022_6_bike_usage_history.csv\n",
      "0.0\n",
      "finish processing: 2023_1_bike_usage_history.csv\n",
      "0.0\n",
      "finish processing: 2022_7_bike_usage_history.csv\n",
      "0.0\n",
      "finish processing: 2023_11_bike_usage_history.csv\n",
      "0.0\n",
      "finish processing: 2023_6_bike_usage_history.csv\n",
      "0.0\n",
      "finish processing: 2022_9_bike_usage_history.csv\n",
      "0.0\n",
      "finish processing: 2022_3_bike_usage_history.csv\n",
      "0.0\n",
      "finish processing: 2023_5_bike_usage_history.csv\n",
      "0.0\n",
      "finish processing: 2021_10_bike_usage_history.csv\n",
      "0.0\n",
      "finish processing: 2023_8_bike_usage_history.csv\n",
      "0.0\n",
      "finish processing: 2022_4_bike_usage_history.csv\n",
      "0.0\n",
      "finish processing: 2023_2_bike_usage_history.csv\n",
      "0.0\n",
      "finish processing: 2021_6_bike_usage_history.csv\n",
      "0.0\n",
      "finish processing: 2020_10_bike_usage_history.csv\n",
      "0.0\n",
      "finish processing: 2021_1_bike_usage_history.csv\n",
      "0.0\n",
      "finish processing: 2020_7_bike_usage_history.csv\n",
      "0.0\n",
      "finish processing: 2022_12_bike_usage_history.csv\n",
      "0.0\n",
      "finish processing: 2020_4_bike_usage_history.csv\n",
      "0.0\n",
      "finish processing: 2022_11_bike_usage_history.csv\n",
      "0.0\n",
      "finish processing: 2021_2_bike_usage_history.csv\n",
      "0.0\n",
      "finish processing: 2021_8_bike_usage_history.csv\n",
      "0.0\n",
      "finish processing: 2021_5_bike_usage_history.csv\n",
      "0.0\n",
      "finish processing: 2020_9_bike_usage_history.csv\n",
      "0.0\n",
      "finish processing: 2020_8_bike_usage_history.csv\n",
      "0.0\n",
      "finish processing: 2021_4_bike_usage_history.csv\n",
      "0.0\n",
      "finish processing: 2021_9_bike_usage_history.csv\n",
      "0.0\n",
      "finish processing: 2022_10_bike_usage_history.csv\n",
      "0.0\n",
      "finish processing: 2020_5_bike_usage_history.csv\n",
      "0.0\n",
      "finish processing: 2021_3_bike_usage_history.csv\n",
      "0.0\n",
      "finish processing: 2020_12_bike_usage_history.csv\n",
      "0.0\n",
      "finish processing: 2020_6_bike_usage_history.csv\n",
      "0.0\n",
      "finish processing: 2020_11_bike_usage_history.csv\n",
      "0.0\n",
      "finish processing: 2021_7_bike_usage_history.csv\n",
      "0.0\n"
     ]
    }
   ],
   "source": [
    "for path in file_list:\n",
    "    ubike_hist = pd.read_csv(Path('./history', path), index_col=0)\n",
    "    ubike_hist.drop_duplicates(inplace=True)\n",
    "    ubike_hist.columns = ['lend_time', 'lend_station_name', 'return_time',\n",
    "                    'return_station_name', 'usage_time', 'source_date']\n",
    "    ubike_hist = ubike_hist.drop(['lend_time','return_time','usage_time'],axis=1)\n",
    "    ubike_hist = ubike_hist.merge(all_station,how='inner',\n",
    "                 left_on='lend_station_name',\n",
    "                 right_on='sna')\n",
    "    ubike_hist = ubike_hist.merge(all_station,how='inner',\n",
    "                 left_on='return_station_name',\n",
    "                 right_on='sna',suffixes=['_lend','_return'])\n",
    "    ubike_hist = ubike_hist.drop(['lend_station_name', 'return_station_name',\n",
    "                 'lat_lend', 'lng_lend',\n",
    "                 'lat_return', 'lng_return',\n",
    "                 'sna_lend','sna_return'],axis=1)\n",
    "    ubike_hist['move_distance'] = ubike_hist.apply(lambda row: dist_matrix[row['index_lend'],row['index_return']],axis=1)\n",
    "    ubike_hist['sarea_lend'] = ubike_hist['sarea_lend'].replace('臺大公館校區','大安區')\n",
    "    ubike_hist['sarea_return'] = ubike_hist['sarea_return'].replace('臺大公館校區','大安區')\n",
    "    ubike_hist = ubike_hist[ubike_hist['sarea_lend'].isin(tpe_districts)]\n",
    "    groupby = ubike_hist.groupby(by=['sarea_lend','sarea_return','source_date'])\n",
    "    extracted = groupby.agg(\n",
    "        {'move_distance':'mean',\n",
    "        'city_lend':'first',\n",
    "        'city_return':'first',\n",
    "        }\n",
    "    ).reset_index()\n",
    "    extracted['traffic_count'] = groupby.size().values\n",
    "    extracted.rename(\n",
    "        {\n",
    "            'sarea_lend':'lend_district', \n",
    "            'sarea_return':'return_district', \n",
    "        'city_lend':'lend_city', \n",
    "        'city_return':'return_city', \n",
    "        },axis=1,inplace=True\n",
    "    )\n",
    "    if extracted_all is None:\n",
    "        extracted_all = extracted.copy(deep=True)\n",
    "    else:\n",
    "        extracted_all = pd.concat([extracted_all,extracted], ignore_index=True)\n",
    "        print(f\"finish processing: {path}\")\n",
    "        # print(extracted_all.shape)\n",
    "        print(extracted_all['move_distance'].min())\n",
    "        # break"
   ]
  },
  {
   "cell_type": "code",
   "execution_count": 37,
   "metadata": {},
   "outputs": [
    {
     "data": {
      "text/plain": [
       "(165838, 7)"
      ]
     },
     "execution_count": 37,
     "metadata": {},
     "output_type": "execute_result"
    }
   ],
   "source": [
    "extracted_all.shape"
   ]
  },
  {
   "cell_type": "code",
   "execution_count": 41,
   "metadata": {},
   "outputs": [
    {
     "data": {
      "text/plain": [
       "6245.801667892762"
      ]
     },
     "execution_count": 41,
     "metadata": {},
     "output_type": "execute_result"
    }
   ],
   "source": [
    "np.mean(extracted_all['move_distance'])"
   ]
  },
  {
   "cell_type": "code",
   "execution_count": 42,
   "metadata": {},
   "outputs": [
    {
     "data": {
      "text/plain": [
       "5803.0"
      ]
     },
     "execution_count": 42,
     "metadata": {},
     "output_type": "execute_result"
    }
   ],
   "source": [
    "np.median(extracted_all['move_distance'])"
   ]
  },
  {
   "cell_type": "code",
   "execution_count": 43,
   "metadata": {},
   "outputs": [
    {
     "data": {
      "text/plain": [
       "4481.916287187858"
      ]
     },
     "execution_count": 43,
     "metadata": {},
     "output_type": "execute_result"
    }
   ],
   "source": [
    "np.std(extracted_all['move_distance'])"
   ]
  },
  {
   "cell_type": "code",
   "execution_count": 38,
   "metadata": {},
   "outputs": [],
   "source": [
    "extracted_all['move_distance'] = extracted_all['move_distance'].astype('int')"
   ]
  },
  {
   "cell_type": "code",
   "execution_count": 39,
   "metadata": {},
   "outputs": [],
   "source": [
    "extracted_tpe = extracted_all[extracted_all['return_city']=='TPE']\n",
    "extracted_nwt = extracted_all[extracted_all['return_city']=='NWT']"
   ]
  },
  {
   "cell_type": "code",
   "execution_count": null,
   "metadata": {},
   "outputs": [],
   "source": []
  },
  {
   "cell_type": "code",
   "execution_count": 40,
   "metadata": {},
   "outputs": [],
   "source": [
    "# extracted_nwt.to_csv('pipeline_3_1_v1.csv',index=False)\n",
    "# extracted_tpe.to_csv('pipeline_3_2_v1.csv',index=False)\n"
   ]
  }
 ],
 "metadata": {
  "kernelspec": {
   "display_name": ".venv",
   "language": "python",
   "name": "python3"
  },
  "language_info": {
   "codemirror_mode": {
    "name": "ipython",
    "version": 3
   },
   "file_extension": ".py",
   "mimetype": "text/x-python",
   "name": "python",
   "nbconvert_exporter": "python",
   "pygments_lexer": "ipython3",
   "version": "3.12.2"
  }
 },
 "nbformat": 4,
 "nbformat_minor": 2
}
