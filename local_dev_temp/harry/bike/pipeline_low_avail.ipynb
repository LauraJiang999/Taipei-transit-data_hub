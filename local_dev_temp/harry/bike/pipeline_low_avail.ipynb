{
 "cells": [
  {
   "cell_type": "code",
   "execution_count": 80,
   "metadata": {},
   "outputs": [],
   "source": [
    "# MRT_station_name: str\n",
    "# station_id: int\n",
    "# station_lat: decimal\n",
    "# station_lng: decimal\n",
    "# city_code: str\n",
    "\n",
    "\n",
    "# Bike_station_name: str\n",
    "# district: str\n",
    "# city_code: str\n",
    "# total_space: int\n",
    "# station_lat: decimal\n",
    "# station_lng: decimal\n",
    "# aval_bike: int\n",
    "# aval_space: int\n",
    "# station_status: str\n",
    "# date: time\n",
    "# hour: int\n",
    "# weekend: str\n",
    "# distance: int\n"
   ]
  },
  {
   "cell_type": "code",
   "execution_count": 38,
   "metadata": {},
   "outputs": [],
   "source": [
    "import pandas as pd\n",
    "import os\n",
    "import geopy.distance\n",
    "import numpy as np\n",
    "from tqdm import tqdm\n",
    "from pathlib import Path"
   ]
  },
  {
   "cell_type": "code",
   "execution_count": 39,
   "metadata": {},
   "outputs": [],
   "source": [
    "mrt_station = pd.read_csv('../MRT/mrt_station.csv')\n",
    "\n"
   ]
  },
  {
   "cell_type": "code",
   "execution_count": 40,
   "metadata": {},
   "outputs": [],
   "source": [
    "# MRT_station_name: str\n",
    "# city_code: str\n",
    "# district: str\n",
    "# station_lat: decimal\n",
    "# station_lng: decimal\n",
    "\n",
    "mrt_station = mrt_station[['StationName.Zh_tw','LocationCityCode', 'LocationTown','StationPosition.PositionLon',\n",
    "       'StationPosition.PositionLat']]\n",
    "mrt_station = mrt_station.rename(\n",
    "    {\n",
    "        'StationName.Zh_tw':'MRT_station_name',\n",
    "        'LocationCityCode':'city_code',\n",
    "        'LocationTown':'district',\n",
    "        'StationPosition.PositionLat':'station_lat',\n",
    "        'StationPosition.PositionLon':'station_lng'\n",
    "    },axis=1)\n",
    "\n",
    "mrt_station = mrt_station[['MRT_station_name','city_code','district','station_lat','station_lng']]"
   ]
  },
  {
   "cell_type": "code",
   "execution_count": 41,
   "metadata": {},
   "outputs": [],
   "source": [
    "mrt_station.to_csv('0514_pipe_mrt_station.csv',index=False)"
   ]
  },
  {
   "cell_type": "code",
   "execution_count": 42,
   "metadata": {},
   "outputs": [],
   "source": [
    "tpe_station = pd.read_csv('bike_usage_realtime.csv',index_col=0)"
   ]
  },
  {
   "cell_type": "code",
   "execution_count": 43,
   "metadata": {},
   "outputs": [],
   "source": [
    "# Bike_station_name: str\n",
    "# district: str\n",
    "# city_code: str\n",
    "# total: int\n",
    "# station_lat: decimal\n",
    "# station_lng: decimal\n",
    "# distance_to_mrt: int\n",
    "\n",
    "\n"
   ]
  },
  {
   "cell_type": "code",
   "execution_count": 44,
   "metadata": {},
   "outputs": [],
   "source": [
    "bike_station = pd.read_csv('../bike/bike_usage_realtime.csv',index_col=0)\n",
    "bike_station['sarea'] = bike_station['sarea'].replace('臺大公館校區','大安區')\n",
    "bike_station = bike_station.rename(\n",
    "    {\n",
    "        'sna':'Bike_station_name',\n",
    "        'sarea':'district',\n",
    "        'latitude':'station_lat',\n",
    "        'longitude':'station_lng'\n",
    "\n",
    "    }\n",
    "    ,axis=1)\n",
    "bike_station['city_code']='TPE'\n",
    "\n",
    "bike_station['Bike_station_name'] = bike_station['Bike_station_name'].apply(lambda x: x.split('_')[1])\n",
    "bike_station = bike_station[['Bike_station_name','district',\n",
    "                             'city_code','total','station_lat','station_lng']]"
   ]
  },
  {
   "cell_type": "code",
   "execution_count": 46,
   "metadata": {},
   "outputs": [],
   "source": [
    "mrt_dist = []\n",
    "for idx, row in bike_station.iterrows():\n",
    "    point_1 = row[['station_lat','station_lng']].to_numpy()\n",
    "    mrt_dist.append(int(mrt_station[['station_lat','station_lng']].apply(lambda row:\n",
    "                                 geopy.distance.geodesic(point_1,row.to_numpy()).m,\n",
    "                                 axis=1).min()))\n",
    "bike_station['distance_to_mrt'] = mrt_dist\n",
    "del mrt_station"
   ]
  },
  {
   "cell_type": "code",
   "execution_count": 47,
   "metadata": {},
   "outputs": [
    {
     "data": {
      "text/html": [
       "<div>\n",
       "<style scoped>\n",
       "    .dataframe tbody tr th:only-of-type {\n",
       "        vertical-align: middle;\n",
       "    }\n",
       "\n",
       "    .dataframe tbody tr th {\n",
       "        vertical-align: top;\n",
       "    }\n",
       "\n",
       "    .dataframe thead th {\n",
       "        text-align: right;\n",
       "    }\n",
       "</style>\n",
       "<table border=\"1\" class=\"dataframe\">\n",
       "  <thead>\n",
       "    <tr style=\"text-align: right;\">\n",
       "      <th></th>\n",
       "      <th>Bike_station_name</th>\n",
       "      <th>district</th>\n",
       "      <th>city_code</th>\n",
       "      <th>total</th>\n",
       "      <th>station_lat</th>\n",
       "      <th>station_lng</th>\n",
       "      <th>distance_to_mrt</th>\n",
       "    </tr>\n",
       "  </thead>\n",
       "  <tbody>\n",
       "    <tr>\n",
       "      <th>0</th>\n",
       "      <td>捷運科技大樓站</td>\n",
       "      <td>大安區</td>\n",
       "      <td>TPE</td>\n",
       "      <td>28</td>\n",
       "      <td>25.02605</td>\n",
       "      <td>121.54360</td>\n",
       "      <td>15</td>\n",
       "    </tr>\n",
       "    <tr>\n",
       "      <th>1</th>\n",
       "      <td>復興南路二段273號前</td>\n",
       "      <td>大安區</td>\n",
       "      <td>TPE</td>\n",
       "      <td>21</td>\n",
       "      <td>25.02565</td>\n",
       "      <td>121.54357</td>\n",
       "      <td>53</td>\n",
       "    </tr>\n",
       "    <tr>\n",
       "      <th>2</th>\n",
       "      <td>國北教大實小東側門</td>\n",
       "      <td>大安區</td>\n",
       "      <td>TPE</td>\n",
       "      <td>16</td>\n",
       "      <td>25.02429</td>\n",
       "      <td>121.54124</td>\n",
       "      <td>302</td>\n",
       "    </tr>\n",
       "    <tr>\n",
       "      <th>3</th>\n",
       "      <td>和平公園東側</td>\n",
       "      <td>大安區</td>\n",
       "      <td>TPE</td>\n",
       "      <td>11</td>\n",
       "      <td>25.02351</td>\n",
       "      <td>121.54282</td>\n",
       "      <td>296</td>\n",
       "    </tr>\n",
       "    <tr>\n",
       "      <th>4</th>\n",
       "      <td>辛亥復興路口西北側</td>\n",
       "      <td>大安區</td>\n",
       "      <td>TPE</td>\n",
       "      <td>16</td>\n",
       "      <td>25.02153</td>\n",
       "      <td>121.54299</td>\n",
       "      <td>510</td>\n",
       "    </tr>\n",
       "  </tbody>\n",
       "</table>\n",
       "</div>"
      ],
      "text/plain": [
       "  Bike_station_name district city_code  total  station_lat  station_lng  \\\n",
       "0           捷運科技大樓站      大安區       TPE     28     25.02605    121.54360   \n",
       "1       復興南路二段273號前      大安區       TPE     21     25.02565    121.54357   \n",
       "2         國北教大實小東側門      大安區       TPE     16     25.02429    121.54124   \n",
       "3            和平公園東側      大安區       TPE     11     25.02351    121.54282   \n",
       "4         辛亥復興路口西北側      大安區       TPE     16     25.02153    121.54299   \n",
       "\n",
       "   distance_to_mrt  \n",
       "0               15  \n",
       "1               53  \n",
       "2              302  \n",
       "3              296  \n",
       "4              510  "
      ]
     },
     "execution_count": 47,
     "metadata": {},
     "output_type": "execute_result"
    }
   ],
   "source": [
    "bike_station.head()"
   ]
  },
  {
   "cell_type": "code",
   "execution_count": 145,
   "metadata": {},
   "outputs": [],
   "source": [
    "ubike_rt = pd.read_csv('ubike_0501.csv',index_col=0)\n",
    "ubike_rt.drop_duplicates(inplace=True)\n",
    "ubike_rt['sarea'] = ubike_rt['sarea'].replace('臺大公館校區','大安區')\n",
    "ubike_rt['sna'] = ubike_rt['sna'].apply(lambda x: x.split('_')[1])\n"
   ]
  },
  {
   "cell_type": "code",
   "execution_count": 146,
   "metadata": {},
   "outputs": [],
   "source": [
    "ubike_rt['thres'] = np.min(np.column_stack(((ubike_rt['tot']*0.1).to_numpy(),np.full(len(ubike_rt),5))),axis=1)\n",
    "def bike_status(row):\n",
    "    space = row['bemp']\n",
    "    bike = row['sbi']\n",
    "    thres = row['thres']\n",
    "    if space == 0:\n",
    "        return '車位滿載'\n",
    "    elif bike ==0:\n",
    "        return '無車可借'\n",
    "    elif space <thres:\n",
    "        return '有車少位'\n",
    "    elif bike <thres:\n",
    "        return '少車可借'\n",
    "    else:\n",
    "        return '正常租借'"
   ]
  },
  {
   "cell_type": "code",
   "execution_count": 147,
   "metadata": {},
   "outputs": [],
   "source": [
    "ubike_rt['station_status'] = ubike_rt.apply(bike_status,axis=1)"
   ]
  },
  {
   "cell_type": "code",
   "execution_count": 148,
   "metadata": {},
   "outputs": [
    {
     "data": {
      "text/plain": [
       "Index(['ar', 'aren', 'bemp', 'infoDate', 'infoTime', 'lat', 'lng', 'mday',\n",
       "       'sarea', 'sareaen', 'sbi', 'sna', 'snaen', 'sno', 'srcUpdateTime',\n",
       "       'tot', 'updateTime', 'thres', 'station_status'],\n",
       "      dtype='object')"
      ]
     },
     "execution_count": 148,
     "metadata": {},
     "output_type": "execute_result"
    }
   ],
   "source": [
    "ubike_rt.columns"
   ]
  },
  {
   "cell_type": "code",
   "execution_count": 149,
   "metadata": {},
   "outputs": [],
   "source": [
    "ubike_rt = ubike_rt[['sna','sbi','bemp','station_status','infoDate','infoTime']]"
   ]
  },
  {
   "cell_type": "code",
   "execution_count": 150,
   "metadata": {},
   "outputs": [],
   "source": [
    "# aval_bike: int\n",
    "# aval_space: int\n",
    "# station_status: str\n",
    "# date: time\n",
    "# hour: int\n",
    "# weekend: str\n",
    "# distance: int"
   ]
  },
  {
   "cell_type": "code",
   "execution_count": 151,
   "metadata": {},
   "outputs": [],
   "source": [
    "ubike_rt = ubike_rt.rename(\n",
    "    {\n",
    "        'sna':'Bike_station_name',\n",
    "        'sbi':'aval_bike',\n",
    "        'bemp':'aval_space',\n",
    "        'infoDate':'date'\n",
    "    },axis=1)"
   ]
  },
  {
   "cell_type": "code",
   "execution_count": 152,
   "metadata": {},
   "outputs": [],
   "source": [
    "ubike_rt['hour'] = pd.to_datetime(ubike_rt['infoTime']).dt.hour\n",
    "ubike_rt['min'] = pd.to_datetime(ubike_rt['infoTime']).dt.minute"
   ]
  },
  {
   "cell_type": "code",
   "execution_count": 153,
   "metadata": {},
   "outputs": [],
   "source": [
    "ubike_rt['minutes_aligned'] = ubike_rt['min']//10*10"
   ]
  },
  {
   "cell_type": "code",
   "execution_count": 154,
   "metadata": {},
   "outputs": [],
   "source": [
    "ubike_rt['weekend'] = pd.to_datetime(ubike_rt['date']).dt.dayofweek.isin([5,6])\n",
    "ubike_rt['weekend'] = np.where(ubike_rt['weekend'],'假日','平日')"
   ]
  },
  {
   "cell_type": "code",
   "execution_count": 155,
   "metadata": {},
   "outputs": [],
   "source": [
    "ubike_rt = ubike_rt.drop(['infoTime','min'],axis=1)"
   ]
  },
  {
   "cell_type": "code",
   "execution_count": 158,
   "metadata": {},
   "outputs": [
    {
     "data": {
      "text/html": [
       "<div>\n",
       "<style scoped>\n",
       "    .dataframe tbody tr th:only-of-type {\n",
       "        vertical-align: middle;\n",
       "    }\n",
       "\n",
       "    .dataframe tbody tr th {\n",
       "        vertical-align: top;\n",
       "    }\n",
       "\n",
       "    .dataframe thead th {\n",
       "        text-align: right;\n",
       "    }\n",
       "</style>\n",
       "<table border=\"1\" class=\"dataframe\">\n",
       "  <thead>\n",
       "    <tr style=\"text-align: right;\">\n",
       "      <th></th>\n",
       "      <th>Bike_station_name</th>\n",
       "      <th>aval_bike</th>\n",
       "      <th>aval_space</th>\n",
       "      <th>station_status</th>\n",
       "      <th>date</th>\n",
       "      <th>hour</th>\n",
       "      <th>minutes_aligned</th>\n",
       "      <th>weekend</th>\n",
       "    </tr>\n",
       "    <tr>\n",
       "      <th>act</th>\n",
       "      <th></th>\n",
       "      <th></th>\n",
       "      <th></th>\n",
       "      <th></th>\n",
       "      <th></th>\n",
       "      <th></th>\n",
       "      <th></th>\n",
       "      <th></th>\n",
       "    </tr>\n",
       "  </thead>\n",
       "  <tbody>\n",
       "    <tr>\n",
       "      <th>1</th>\n",
       "      <td>和平公園東側</td>\n",
       "      <td>3</td>\n",
       "      <td>8</td>\n",
       "      <td>正常租借</td>\n",
       "      <td>2024-04-16</td>\n",
       "      <td>22</td>\n",
       "      <td>20</td>\n",
       "      <td>平日</td>\n",
       "    </tr>\n",
       "    <tr>\n",
       "      <th>1</th>\n",
       "      <td>辛亥復興路口西北側</td>\n",
       "      <td>2</td>\n",
       "      <td>14</td>\n",
       "      <td>正常租借</td>\n",
       "      <td>2024-04-16</td>\n",
       "      <td>22</td>\n",
       "      <td>20</td>\n",
       "      <td>平日</td>\n",
       "    </tr>\n",
       "    <tr>\n",
       "      <th>1</th>\n",
       "      <td>新生南路三段66號前</td>\n",
       "      <td>0</td>\n",
       "      <td>16</td>\n",
       "      <td>無車可借</td>\n",
       "      <td>2024-04-16</td>\n",
       "      <td>22</td>\n",
       "      <td>20</td>\n",
       "      <td>平日</td>\n",
       "    </tr>\n",
       "    <tr>\n",
       "      <th>1</th>\n",
       "      <td>新生南路三段82號前</td>\n",
       "      <td>0</td>\n",
       "      <td>20</td>\n",
       "      <td>無車可借</td>\n",
       "      <td>2024-04-16</td>\n",
       "      <td>22</td>\n",
       "      <td>20</td>\n",
       "      <td>平日</td>\n",
       "    </tr>\n",
       "    <tr>\n",
       "      <th>1</th>\n",
       "      <td>辛亥路一段30號前</td>\n",
       "      <td>0</td>\n",
       "      <td>8</td>\n",
       "      <td>無車可借</td>\n",
       "      <td>2024-04-16</td>\n",
       "      <td>22</td>\n",
       "      <td>10</td>\n",
       "      <td>平日</td>\n",
       "    </tr>\n",
       "    <tr>\n",
       "      <th>...</th>\n",
       "      <td>...</td>\n",
       "      <td>...</td>\n",
       "      <td>...</td>\n",
       "      <td>...</td>\n",
       "      <td>...</td>\n",
       "      <td>...</td>\n",
       "      <td>...</td>\n",
       "      <td>...</td>\n",
       "    </tr>\n",
       "    <tr>\n",
       "      <th>1</th>\n",
       "      <td>臺大原分所北側</td>\n",
       "      <td>0</td>\n",
       "      <td>12</td>\n",
       "      <td>無車可借</td>\n",
       "      <td>2024-05-01</td>\n",
       "      <td>19</td>\n",
       "      <td>20</td>\n",
       "      <td>平日</td>\n",
       "    </tr>\n",
       "    <tr>\n",
       "      <th>1</th>\n",
       "      <td>臺大森林館北側</td>\n",
       "      <td>6</td>\n",
       "      <td>4</td>\n",
       "      <td>正常租借</td>\n",
       "      <td>2024-05-01</td>\n",
       "      <td>19</td>\n",
       "      <td>40</td>\n",
       "      <td>平日</td>\n",
       "    </tr>\n",
       "    <tr>\n",
       "      <th>1</th>\n",
       "      <td>臺大教研館北側</td>\n",
       "      <td>10</td>\n",
       "      <td>1</td>\n",
       "      <td>有車少位</td>\n",
       "      <td>2024-05-01</td>\n",
       "      <td>19</td>\n",
       "      <td>40</td>\n",
       "      <td>平日</td>\n",
       "    </tr>\n",
       "    <tr>\n",
       "      <th>1</th>\n",
       "      <td>臺大獸醫館南側</td>\n",
       "      <td>14</td>\n",
       "      <td>10</td>\n",
       "      <td>正常租借</td>\n",
       "      <td>2024-05-01</td>\n",
       "      <td>19</td>\n",
       "      <td>40</td>\n",
       "      <td>平日</td>\n",
       "    </tr>\n",
       "    <tr>\n",
       "      <th>1</th>\n",
       "      <td>臺大明達館北側(員工宿舍)</td>\n",
       "      <td>9</td>\n",
       "      <td>9</td>\n",
       "      <td>正常租借</td>\n",
       "      <td>2024-05-01</td>\n",
       "      <td>19</td>\n",
       "      <td>40</td>\n",
       "      <td>平日</td>\n",
       "    </tr>\n",
       "  </tbody>\n",
       "</table>\n",
       "<p>1276888 rows × 8 columns</p>\n",
       "</div>"
      ],
      "text/plain": [
       "    Bike_station_name  aval_bike  aval_space station_status        date  hour  \\\n",
       "act                                                                             \n",
       "1              和平公園東側          3           8           正常租借  2024-04-16    22   \n",
       "1           辛亥復興路口西北側          2          14           正常租借  2024-04-16    22   \n",
       "1          新生南路三段66號前          0          16           無車可借  2024-04-16    22   \n",
       "1          新生南路三段82號前          0          20           無車可借  2024-04-16    22   \n",
       "1           辛亥路一段30號前          0           8           無車可借  2024-04-16    22   \n",
       "..                ...        ...         ...            ...         ...   ...   \n",
       "1             臺大原分所北側          0          12           無車可借  2024-05-01    19   \n",
       "1             臺大森林館北側          6           4           正常租借  2024-05-01    19   \n",
       "1             臺大教研館北側         10           1           有車少位  2024-05-01    19   \n",
       "1             臺大獸醫館南側         14          10           正常租借  2024-05-01    19   \n",
       "1       臺大明達館北側(員工宿舍)          9           9           正常租借  2024-05-01    19   \n",
       "\n",
       "     minutes_aligned weekend  \n",
       "act                           \n",
       "1                 20      平日  \n",
       "1                 20      平日  \n",
       "1                 20      平日  \n",
       "1                 20      平日  \n",
       "1                 10      平日  \n",
       "..               ...     ...  \n",
       "1                 20      平日  \n",
       "1                 40      平日  \n",
       "1                 40      平日  \n",
       "1                 40      平日  \n",
       "1                 40      平日  \n",
       "\n",
       "[1276888 rows x 8 columns]"
      ]
     },
     "execution_count": 158,
     "metadata": {},
     "output_type": "execute_result"
    }
   ],
   "source": [
    "ubike_rt[ubike_rt.duplicated()]"
   ]
  },
  {
   "cell_type": "code",
   "execution_count": 160,
   "metadata": {},
   "outputs": [
    {
     "name": "stdout",
     "output_type": "stream",
     "text": [
      "(2620014, 8)\n",
      "(1309354, 8)\n"
     ]
    }
   ],
   "source": [
    "print(ubike_rt.shape)\n",
    "ubike_rt = ubike_rt.drop_duplicates(subset=['Bike_station_name','date','hour','minutes_aligned'])\n",
    "print(ubike_rt.shape)\n"
   ]
  },
  {
   "cell_type": "code",
   "execution_count": 166,
   "metadata": {},
   "outputs": [
    {
     "data": {
      "text/plain": [
       "'2024-05-01'"
      ]
     },
     "execution_count": 166,
     "metadata": {},
     "output_type": "execute_result"
    }
   ],
   "source": [
    "ubike_rt['date'].max()"
   ]
  },
  {
   "cell_type": "code",
   "execution_count": 165,
   "metadata": {},
   "outputs": [
    {
     "data": {
      "text/plain": [
       "'2024-01-14'"
      ]
     },
     "execution_count": 165,
     "metadata": {},
     "output_type": "execute_result"
    }
   ],
   "source": [
    "ubike_rt['date'].min()"
   ]
  },
  {
   "cell_type": "code",
   "execution_count": 176,
   "metadata": {},
   "outputs": [
    {
     "data": {
      "text/plain": [
       "array(['2024-01-14', '2024-03-02', '2024-03-15', '2024-03-18',\n",
       "       '2024-03-26', '2024-03-30', '2024-03-31', '2024-04-09',\n",
       "       '2024-04-16', '2024-04-17', '2024-04-18', '2024-04-19',\n",
       "       '2024-04-20', '2024-04-21', '2024-04-22', '2024-04-23',\n",
       "       '2024-04-24', '2024-04-25', '2024-04-26', '2024-04-27',\n",
       "       '2024-04-28', '2024-04-29', '2024-04-30', '2024-05-01'],\n",
       "      dtype=object)"
      ]
     },
     "execution_count": 176,
     "metadata": {},
     "output_type": "execute_result"
    }
   ],
   "source": [
    "ubike_rt['date'].sort_values().unique()"
   ]
  },
  {
   "cell_type": "code",
   "execution_count": 177,
   "metadata": {},
   "outputs": [],
   "source": [
    "ubike_rt = ubike_rt[~ubike_rt['date'].isin(['2024-01-14', '2024-03-02', '2024-03-15', '2024-03-18',\n",
    "       '2024-03-26', '2024-03-30', '2024-03-31', '2024-04-09'])]"
   ]
  },
  {
   "cell_type": "code",
   "execution_count": 162,
   "metadata": {},
   "outputs": [],
   "source": [
    "ubike_rt = ubike_rt.merge(bike_station,how='inner',on='Bike_station_name')"
   ]
  },
  {
   "cell_type": "code",
   "execution_count": 179,
   "metadata": {},
   "outputs": [],
   "source": [
    "ubike_rt.to_csv('pipeline_low_avail.csv',index=False)"
   ]
  }
 ],
 "metadata": {
  "kernelspec": {
   "display_name": ".venv",
   "language": "python",
   "name": "python3"
  },
  "language_info": {
   "codemirror_mode": {
    "name": "ipython",
    "version": 3
   },
   "file_extension": ".py",
   "mimetype": "text/x-python",
   "name": "python",
   "nbconvert_exporter": "python",
   "pygments_lexer": "ipython3",
   "version": "3.12.2"
  }
 },
 "nbformat": 4,
 "nbformat_minor": 2
}
