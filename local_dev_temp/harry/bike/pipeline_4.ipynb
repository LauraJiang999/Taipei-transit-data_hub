{
 "cells": [
  {
   "cell_type": "code",
   "execution_count": 1,
   "metadata": {},
   "outputs": [],
   "source": [
    "# lend_station_district\tstr\t\n",
    "# date\tdate\t\n",
    "# hour\tint\t\n",
    "# day_of_week\tstr\tMonday, Tuesday, Wednesday\n",
    "# weekend\tstr\t平日、假日\n",
    "# traffic_count\tint\t\n",
    "# usage_time\tint\t"
   ]
  },
  {
   "cell_type": "code",
   "execution_count": 2,
   "metadata": {},
   "outputs": [],
   "source": [
    "import pandas as pd\n",
    "import os\n",
    "import numpy as np\n",
    "from tqdm import tqdm\n",
    "from pathlib import Path"
   ]
  },
  {
   "cell_type": "code",
   "execution_count": 3,
   "metadata": {},
   "outputs": [],
   "source": [
    "tpe_station = pd.read_csv('bike_usage_realtime.csv',index_col=0)\n",
    "tpe_station = tpe_station[['sna','sarea','latitude','longitude']]\n",
    "tpe_station['sna'] = tpe_station['sna'].apply(lambda x: x.split('_')[1])\n",
    "tpe_station['sarea'] = tpe_station['sarea'].replace('臺大公館校區','大安區')\n"
   ]
  },
  {
   "cell_type": "code",
   "execution_count": 4,
   "metadata": {},
   "outputs": [],
   "source": [
    "file_list = os.listdir('./history')\n",
    "file_list = [file for file in file_list if 'bike_usage_history' in file]\n",
    "extracted_all = None"
   ]
  },
  {
   "cell_type": "code",
   "execution_count": 5,
   "metadata": {},
   "outputs": [
    {
     "name": "stdout",
     "output_type": "stream",
     "text": [
      "finish processing: 2023_3_bike_usage_history.csv\n",
      "(17826, 7)\n",
      "finish processing: 2023_9_bike_usage_history.csv\n",
      "(26465, 7)\n",
      "finish processing: 2021_11_bike_usage_history.csv\n",
      "(35085, 7)\n",
      "finish processing: 2022_2_bike_usage_history.csv\n",
      "(43095, 7)\n",
      "finish processing: 2023_4_bike_usage_history.csv\n",
      "(51732, 7)\n",
      "finish processing: 2022_8_bike_usage_history.csv\n",
      "(60659, 7)\n",
      "finish processing: 2021_12_bike_usage_history.csv\n",
      "(69291, 7)\n",
      "finish processing: 2023_7_bike_usage_history.csv\n",
      "(78219, 7)\n",
      "finish processing: 2023_10_bike_usage_history.csv\n",
      "(87146, 7)\n",
      "finish processing: 2022_1_bike_usage_history.csv\n",
      "(96040, 7)\n",
      "finish processing: 2022_6_bike_usage_history.csv\n",
      "(104669, 7)\n",
      "finish processing: 2023_1_bike_usage_history.csv\n",
      "(113595, 7)\n",
      "finish processing: 2022_7_bike_usage_history.csv\n",
      "(122523, 7)\n",
      "finish processing: 2023_11_bike_usage_history.csv\n",
      "(131159, 7)\n",
      "finish processing: 2023_6_bike_usage_history.csv\n",
      "(139799, 7)\n",
      "finish processing: 2022_9_bike_usage_history.csv\n",
      "(148430, 7)\n",
      "finish processing: 2022_3_bike_usage_history.csv\n",
      "(157325, 7)\n",
      "finish processing: 2023_5_bike_usage_history.csv\n",
      "(166250, 7)\n",
      "finish processing: 2021_10_bike_usage_history.csv\n",
      "(175095, 7)\n",
      "finish processing: 2023_8_bike_usage_history.csv\n",
      "(183682, 7)\n",
      "finish processing: 2022_4_bike_usage_history.csv\n",
      "(192311, 7)\n",
      "finish processing: 2023_2_bike_usage_history.csv\n",
      "(200374, 7)\n",
      "finish processing: 2021_6_bike_usage_history.csv\n",
      "(206328, 7)\n",
      "finish processing: 2020_10_bike_usage_history.csv\n",
      "(207707, 7)\n",
      "finish processing: 2021_1_bike_usage_history.csv\n",
      "(209054, 7)\n",
      "finish processing: 2020_7_bike_usage_history.csv\n",
      "(210459, 7)\n",
      "finish processing: 2022_12_bike_usage_history.csv\n",
      "(219384, 7)\n",
      "finish processing: 2020_4_bike_usage_history.csv\n",
      "(220701, 7)\n",
      "finish processing: 2022_11_bike_usage_history.csv\n",
      "(229336, 7)\n",
      "finish processing: 2021_2_bike_usage_history.csv\n",
      "(230535, 7)\n",
      "finish processing: 2021_8_bike_usage_history.csv\n",
      "(238546, 7)\n",
      "finish processing: 2021_5_bike_usage_history.csv\n",
      "(243231, 7)\n",
      "finish processing: 2020_9_bike_usage_history.csv\n",
      "(244582, 7)\n",
      "finish processing: 2020_8_bike_usage_history.csv\n",
      "(245975, 7)\n",
      "finish processing: 2021_4_bike_usage_history.csv\n",
      "(247309, 7)\n",
      "finish processing: 2021_9_bike_usage_history.csv\n",
      "(255619, 7)\n",
      "finish processing: 2022_10_bike_usage_history.csv\n",
      "(264537, 7)\n",
      "finish processing: 2020_5_bike_usage_history.csv\n",
      "(265901, 7)\n",
      "finish processing: 2021_3_bike_usage_history.csv\n",
      "(267264, 7)\n",
      "finish processing: 2020_12_bike_usage_history.csv\n",
      "(268603, 7)\n",
      "finish processing: 2020_6_bike_usage_history.csv\n",
      "(269956, 7)\n",
      "finish processing: 2020_11_bike_usage_history.csv\n",
      "(271290, 7)\n",
      "finish processing: 2021_7_bike_usage_history.csv\n",
      "(278253, 7)\n"
     ]
    }
   ],
   "source": [
    "for path in file_list:\n",
    "\n",
    "    ubike_hist = pd.read_csv(Path('./history', path), index_col=0)\n",
    "    ubike_hist.drop_duplicates(inplace=True)\n",
    "    ubike_hist.columns = ['lend_time', 'lend_station_name', 'return_time',\n",
    "                    'return_station_name', 'usage_time', 'source_date']\n",
    "    ubike_hist['lend_hour'] = pd.to_datetime(ubike_hist['lend_time']).dt.hour\n",
    "    ubike_hist = ubike_hist[['lend_station_name','lend_hour','usage_time','source_date']]\n",
    "    ubike_hist.loc[:,'usage_time'] = pd.to_timedelta(ubike_hist['usage_time']).dt.total_seconds()\n",
    "    groupby = ubike_hist.groupby(['lend_station_name','source_date','lend_hour'])\n",
    "    extracted = groupby['usage_time'].mean().reset_index()\n",
    "    extracted['traffic_count'] = groupby.size().values\n",
    "    extracted = extracted.merge(tpe_station,how='inner',left_on='lend_station_name',right_on='sna')\n",
    "    extracted = extracted.groupby(['sarea','source_date','lend_hour'],\n",
    "                    as_index=False).agg(\n",
    "        {'usage_time':'mean',\n",
    "        'traffic_count':'sum'\n",
    "        }\n",
    "        )\n",
    "    extracted['day_of_week'] = pd.to_datetime(extracted['source_date']).dt.day_name()\n",
    "    extracted['weekend'] = pd.to_datetime(extracted['source_date']).dt.dayofweek.isin([5,6])\n",
    "    extracted['weekend'] = np.where(extracted['weekend'],'假日','平日')\n",
    "    if extracted_all is None:\n",
    "        extracted_all = extracted.copy(deep=True)\n",
    "    else:\n",
    "        extracted_all = pd.concat([extracted_all,extracted], ignore_index=True)\n",
    "        print(f\"finish processing: {path}\")\n",
    "        print(extracted_all.shape)\n",
    "        # break"
   ]
  },
  {
   "cell_type": "code",
   "execution_count": 6,
   "metadata": {},
   "outputs": [
    {
     "data": {
      "text/plain": [
       "(278253, 7)"
      ]
     },
     "execution_count": 6,
     "metadata": {},
     "output_type": "execute_result"
    }
   ],
   "source": [
    "extracted_all.shape"
   ]
  },
  {
   "cell_type": "code",
   "execution_count": 7,
   "metadata": {},
   "outputs": [
    {
     "data": {
      "text/plain": [
       "Index(['sarea', 'source_date', 'lend_hour', 'usage_time', 'traffic_count',\n",
       "       'day_of_week', 'weekend'],\n",
       "      dtype='object')"
      ]
     },
     "execution_count": 7,
     "metadata": {},
     "output_type": "execute_result"
    }
   ],
   "source": [
    "extracted_all.columns"
   ]
  },
  {
   "cell_type": "code",
   "execution_count": 8,
   "metadata": {},
   "outputs": [],
   "source": [
    "extracted_all.rename({\n",
    "    'sarea':'lend_station_district',\n",
    "    'source_date':'date',\n",
    "    'lend_hour':'hour',\n",
    "    }\n",
    "    ,axis=1,inplace=True\n",
    ")"
   ]
  },
  {
   "cell_type": "code",
   "execution_count": 9,
   "metadata": {},
   "outputs": [],
   "source": [
    "# lend_station_district\tstr\t\n",
    "# date\tdate\t\n",
    "# hour\tint\t\n",
    "# day_of_week\tstr\tMonday, Tuesday, Wednesday\n",
    "# weekend\tstr\t平日、假日\n",
    "# traffic_count\tint\t\n",
    "# usage_time\tint\t"
   ]
  },
  {
   "cell_type": "code",
   "execution_count": 15,
   "metadata": {},
   "outputs": [],
   "source": [
    "extracted_all['usage_time'] = extracted_all['usage_time'].astype('int')"
   ]
  },
  {
   "cell_type": "code",
   "execution_count": 16,
   "metadata": {},
   "outputs": [
    {
     "data": {
      "text/html": [
       "<div>\n",
       "<style scoped>\n",
       "    .dataframe tbody tr th:only-of-type {\n",
       "        vertical-align: middle;\n",
       "    }\n",
       "\n",
       "    .dataframe tbody tr th {\n",
       "        vertical-align: top;\n",
       "    }\n",
       "\n",
       "    .dataframe thead th {\n",
       "        text-align: right;\n",
       "    }\n",
       "</style>\n",
       "<table border=\"1\" class=\"dataframe\">\n",
       "  <thead>\n",
       "    <tr style=\"text-align: right;\">\n",
       "      <th></th>\n",
       "      <th>lend_station_district</th>\n",
       "      <th>date</th>\n",
       "      <th>hour</th>\n",
       "      <th>usage_time</th>\n",
       "      <th>traffic_count</th>\n",
       "      <th>day_of_week</th>\n",
       "      <th>weekend</th>\n",
       "    </tr>\n",
       "  </thead>\n",
       "  <tbody>\n",
       "    <tr>\n",
       "      <th>0</th>\n",
       "      <td>中山區</td>\n",
       "      <td>2022-05-01</td>\n",
       "      <td>0</td>\n",
       "      <td>12221</td>\n",
       "      <td>118</td>\n",
       "      <td>Sunday</td>\n",
       "      <td>假日</td>\n",
       "    </tr>\n",
       "    <tr>\n",
       "      <th>1</th>\n",
       "      <td>中山區</td>\n",
       "      <td>2022-05-01</td>\n",
       "      <td>1</td>\n",
       "      <td>1201</td>\n",
       "      <td>58</td>\n",
       "      <td>Sunday</td>\n",
       "      <td>假日</td>\n",
       "    </tr>\n",
       "    <tr>\n",
       "      <th>2</th>\n",
       "      <td>中山區</td>\n",
       "      <td>2022-05-01</td>\n",
       "      <td>2</td>\n",
       "      <td>886</td>\n",
       "      <td>49</td>\n",
       "      <td>Sunday</td>\n",
       "      <td>假日</td>\n",
       "    </tr>\n",
       "    <tr>\n",
       "      <th>3</th>\n",
       "      <td>中山區</td>\n",
       "      <td>2022-05-01</td>\n",
       "      <td>3</td>\n",
       "      <td>1146</td>\n",
       "      <td>38</td>\n",
       "      <td>Sunday</td>\n",
       "      <td>假日</td>\n",
       "    </tr>\n",
       "    <tr>\n",
       "      <th>4</th>\n",
       "      <td>中山區</td>\n",
       "      <td>2022-05-01</td>\n",
       "      <td>4</td>\n",
       "      <td>1003</td>\n",
       "      <td>36</td>\n",
       "      <td>Sunday</td>\n",
       "      <td>假日</td>\n",
       "    </tr>\n",
       "  </tbody>\n",
       "</table>\n",
       "</div>"
      ],
      "text/plain": [
       "  lend_station_district        date  hour  usage_time  traffic_count  \\\n",
       "0                   中山區  2022-05-01     0       12221            118   \n",
       "1                   中山區  2022-05-01     1        1201             58   \n",
       "2                   中山區  2022-05-01     2         886             49   \n",
       "3                   中山區  2022-05-01     3        1146             38   \n",
       "4                   中山區  2022-05-01     4        1003             36   \n",
       "\n",
       "  day_of_week weekend  \n",
       "0      Sunday      假日  \n",
       "1      Sunday      假日  \n",
       "2      Sunday      假日  \n",
       "3      Sunday      假日  \n",
       "4      Sunday      假日  "
      ]
     },
     "execution_count": 16,
     "metadata": {},
     "output_type": "execute_result"
    }
   ],
   "source": [
    "extracted_all.head()"
   ]
  },
  {
   "cell_type": "code",
   "execution_count": 17,
   "metadata": {},
   "outputs": [],
   "source": [
    "extracted_all.to_csv('pipeline_4_v1.csv',index=False)\n"
   ]
  }
 ],
 "metadata": {
  "kernelspec": {
   "display_name": ".venv",
   "language": "python",
   "name": "python3"
  },
  "language_info": {
   "codemirror_mode": {
    "name": "ipython",
    "version": 3
   },
   "file_extension": ".py",
   "mimetype": "text/x-python",
   "name": "python",
   "nbconvert_exporter": "python",
   "pygments_lexer": "ipython3",
   "version": "3.12.2"
  }
 },
 "nbformat": 4,
 "nbformat_minor": 2
}
