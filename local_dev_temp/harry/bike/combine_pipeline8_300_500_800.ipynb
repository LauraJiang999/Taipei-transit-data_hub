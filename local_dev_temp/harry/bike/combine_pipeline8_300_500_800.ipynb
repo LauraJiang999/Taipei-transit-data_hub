{
 "cells": [
  {
   "cell_type": "code",
   "execution_count": 1,
   "metadata": {},
   "outputs": [],
   "source": [
    "import pandas as pd"
   ]
  },
  {
   "cell_type": "code",
   "execution_count": 8,
   "metadata": {},
   "outputs": [],
   "source": [
    "data_300 = pd.read_csv('pipeline_8_R300.csv')\n",
    "data_500 = pd.read_csv('pipeline_8_R500.csv')\n",
    "data_800 = pd.read_csv('pipeline_8_R800.csv')"
   ]
  },
  {
   "cell_type": "code",
   "execution_count": 9,
   "metadata": {},
   "outputs": [],
   "source": [
    "data_300.rename(\n",
    "    {'almost_empty':'R300_almost_empty','is_empty':'R300_is_empty'},axis=1,inplace=True\n",
    ")\n",
    "\n",
    "data_500.rename(\n",
    "    {'almost_empty':'R500_almost_empty','is_empty':'R500_is_empty'},axis=1,inplace=True\n",
    ")\n",
    "\n",
    "data_800.rename(\n",
    "    {'almost_empty':'R800_almost_empty','is_empty':'R800_is_empty'},axis=1,inplace=True\n",
    ")"
   ]
  },
  {
   "cell_type": "code",
   "execution_count": 11,
   "metadata": {},
   "outputs": [],
   "source": [
    "combined_df = pd.concat([data_300,data_500[['R500_almost_empty','R500_is_empty']],data_800[['R800_almost_empty','R800_is_empty']]],axis=1)"
   ]
  },
  {
   "cell_type": "code",
   "execution_count": 12,
   "metadata": {},
   "outputs": [],
   "source": [
    "combined_df.to_csv('pipeline_8_300_500_800.csv',index=False)"
   ]
  }
 ],
 "metadata": {
  "kernelspec": {
   "display_name": ".venv",
   "language": "python",
   "name": "python3"
  },
  "language_info": {
   "codemirror_mode": {
    "name": "ipython",
    "version": 3
   },
   "file_extension": ".py",
   "mimetype": "text/x-python",
   "name": "python",
   "nbconvert_exporter": "python",
   "pygments_lexer": "ipython3",
   "version": "3.12.2"
  }
 },
 "nbformat": 4,
 "nbformat_minor": 2
}
