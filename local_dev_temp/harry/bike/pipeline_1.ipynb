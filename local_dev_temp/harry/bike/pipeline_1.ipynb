{
 "cells": [
  {
   "cell_type": "code",
   "execution_count": 1,
   "metadata": {},
   "outputs": [],
   "source": [
    "# bike_station_id\n",
    "# station_name\n",
    "# city_code\n",
    "# district\n",
    "# disable\n",
    "# near_to_bus\n",
    "# near_to_mrt\n"
   ]
  },
  {
   "cell_type": "code",
   "execution_count": 2,
   "metadata": {},
   "outputs": [],
   "source": [
    "import pandas as pd\n",
    "import os\n",
    "import geopy.distance\n",
    "import numpy as np\n",
    "from pathlib import Path"
   ]
  },
  {
   "cell_type": "code",
   "execution_count": 3,
   "metadata": {},
   "outputs": [],
   "source": [
    "bus_station = pd.read_csv('../bus/tpe_bus_station_info_after_api_call.csv')\n",
    "mrt_station = pd.read_csv('../MRT/mrt_station.csv')\n",
    "bike_station = pd.read_csv('../bike/bike_usage_realtime.csv',index_col=0)"
   ]
  },
  {
   "cell_type": "code",
   "execution_count": 4,
   "metadata": {},
   "outputs": [],
   "source": [
    "bike_station['sarea'] = bike_station['sarea'].replace('臺大公館校區','大安區')"
   ]
  },
  {
   "cell_type": "code",
   "execution_count": 5,
   "metadata": {},
   "outputs": [],
   "source": [
    "bike_station.rename(\n",
    "    {\n",
    "        'sno':'bike_station_id',\n",
    "        'sna':'station_name',\n",
    "        'act':'disable',\n",
    "        'sarea':'district',\n",
    "        'latitude':'lat',\n",
    "        'longitude':'lng'\n",
    "\n",
    "    }\n",
    "    ,axis=1,\n",
    "    inplace=True\n",
    "                    )"
   ]
  },
  {
   "cell_type": "code",
   "execution_count": 6,
   "metadata": {},
   "outputs": [],
   "source": [
    "bike_station['city_code']='TPE'\n",
    "\n",
    "bike_station['station_name'] = bike_station['station_name'].apply(lambda x: x.split('_')[1])\n",
    "bike_station = bike_station[['bike_station_id','station_name',\n",
    "                             'city_code','district','disable','lng','lat']]"
   ]
  },
  {
   "cell_type": "code",
   "execution_count": 7,
   "metadata": {},
   "outputs": [],
   "source": [
    "mrt_station.rename(\n",
    "    {\n",
    "        'StationPosition.PositionLon':'lng',\n",
    "        'StationPosition.PositionLat':'lat'\n",
    "    },\n",
    "    axis=1,\n",
    "    inplace=True\n",
    ")"
   ]
  },
  {
   "cell_type": "code",
   "execution_count": 8,
   "metadata": {},
   "outputs": [],
   "source": [
    "mrt_dist = []\n",
    "bus_dist = []\n",
    "for idx, row in bike_station.iterrows():\n",
    "    point_1 = row[['lat','lng']].to_numpy()\n",
    "    mrt_dist.append(int(mrt_station[['lat','lng']].apply(lambda row:\n",
    "                                 geopy.distance.geodesic(point_1,row.to_numpy()).m,\n",
    "                                 axis=1).min()))\n",
    "    bus_dist.append(int(bus_station[['lat','lng']].apply(lambda row:\n",
    "                                 geopy.distance.geodesic(point_1,row.to_numpy()).m,\n",
    "                                 axis=1).min()))\n",
    "bike_station['near_to_bus'] = bus_dist\n",
    "bike_station['near_to_mrt'] = mrt_dist\n",
    "del mrt_station,bus_station"
   ]
  },
  {
   "cell_type": "code",
   "execution_count": 9,
   "metadata": {},
   "outputs": [],
   "source": [
    "bike_station.loc[:,'disable'] = ~bike_station['disable'].astype('bool')"
   ]
  },
  {
   "cell_type": "code",
   "execution_count": 10,
   "metadata": {},
   "outputs": [],
   "source": [
    "# lend_date\n",
    "# lend_hour\n",
    "# weekend\n",
    "# traffic_count"
   ]
  },
  {
   "cell_type": "code",
   "execution_count": 11,
   "metadata": {},
   "outputs": [],
   "source": [
    "file_list = os.listdir('./history')\n",
    "file_list = [file for file in file_list if 'bike_usage_history' in file]\n",
    "extracted_all = None"
   ]
  },
  {
   "cell_type": "code",
   "execution_count": 12,
   "metadata": {},
   "outputs": [
    {
     "name": "stdout",
     "output_type": "stream",
     "text": [
      "(1044177, 5)\n",
      "(1636941, 5)\n",
      "(1970990, 5)\n",
      "(2265762, 5)\n",
      "(2869230, 5)\n",
      "(3427880, 5)\n",
      "(3765100, 5)\n",
      "(4391923, 5)\n",
      "(4995673, 5)\n",
      "(5358538, 5)\n",
      "(5829758, 5)\n",
      "(6390806, 5)\n",
      "(6933762, 5)\n",
      "(7536607, 5)\n",
      "(8145386, 5)\n",
      "(8653967, 5)\n",
      "(9085001, 5)\n",
      "(9711682, 5)\n",
      "(9998161, 5)\n",
      "(10587761, 5)\n",
      "(11039495, 5)\n",
      "(11572567, 5)\n",
      "(11671075, 5)\n",
      "(11715495, 5)\n",
      "(11758563, 5)\n",
      "(11805196, 5)\n",
      "(12355591, 5)\n",
      "(12395303, 5)\n",
      "(12957261, 5)\n",
      "(12992196, 5)\n",
      "(13187220, 5)\n",
      "(13267195, 5)\n",
      "(13312080, 5)\n",
      "(13356874, 5)\n",
      "(13401583, 5)\n",
      "(13647791, 5)\n",
      "(14157857, 5)\n",
      "(14199784, 5)\n",
      "(14246514, 5)\n",
      "(14290721, 5)\n",
      "(14334694, 5)\n",
      "(14378786, 5)\n",
      "(14523639, 5)\n"
     ]
    }
   ],
   "source": [
    "for path in file_list:\n",
    "    ubike_hist = pd.read_csv(Path('./history', path), index_col=0)\n",
    "    ubike_hist.drop_duplicates(inplace=True)\n",
    "    ubike_hist.columns = ['lend_time', 'lend_station_name', 'return_time',\n",
    "                  'return_station_name', 'usage_time', 'source_date']\n",
    "    ubike_hist['lend_date'] = pd.to_datetime(ubike_hist['lend_time']).dt.date\n",
    "    ubike_hist['lend_hour'] = pd.to_datetime(ubike_hist['lend_time']).dt.hour\n",
    "    extracted = ubike_hist.groupby(['lend_station_name','lend_date','lend_hour']).size().reset_index(name='traffic_count')\n",
    "    extracted['weekend'] = pd.to_datetime(extracted['lend_date']).dt.dayofweek.isin([5,6])\n",
    "    extracted['weekend'] = np.where(extracted['weekend'],'假日','平日')\n",
    "    if extracted_all is None:\n",
    "        extracted_all = extracted.copy(deep=True)\n",
    "    else:\n",
    "        extracted_all = pd.concat([extracted_all,extracted], ignore_index=True)\n",
    "        print(extracted_all.shape)\n",
    "        # break\n",
    "\n"
   ]
  },
  {
   "cell_type": "code",
   "execution_count": 13,
   "metadata": {},
   "outputs": [],
   "source": [
    "extracted_all = bike_station.merge(extracted_all,how='inner',left_on='station_name',right_on='lend_station_name')"
   ]
  },
  {
   "cell_type": "code",
   "execution_count": 14,
   "metadata": {},
   "outputs": [],
   "source": [
    "extracted_all.drop('lend_station_name',axis=1,inplace=True)"
   ]
  },
  {
   "cell_type": "code",
   "execution_count": 15,
   "metadata": {},
   "outputs": [],
   "source": [
    "extracted_all.drop(['lng', 'lat'],axis=1,inplace=True)"
   ]
  },
  {
   "cell_type": "code",
   "execution_count": 16,
   "metadata": {},
   "outputs": [
    {
     "data": {
      "text/plain": [
       "(14285498, 11)"
      ]
     },
     "execution_count": 16,
     "metadata": {},
     "output_type": "execute_result"
    }
   ],
   "source": [
    "extracted_all.shape"
   ]
  },
  {
   "cell_type": "code",
   "execution_count": 17,
   "metadata": {},
   "outputs": [
    {
     "data": {
      "text/plain": [
       "Index(['bike_station_id', 'station_name', 'city_code', 'district', 'disable',\n",
       "       'near_to_bus', 'near_to_mrt', 'lend_date', 'lend_hour', 'traffic_count',\n",
       "       'weekend'],\n",
       "      dtype='object')"
      ]
     },
     "execution_count": 17,
     "metadata": {},
     "output_type": "execute_result"
    }
   ],
   "source": [
    "# bike_station_id\n",
    "# station_name\n",
    "# city_code\n",
    "# district\n",
    "# disable\n",
    "# near_to_bus\n",
    "# near_to_mrt\n",
    "# lend_date\n",
    "# lend_hour\n",
    "# weekend\n",
    "# traffic_count\n",
    "extracted_all.columns"
   ]
  },
  {
   "cell_type": "code",
   "execution_count": 21,
   "metadata": {},
   "outputs": [],
   "source": [
    "extracted_all.to_csv('pipeline_1_v1.csv',index=False)"
   ]
  }
 ],
 "metadata": {
  "kernelspec": {
   "display_name": ".venv",
   "language": "python",
   "name": "python3"
  },
  "language_info": {
   "codemirror_mode": {
    "name": "ipython",
    "version": 3
   },
   "file_extension": ".py",
   "mimetype": "text/x-python",
   "name": "python",
   "nbconvert_exporter": "python",
   "pygments_lexer": "ipython3",
   "version": "3.12.2"
  }
 },
 "nbformat": 4,
 "nbformat_minor": 2
}
