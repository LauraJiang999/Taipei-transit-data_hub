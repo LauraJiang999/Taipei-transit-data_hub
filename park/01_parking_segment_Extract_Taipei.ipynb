{
 "cells": [
  {
   "cell_type": "code",
   "execution_count": 27,
   "metadata": {
    "ExecuteTime": {
     "end_time": "2024-05-01T17:45:19.788831Z",
     "start_time": "2024-05-01T17:45:19.778348Z"
    }
   },
   "outputs": [],
   "source": [
    "import pandas as pd\n",
    "import requests\n",
    "from bs4 import BeautifulSoup\n",
    "import json\n",
    "import datetime"
   ]
  },
  {
   "cell_type": "markdown",
   "metadata": {},
   "source": [
    "得到每一頁的URL\n",
    "\n",
    "十二個區是從 A01 - A12\n",
    "https://tpis.pma.gov.tw/ParkInfo/pda?areaid=A02"
   ]
  },
  {
   "cell_type": "code",
   "execution_count": 28,
   "metadata": {
    "ExecuteTime": {
     "end_time": "2024-05-01T17:45:20.736545Z",
     "start_time": "2024-05-01T17:45:20.731726Z"
    }
   },
   "outputs": [],
   "source": [
    "def get_url_in_each_page(page):\n",
    "    unchanged_part= \"https://tpis.pma.gov.tw/ParkInfo/api/getMarkerDataByZone/a\"\n",
    "    if page < 10:\n",
    "        page = \"0\" + str(page)\n",
    "    else:\n",
    "        page = str(page)\n",
    "    url = unchanged_part + page\n",
    "    return url\n"
   ]
  },
  {
   "cell_type": "code",
   "execution_count": 29,
   "metadata": {
    "ExecuteTime": {
     "end_time": "2024-05-01T17:45:21.160062Z",
     "start_time": "2024-05-01T17:45:21.155910Z"
    }
   },
   "outputs": [],
   "source": [
    "def data_crawler(url):\n",
    "    headers = {\"User-Agent\" : \"Mozilla/5.0 (Macintosh; Intel Mac OS X 10_15_7) AppleWebKit/537.36 (KHTML, like Gecko) Chrome/123.0.0.0 Safari/537.36\"}\n",
    "    req = requests.get(url, headers=headers)\n",
    "    if req.status_code == 200:\n",
    "        data = req.json()\n",
    "        # data.split()[2:]\n",
    "        # print(data)\n",
    "        return data\n"
   ]
  },
  {
   "cell_type": "code",
   "execution_count": 30,
   "metadata": {
    "ExecuteTime": {
     "end_time": "2024-05-01T17:47:29.120915Z",
     "start_time": "2024-05-01T17:47:29.117072Z"
    }
   },
   "outputs": [],
   "source": [
    "def data_storage(full_parking_segment_data):\n",
    "    df = pd.DataFrame(full_parking_segment_data)\n",
    "    df['source_time'] = datetime.datetime.now()\n",
    "    df['city'] = \"TPE\"\n",
    "    df.to_csv(\"01_parking_rowdata_Taipei.csv\")\n",
    "    df\n"
   ]
  },
  {
   "cell_type": "markdown",
   "metadata": {},
   "source": [
    "從第一頁開始爬（先找出每一頁的網址）"
   ]
  },
  {
   "cell_type": "code",
   "execution_count": 31,
   "metadata": {
    "ExecuteTime": {
     "end_time": "2024-05-01T17:47:37.640195Z",
     "start_time": "2024-05-01T17:47:34.415702Z"
    }
   },
   "outputs": [],
   "source": [
    "full_parking_segment_data = []\n",
    "page = 1\n",
    "while page <= 12:\n",
    "    #每頁爬每頁存\n",
    "    url = get_url_in_each_page(page)\n",
    "    partial_parking_segment_data = data_crawler(url)\n",
    "    page += 1\n",
    "    #每一頁的Json格式都要先轉\n",
    "    full_parking_segment_data += partial_parking_segment_data\n",
    "    \n",
    "data_storage(full_parking_segment_data)\n"
   ]
  }
 ],
 "metadata": {
  "kernelspec": {
   "display_name": ".venv",
   "language": "python",
   "name": "python3"
  },
  "language_info": {
   "codemirror_mode": {
    "name": "ipython",
    "version": 3
   },
   "file_extension": ".py",
   "mimetype": "text/x-python",
   "name": "python",
   "nbconvert_exporter": "python",
   "pygments_lexer": "ipython3",
   "version": "3.12.3"
  }
 },
 "nbformat": 4,
 "nbformat_minor": 2
}
