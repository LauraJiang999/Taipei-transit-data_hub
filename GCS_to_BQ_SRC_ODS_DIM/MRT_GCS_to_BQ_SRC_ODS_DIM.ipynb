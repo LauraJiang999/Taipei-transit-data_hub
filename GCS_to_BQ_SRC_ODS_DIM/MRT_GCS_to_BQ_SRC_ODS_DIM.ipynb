{
 "cells": [
  {
   "cell_type": "code",
   "execution_count": 4,
   "metadata": {},
   "outputs": [],
   "source": [
    "import os"
   ]
  },
  {
   "cell_type": "code",
   "execution_count": 5,
   "metadata": {},
   "outputs": [],
   "source": [
    "# Key\n",
    "BIGQUERY_CREDENTIALS_FILE_PATH = r\"/Users/taylorlin/Desktop/GCP_Key/harry_GCS_BigQuery_write_cred.json\"\n",
    "# BIGQUERY_CREDENTIALS_FILE_PATH = r\"D:\\data_engineer\\TIR_group2\\TIR101_Group2\\secrets\\harry_GCS_BigQuery_write_cred.json\"\n",
    "os.environ[\"GOOGLE_APPLICATION_CREDENTIALS\"] = BIGQUERY_CREDENTIALS_FILE_PATH"
   ]
  },
  {
   "cell_type": "code",
   "execution_count": 6,
   "metadata": {},
   "outputs": [
    {
     "data": {
      "text/plain": [
       "'tir101-group2-422603'"
      ]
     },
     "execution_count": 6,
     "metadata": {},
     "output_type": "execute_result"
    }
   ],
   "source": [
    "from google.cloud import bigquery\n",
    "BQ_CLIENT = bigquery.Client()  \n",
    "# showing project name(level higher than dataset)\n",
    "BQ_CLIENT.project"
   ]
  },
  {
   "cell_type": "code",
   "execution_count": 7,
   "metadata": {},
   "outputs": [
    {
     "name": "stdout",
     "output_type": "stream",
     "text": [
      "created MRT_GCS_to_BQ_SRC_ODS_DIM in project tir101-group2-422603 ,location:asia-east1\n"
     ]
    }
   ],
   "source": [
    "# Dataset Creation\n",
    "def create_dataset(dataset_name:str , location:str=\"asia-east1\",client: bigquery.Client = BQ_CLIENT):\n",
    "    \"\"\"Create a dataset\"\"\"\n",
    "    porject_name = client.project\n",
    "    dataset_id = f\"{porject_name}.{dataset_name}\"\n",
    "\n",
    "    dataset = bigquery.Dataset(dataset_id)\n",
    "    dataset.location = location\n",
    "\n",
    "    client.create_dataset(dataset)\n",
    "    print(f\"created {dataset_name} in project {porject_name} ,location:{location}\")\n",
    "\n",
    "create_dataset(dataset_name=\"MRT_GCS_to_BQ_SRC_ODS_DIM\")\n"
   ]
  },
  {
   "cell_type": "markdown",
   "metadata": {},
   "source": [
    "# SRC creation"
   ]
  },
  {
   "cell_type": "code",
   "execution_count": 9,
   "metadata": {},
   "outputs": [
    {
     "name": "stdout",
     "output_type": "stream",
     "text": [
      "SRC_MRT_static_data is created.\n"
     ]
    }
   ],
   "source": [
    "def GCS_MRT_static_data_to_BQ_SRC(client: bigquery.Client = BQ_CLIENT) -> None:\n",
    "    \"\"\"create external table (GCS to BQ) for MRT raw data(mrt_station)\"\"\"\n",
    "    query_job = client.query(\n",
    "    \"\"\"\n",
    "        CREATE OR REPLACE EXTERNAL TABLE `MRT_GCS_to_BQ_SRC_ODS_DIM.SRC_MRT_static_data`\n",
    "        (\n",
    "            `StationUID` STRING,\n",
    "            `StationID` STRING,\n",
    "            `StationAddress` STRING,\n",
    "            `BikeAllowOnHoliday` BOOL,\n",
    "            `SrcUpdateTime` TIMESTAMP,\n",
    "            `UpdateTime` TIMESTAMP,\n",
    "            `VersionID` STRING,\n",
    "            `LocationCity` STRING,\n",
    "            `LocationCityCode` STRING,\n",
    "            `LocationTown` STRING,\n",
    "            `LocationTownCode` STRING,\n",
    "            `StationName_Zh_tw` STRING,\n",
    "            `StationName_En` STRING,\n",
    "            `StationPosition_PositionLon` FLOAT64,\n",
    "            `StationPosition_PositionLat` FLOAT64,\n",
    "            `StationPosition_GeoHash` STRING            \n",
    "        )\n",
    "        OPTIONS \n",
    "        (\n",
    "            format = 'CSV',\n",
    "            uris = ['gs://static_reference/mrt/mrt_station.csv'],\n",
    "            skip_leading_rows = 1,\n",
    "            max_bad_records = 1\n",
    "        )\n",
    "    \"\"\"\n",
    "    )\n",
    "    query_job.result()\n",
    "    print(\"SRC_MRT_static_data is created.\")\n",
    "GCS_MRT_static_data_to_BQ_SRC()"
   ]
  },
  {
   "cell_type": "markdown",
   "metadata": {},
   "source": [
    "# BQ_SRC_to_ODS"
   ]
  },
  {
   "cell_type": "markdown",
   "metadata": {},
   "source": [
    "# DDL\n",
    "CREATE TABLE `mrt_station` (\n",
    "  `mrt_station_id` int PRIMARY KEY,\n",
    "  `mrt_route_id` char(2),\n",
    "  `sequence` char(2),\n",
    "  `station_name` varchar(20),\n",
    "  `station_en` varchar(100),\n",
    "  `station_address` varchar(150),\n",
    "  `lat` decimal(8,6),\n",
    "  `lng` decimal(9,6),\n",
    "  `city_code` char(3),\n",
    "  `district` varchar(10),\n",
    "  `bike_allow_on_holiday` bool,\n",
    "  `create_time` timestamp,\n",
    "  `update_time` timestamp\n",
    ");"
   ]
  },
  {
   "cell_type": "markdown",
   "metadata": {},
   "source": [
    "AS `mrt_route_id`,、`sequence`沒有找到"
   ]
  },
  {
   "cell_type": "code",
   "execution_count": 11,
   "metadata": {},
   "outputs": [
    {
     "name": "stdout",
     "output_type": "stream",
     "text": [
      "SRC_MRT_static_data is created.\n"
     ]
    }
   ],
   "source": [
    "def BQ_SRC_to_ODS(client: bigquery.Client = BQ_CLIENT) -> None:\n",
    "    \"\"\"Transforming the SRC layer of MRT stations into the ODS layer.\"\"\"\n",
    "    query_job = client.query(\n",
    "    \"\"\"\n",
    "        CREATE OR REPLACE TABLE `MRT_GCS_to_BQ_SRC_ODS_DIM.ODS_MRT_static_data` AS\n",
    "        SELECT\n",
    "        (\n",
    "            `StationID` AS `mrt_station_id`,\n",
    "            AS mrt_route_id,\n",
    "            AS `sequence`\n",
    "            `StationName_Zh_tw` AS `station_name`,\n",
    "            `StationName_En` AS `station_en`,\n",
    "            `StationAddress` AS `station_address`\n",
    "            `StationPosition_PositionLat` AS `lat`,\n",
    "            `StationPosition_PositionLon` AS `lng`,\n",
    "            `LocationCityCode` AS `city_code`,\n",
    "            `LocationTown` AS `district`,\n",
    "            `BikeAllowOnHoliday` AS `bike_allow_on_holiday`,\n",
    "            `UpdateTime` AS `update_time`         \n",
    "        )\n",
    "        FROM \n",
    "            MRT_GCS_to_BQ_SRC_ODS_DIM.SRC_MRT_static_data\n",
    "    \"\"\"\n",
    "    )\n",
    "    query_job.result()\n",
    "    print(\"ODS_MRT_static_data is created.\")\n",
    "GCS_MRT_static_data_to_BQ_SRC()"
   ]
  },
  {
   "cell_type": "markdown",
   "metadata": {},
   "source": []
  }
 ],
 "metadata": {
  "kernelspec": {
   "display_name": "Python 3",
   "language": "python",
   "name": "python3"
  },
  "language_info": {
   "codemirror_mode": {
    "name": "ipython",
    "version": 3
   },
   "file_extension": ".py",
   "mimetype": "text/x-python",
   "name": "python",
   "nbconvert_exporter": "python",
   "pygments_lexer": "ipython3",
   "version": "3.12.3"
  }
 },
 "nbformat": 4,
 "nbformat_minor": 2
}
