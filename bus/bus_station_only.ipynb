{
 "cells": [
  {
   "cell_type": "markdown",
   "metadata": {},
   "source": [
    "[TDX Documentation](https://tdx.transportdata.tw/webapi/File/Swagger/V3/2998e851-81d0-40f5-b26d-77e2f5ac4118)"
   ]
  },
  {
   "cell_type": "code",
   "execution_count": 1,
   "metadata": {},
   "outputs": [
    {
     "data": {
      "text/plain": [
       "True"
      ]
     },
     "execution_count": 1,
     "metadata": {},
     "output_type": "execute_result"
    }
   ],
   "source": [
    "import pandas as pd\n",
    "import json\n",
    "import requests\n",
    "from dotenv import load_dotenv\n",
    "import os\n",
    "load_dotenv()\n",
    "from collections import Counter\n"
   ]
  },
  {
   "cell_type": "code",
   "execution_count": 2,
   "metadata": {},
   "outputs": [],
   "source": [
    "class TDX():\n",
    "    def __init__(self, client_id, client_secret):\n",
    "        self.client_id = client_id\n",
    "        self.client_secret = client_secret\n",
    "\n",
    "    def get_token(self):\n",
    "        token_url = 'https://tdx.transportdata.tw/auth/realms/TDXConnect/protocol/openid-connect/token'\n",
    "        headers = {'content-type': 'application/x-www-form-urlencoded'}\n",
    "        data = {\n",
    "            'grant_type': 'client_credentials',\n",
    "            'client_id': self.client_id,\n",
    "            'client_secret': self.client_secret\n",
    "        }\n",
    "        response = requests.post(token_url, headers=headers, data=data)\n",
    "        # print(response.status_code)\n",
    "        # print(response.json())\n",
    "        self.access_token = response.json()['access_token']\n",
    "        return self.access_token\n",
    "\n",
    "    def get_response(self, url):\n",
    "        headers = {'authorization': f'Bearer {self.get_token()}'}\n",
    "        response = requests.get(url, headers=headers)\n",
    "        return response.json()\n",
    "\n"
   ]
  },
  {
   "cell_type": "code",
   "execution_count": 3,
   "metadata": {},
   "outputs": [],
   "source": [
    "tdx = TDX(os.environ['client_id'],os.environ['client_secret'])"
   ]
  },
  {
   "cell_type": "code",
   "execution_count": 4,
   "metadata": {},
   "outputs": [],
   "source": [
    "data = tdx.get_response(\"https://tdx.transportdata.tw/api/basic/v2/Bus/Station/City/Taipei?%24format=JSON\")\n",
    "with open('taipei_bus_station_info.json','w') as f:\n",
    "    json.dump(data,f,ensure_ascii=False)"
   ]
  },
  {
   "cell_type": "code",
   "execution_count": 5,
   "metadata": {},
   "outputs": [],
   "source": [
    "df = pd.json_normalize(data)"
   ]
  },
  {
   "cell_type": "code",
   "execution_count": 6,
   "metadata": {},
   "outputs": [
    {
     "data": {
      "text/plain": [
       "Index(['StationUID', 'StationID', 'StationAddress', 'Stops',\n",
       "       'LocationCityCode', 'Bearing', 'UpdateTime', 'VersionID',\n",
       "       'StationName.Zh_tw', 'StationPosition.PositionLon',\n",
       "       'StationPosition.PositionLat', 'StationPosition.GeoHash'],\n",
       "      dtype='object')"
      ]
     },
     "execution_count": 6,
     "metadata": {},
     "output_type": "execute_result"
    }
   ],
   "source": [
    "df.columns"
   ]
  },
  {
   "cell_type": "code",
   "execution_count": 7,
   "metadata": {},
   "outputs": [],
   "source": [
    "df['city_code'] = 'TPE'"
   ]
  },
  {
   "cell_type": "code",
   "execution_count": 8,
   "metadata": {},
   "outputs": [],
   "source": [
    "df['district'] = None"
   ]
  },
  {
   "cell_type": "code",
   "execution_count": 9,
   "metadata": {},
   "outputs": [],
   "source": [
    "df = df[['StationID','StationName.Zh_tw','StationAddress','city_code',\n",
    "    'district','StationPosition.PositionLat','StationPosition.PositionLon',\n",
    "    'Bearing'\n",
    "    ]]"
   ]
  },
  {
   "cell_type": "code",
   "execution_count": 10,
   "metadata": {},
   "outputs": [],
   "source": [
    "df = df.rename(\n",
    "    {'StationID':'bus_station_id',\n",
    "     'StationName.Zh_tw':'station_name',\n",
    "     'StationAddress':'address',\n",
    "     'StationPosition.PositionLat':'lat',\n",
    "     'StationPosition.PositionLon':'lng',\n",
    "    'Bearing':'bearing'},axis=1\n",
    ")"
   ]
  },
  {
   "cell_type": "code",
   "execution_count": 11,
   "metadata": {},
   "outputs": [],
   "source": [
    "df.to_csv('tpe_bus_station_info.csv',index=False)"
   ]
  },
  {
   "cell_type": "code",
   "execution_count": 12,
   "metadata": {},
   "outputs": [
    {
     "data": {
      "text/html": [
       "<div>\n",
       "<style scoped>\n",
       "    .dataframe tbody tr th:only-of-type {\n",
       "        vertical-align: middle;\n",
       "    }\n",
       "\n",
       "    .dataframe tbody tr th {\n",
       "        vertical-align: top;\n",
       "    }\n",
       "\n",
       "    .dataframe thead th {\n",
       "        text-align: right;\n",
       "    }\n",
       "</style>\n",
       "<table border=\"1\" class=\"dataframe\">\n",
       "  <thead>\n",
       "    <tr style=\"text-align: right;\">\n",
       "      <th></th>\n",
       "      <th>bus_station_id</th>\n",
       "      <th>station_name</th>\n",
       "      <th>address</th>\n",
       "      <th>city_code</th>\n",
       "      <th>district</th>\n",
       "      <th>lat</th>\n",
       "      <th>lng</th>\n",
       "      <th>bearing</th>\n",
       "    </tr>\n",
       "  </thead>\n",
       "  <tbody>\n",
       "    <tr>\n",
       "      <th>0</th>\n",
       "      <td>10</td>\n",
       "      <td>八勢里</td>\n",
       "      <td>中正東路二段107號(向北)</td>\n",
       "      <td>TPE</td>\n",
       "      <td>None</td>\n",
       "      <td>25.151230</td>\n",
       "      <td>121.459520</td>\n",
       "      <td>N</td>\n",
       "    </tr>\n",
       "    <tr>\n",
       "      <th>1</th>\n",
       "      <td>1000</td>\n",
       "      <td>內湖國中</td>\n",
       "      <td>陽光街1號同向(向東)</td>\n",
       "      <td>TPE</td>\n",
       "      <td>None</td>\n",
       "      <td>25.076960</td>\n",
       "      <td>121.587840</td>\n",
       "      <td>E</td>\n",
       "    </tr>\n",
       "    <tr>\n",
       "      <th>2</th>\n",
       "      <td>1000019</td>\n",
       "      <td>健康新城</td>\n",
       "      <td>健康路246號前(向西)</td>\n",
       "      <td>TPE</td>\n",
       "      <td>None</td>\n",
       "      <td>25.054217</td>\n",
       "      <td>121.562163</td>\n",
       "      <td>W</td>\n",
       "    </tr>\n",
       "    <tr>\n",
       "      <th>3</th>\n",
       "      <td>1000020</td>\n",
       "      <td>長壽公園</td>\n",
       "      <td>健康路153號(向西)</td>\n",
       "      <td>TPE</td>\n",
       "      <td>None</td>\n",
       "      <td>25.054069</td>\n",
       "      <td>121.559764</td>\n",
       "      <td>W</td>\n",
       "    </tr>\n",
       "    <tr>\n",
       "      <th>4</th>\n",
       "      <td>1000021</td>\n",
       "      <td>三軍總醫院松山分院</td>\n",
       "      <td>健康路162號前(向西)</td>\n",
       "      <td>TPE</td>\n",
       "      <td>None</td>\n",
       "      <td>25.053882</td>\n",
       "      <td>121.557874</td>\n",
       "      <td>W</td>\n",
       "    </tr>\n",
       "    <tr>\n",
       "      <th>...</th>\n",
       "      <td>...</td>\n",
       "      <td>...</td>\n",
       "      <td>...</td>\n",
       "      <td>...</td>\n",
       "      <td>...</td>\n",
       "      <td>...</td>\n",
       "      <td>...</td>\n",
       "      <td>...</td>\n",
       "    </tr>\n",
       "    <tr>\n",
       "      <th>5300</th>\n",
       "      <td>993</td>\n",
       "      <td>內湖派出所</td>\n",
       "      <td>內湖路二段245號~251號對面(向東)</td>\n",
       "      <td>TPE</td>\n",
       "      <td>None</td>\n",
       "      <td>25.081788</td>\n",
       "      <td>121.589493</td>\n",
       "      <td>E</td>\n",
       "    </tr>\n",
       "    <tr>\n",
       "      <th>5301</th>\n",
       "      <td>994</td>\n",
       "      <td>內湖派出所</td>\n",
       "      <td>內湖路二段257號同向西側(向西)</td>\n",
       "      <td>TPE</td>\n",
       "      <td>None</td>\n",
       "      <td>25.081987</td>\n",
       "      <td>121.590028</td>\n",
       "      <td>W</td>\n",
       "    </tr>\n",
       "    <tr>\n",
       "      <th>5302</th>\n",
       "      <td>997</td>\n",
       "      <td>捷運港墘站(內湖高工)</td>\n",
       "      <td>內湖路一段635號同向(向東)</td>\n",
       "      <td>TPE</td>\n",
       "      <td>None</td>\n",
       "      <td>25.080149</td>\n",
       "      <td>121.574618</td>\n",
       "      <td>E</td>\n",
       "    </tr>\n",
       "    <tr>\n",
       "      <th>5303</th>\n",
       "      <td>998</td>\n",
       "      <td>內湖高中</td>\n",
       "      <td>文德路235號對向(向東)</td>\n",
       "      <td>TPE</td>\n",
       "      <td>None</td>\n",
       "      <td>25.078704</td>\n",
       "      <td>121.587566</td>\n",
       "      <td>E</td>\n",
       "    </tr>\n",
       "    <tr>\n",
       "      <th>5304</th>\n",
       "      <td>999</td>\n",
       "      <td>內湖國小</td>\n",
       "      <td>內湖路二段84號同向(向東)</td>\n",
       "      <td>TPE</td>\n",
       "      <td>None</td>\n",
       "      <td>25.079290</td>\n",
       "      <td>121.581276</td>\n",
       "      <td>E</td>\n",
       "    </tr>\n",
       "  </tbody>\n",
       "</table>\n",
       "<p>5305 rows × 8 columns</p>\n",
       "</div>"
      ],
      "text/plain": [
       "     bus_station_id station_name               address city_code district  \\\n",
       "0                10          八勢里        中正東路二段107號(向北)       TPE     None   \n",
       "1              1000         內湖國中           陽光街1號同向(向東)       TPE     None   \n",
       "2           1000019         健康新城          健康路246號前(向西)       TPE     None   \n",
       "3           1000020         長壽公園           健康路153號(向西)       TPE     None   \n",
       "4           1000021    三軍總醫院松山分院          健康路162號前(向西)       TPE     None   \n",
       "...             ...          ...                   ...       ...      ...   \n",
       "5300            993        內湖派出所  內湖路二段245號~251號對面(向東)       TPE     None   \n",
       "5301            994        內湖派出所     內湖路二段257號同向西側(向西)       TPE     None   \n",
       "5302            997  捷運港墘站(內湖高工)       內湖路一段635號同向(向東)       TPE     None   \n",
       "5303            998         內湖高中         文德路235號對向(向東)       TPE     None   \n",
       "5304            999         內湖國小        內湖路二段84號同向(向東)       TPE     None   \n",
       "\n",
       "            lat         lng bearing  \n",
       "0     25.151230  121.459520       N  \n",
       "1     25.076960  121.587840       E  \n",
       "2     25.054217  121.562163       W  \n",
       "3     25.054069  121.559764       W  \n",
       "4     25.053882  121.557874       W  \n",
       "...         ...         ...     ...  \n",
       "5300  25.081788  121.589493       E  \n",
       "5301  25.081987  121.590028       W  \n",
       "5302  25.080149  121.574618       E  \n",
       "5303  25.078704  121.587566       E  \n",
       "5304  25.079290  121.581276       E  \n",
       "\n",
       "[5305 rows x 8 columns]"
      ]
     },
     "execution_count": 12,
     "metadata": {},
     "output_type": "execute_result"
    }
   ],
   "source": [
    "df"
   ]
  },
  {
   "cell_type": "code",
   "execution_count": 21,
   "metadata": {},
   "outputs": [],
   "source": [
    "API_KEY = os.environ['google_map_api_key']\n",
    "api_results = []\n",
    "for idx,row in df.iterrows():\n",
    "    if idx<=5300:\n",
    "        continue\n",
    "    lat = row['lat']\n",
    "    lng = row['lng']\n",
    "    reverse_geocoding_url = f'https://maps.googleapis.com/maps/api/geocode/json?latlng={lat},{lng}&key={API_KEY}&language=zh-TW'\n",
    "    try:\n",
    "        response = requests.get(reverse_geocoding_url)\n",
    "        data = response.json()\n",
    "        data['row'] = idx\n",
    "        api_results.append(data)\n",
    "        \n",
    "    except:\n",
    "        print('failed')\n",
    "        print(row)\n",
    "    \n",
    "    if idx%10==0:\n",
    "        print(f'{idx} success')\n",
    "    \n",
    "    if idx%100==0 and idx>0:\n",
    "        with open(f'{idx}_result.json','w') as f:\n",
    "            json.dump(api_results,f,ensure_ascii=False)\n",
    "        api_results=[]"
   ]
  },
  {
   "cell_type": "code",
   "execution_count": 74,
   "metadata": {},
   "outputs": [],
   "source": [
    "idx = 100\n",
    "with open(f'{idx}_result.json','r') as f:\n",
    "    api_results = json.load(f)"
   ]
  },
  {
   "cell_type": "code",
   "execution_count": 89,
   "metadata": {},
   "outputs": [],
   "source": [
    "\n",
    "def extract_data(data):\n",
    "    locations = data['results']\n",
    "    area_level_2_options = []\n",
    "    area_level_3_options = []\n",
    "    if not locations:\n",
    "        return None, None\n",
    "    for loc in locations:\n",
    "        components = loc['address_components']\n",
    "        for component in components:\n",
    "            if 'administrative_area_level_2' in component.get('types',''):\n",
    "                area_level_2_options.append(component['long_name'])\n",
    "            elif 'administrative_area_level_3' in component.get('types',''):\n",
    "                area_level_3_options.append(component['long_name'])\n",
    "    return Counter(area_level_2_options).most_common(n=1)[0][0],Counter(area_level_3_options).most_common(n=1)[0][0]"
   ]
  },
  {
   "cell_type": "code",
   "execution_count": 90,
   "metadata": {},
   "outputs": [],
   "source": [
    "files = list(range(100,5304,100))+[5304]\n",
    "for file in files:\n",
    "    with open(f'{file}_result.json','r') as f:\n",
    "        api_results = json.load(f)\n",
    "    for data in api_results:\n",
    "        level_2, level_3 = extract_data(data)\n",
    "        df.loc[data['row'],'district'] = level_2\n",
    "        df.loc[data['row'],'subarea'] = level_3\n"
   ]
  },
  {
   "cell_type": "code",
   "execution_count": 92,
   "metadata": {},
   "outputs": [],
   "source": [
    "df.to_csv('tpe_bus_station_info_after_api_call.csv',index=False)"
   ]
  },
  {
   "cell_type": "code",
   "execution_count": 100,
   "metadata": {},
   "outputs": [],
   "source": [
    "df.drop('subarea',axis=1,inplace=True)"
   ]
  },
  {
   "cell_type": "code",
   "execution_count": 102,
   "metadata": {},
   "outputs": [],
   "source": [
    "\n",
    "import pandas as pd\n",
    "from sqlalchemy import create_engine\n",
    "\n",
    "username = \"root\"\n",
    "password = \"password\"\n",
    "server = \"localhost:55000\"\n",
    "db_name = \"group2_db\"\n",
    "\n",
    "engine = create_engine(\n",
    "    f\"mysql+pymysql://{username}:{password}@{server}/{db_name}\",\n",
    ")"
   ]
  },
  {
   "cell_type": "code",
   "execution_count": 104,
   "metadata": {},
   "outputs": [
    {
     "data": {
      "text/plain": [
       "5305"
      ]
     },
     "execution_count": 104,
     "metadata": {},
     "output_type": "execute_result"
    }
   ],
   "source": [
    "df.to_sql('bus_station',engine,if_exists='append',index=False)"
   ]
  }
 ],
 "metadata": {
  "kernelspec": {
   "display_name": "tw-transportation-data-6sRg6tIw-py3.10",
   "language": "python",
   "name": "python3"
  },
  "language_info": {
   "codemirror_mode": {
    "name": "ipython",
    "version": 3
   },
   "file_extension": ".py",
   "mimetype": "text/x-python",
   "name": "python",
   "nbconvert_exporter": "python",
   "pygments_lexer": "ipython3",
   "version": "3.12.2"
  }
 },
 "nbformat": 4,
 "nbformat_minor": 2
}
