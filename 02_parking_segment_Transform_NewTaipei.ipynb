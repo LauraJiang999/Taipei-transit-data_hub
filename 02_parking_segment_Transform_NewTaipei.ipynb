{
 "cells": [
  {
   "cell_type": "code",
   "execution_count": 4,
   "id": "initial_id",
   "metadata": {
    "ExecuteTime": {
     "end_time": "2024-05-01T17:28:20.356890Z",
     "start_time": "2024-05-01T17:28:11.993089Z"
    },
    "collapsed": true
   },
   "outputs": [],
   "source": [
    "import pandas as pd\n",
    "import numpy as np"
   ]
  },
  {
   "cell_type": "code",
   "execution_count": 5,
   "id": "b4485f2faabd0d12",
   "metadata": {
    "ExecuteTime": {
     "end_time": "2024-05-01T17:37:26.776825Z",
     "start_time": "2024-05-01T17:37:26.751239Z"
    }
   },
   "outputs": [
    {
     "data": {
      "text/html": [
       "<div>\n",
       "<style scoped>\n",
       "    .dataframe tbody tr th:only-of-type {\n",
       "        vertical-align: middle;\n",
       "    }\n",
       "\n",
       "    .dataframe tbody tr th {\n",
       "        vertical-align: top;\n",
       "    }\n",
       "\n",
       "    .dataframe thead th {\n",
       "        text-align: right;\n",
       "    }\n",
       "</style>\n",
       "<table border=\"1\" class=\"dataframe\">\n",
       "  <thead>\n",
       "    <tr style=\"text-align: right;\">\n",
       "      <th></th>\n",
       "      <th>PSName</th>\n",
       "      <th>address</th>\n",
       "      <th>remainPS</th>\n",
       "      <th>totalPS</th>\n",
       "      <th>update_D</th>\n",
       "      <th>update_time</th>\n",
       "      <th>city_code</th>\n",
       "    </tr>\n",
       "  </thead>\n",
       "  <tbody>\n",
       "    <tr>\n",
       "      <th>0</th>\n",
       "      <td>八里區第一立體停車場</td>\n",
       "      <td>新北市八里區舊城路12號</td>\n",
       "      <td>43</td>\n",
       "      <td>220</td>\n",
       "      <td>113年05月02日</td>\n",
       "      <td>18時13分10秒</td>\n",
       "      <td>NWT</td>\n",
       "    </tr>\n",
       "    <tr>\n",
       "      <th>1</th>\n",
       "      <td>八里區渡船頭平面停車場</td>\n",
       "      <td>新北市八里區龍米路2段156號對面</td>\n",
       "      <td>100</td>\n",
       "      <td>123</td>\n",
       "      <td>113年04月12日</td>\n",
       "      <td>13時53分30秒</td>\n",
       "      <td>NWT</td>\n",
       "    </tr>\n",
       "    <tr>\n",
       "      <th>2</th>\n",
       "      <td>埤頭平面停車場</td>\n",
       "      <td>新北市八里區中山路一段268巷旁</td>\n",
       "      <td>26</td>\n",
       "      <td>70</td>\n",
       "      <td>113年05月02日</td>\n",
       "      <td>18時12分51秒</td>\n",
       "      <td>NWT</td>\n",
       "    </tr>\n",
       "    <tr>\n",
       "      <th>3</th>\n",
       "      <td>八里龍形平面停車場</td>\n",
       "      <td>新北市八里區龍米路1段與龍形一街交叉口</td>\n",
       "      <td>21</td>\n",
       "      <td>62</td>\n",
       "      <td>113年05月02日</td>\n",
       "      <td>18時12分51秒</td>\n",
       "      <td>NWT</td>\n",
       "    </tr>\n",
       "    <tr>\n",
       "      <th>4</th>\n",
       "      <td>八里區龍米平面停車場</td>\n",
       "      <td>新北市八里區龍米路2段150號旁</td>\n",
       "      <td>163</td>\n",
       "      <td>167</td>\n",
       "      <td>113年05月02日</td>\n",
       "      <td>18時10分19秒</td>\n",
       "      <td>NWT</td>\n",
       "    </tr>\n",
       "    <tr>\n",
       "      <th>...</th>\n",
       "      <td>...</td>\n",
       "      <td>...</td>\n",
       "      <td>...</td>\n",
       "      <td>...</td>\n",
       "      <td>...</td>\n",
       "      <td>...</td>\n",
       "      <td>...</td>\n",
       "    </tr>\n",
       "    <tr>\n",
       "      <th>339</th>\n",
       "      <td>礫間停車場</td>\n",
       "      <td>新北市鶯歌區館前路與文化路371巷交叉口</td>\n",
       "      <td>42</td>\n",
       "      <td>48</td>\n",
       "      <td>113年05月02日</td>\n",
       "      <td>18時12分03秒</td>\n",
       "      <td>NWT</td>\n",
       "    </tr>\n",
       "    <tr>\n",
       "      <th>340</th>\n",
       "      <td>後村堰極限運動公園停車場</td>\n",
       "      <td>新北市鶯歌區後村堰極限運動公園周邊停車場</td>\n",
       "      <td>36</td>\n",
       "      <td>61</td>\n",
       "      <td>113年05月02日</td>\n",
       "      <td>18時12分51秒</td>\n",
       "      <td>NWT</td>\n",
       "    </tr>\n",
       "    <tr>\n",
       "      <th>341</th>\n",
       "      <td>鶯歌區公八公園平面停車場</td>\n",
       "      <td>新北市鶯歌區國華路與永明街交叉口</td>\n",
       "      <td>64</td>\n",
       "      <td>116</td>\n",
       "      <td>113年05月02日</td>\n",
       "      <td>18時12分06秒</td>\n",
       "      <td>NWT</td>\n",
       "    </tr>\n",
       "    <tr>\n",
       "      <th>342</th>\n",
       "      <td>鶯歌區三鶯轉運站南側平面停車場</td>\n",
       "      <td>新北市鶯歌區館前路與文化路交叉口/三鶯轉運站南側</td>\n",
       "      <td>39</td>\n",
       "      <td>60</td>\n",
       "      <td>113年05月02日</td>\n",
       "      <td>18時12分40秒</td>\n",
       "      <td>NWT</td>\n",
       "    </tr>\n",
       "    <tr>\n",
       "      <th>343</th>\n",
       "      <td>鶯歌區三鶯轉運站北側平面停車場</td>\n",
       "      <td>新北市鶯歌區館前路與文化路交叉口/三鶯轉運站北側</td>\n",
       "      <td>36</td>\n",
       "      <td>37</td>\n",
       "      <td>113年05月02日</td>\n",
       "      <td>18時12分10秒</td>\n",
       "      <td>NWT</td>\n",
       "    </tr>\n",
       "  </tbody>\n",
       "</table>\n",
       "<p>344 rows × 7 columns</p>\n",
       "</div>"
      ],
      "text/plain": [
       "              PSName                   address  remainPS  totalPS    update_D  \\\n",
       "0         八里區第一立體停車場              新北市八里區舊城路12號        43      220  113年05月02日   \n",
       "1        八里區渡船頭平面停車場         新北市八里區龍米路2段156號對面       100      123  113年04月12日   \n",
       "2            埤頭平面停車場          新北市八里區中山路一段268巷旁        26       70  113年05月02日   \n",
       "3          八里龍形平面停車場       新北市八里區龍米路1段與龍形一街交叉口        21       62  113年05月02日   \n",
       "4         八里區龍米平面停車場          新北市八里區龍米路2段150號旁       163      167  113年05月02日   \n",
       "..               ...                       ...       ...      ...         ...   \n",
       "339            礫間停車場      新北市鶯歌區館前路與文化路371巷交叉口        42       48  113年05月02日   \n",
       "340     後村堰極限運動公園停車場      新北市鶯歌區後村堰極限運動公園周邊停車場        36       61  113年05月02日   \n",
       "341     鶯歌區公八公園平面停車場          新北市鶯歌區國華路與永明街交叉口        64      116  113年05月02日   \n",
       "342  鶯歌區三鶯轉運站南側平面停車場  新北市鶯歌區館前路與文化路交叉口/三鶯轉運站南側        39       60  113年05月02日   \n",
       "343  鶯歌區三鶯轉運站北側平面停車場  新北市鶯歌區館前路與文化路交叉口/三鶯轉運站北側        36       37  113年05月02日   \n",
       "\n",
       "    update_time city_code  \n",
       "0     18時13分10秒       NWT  \n",
       "1     13時53分30秒       NWT  \n",
       "2     18時12分51秒       NWT  \n",
       "3     18時12分51秒       NWT  \n",
       "4     18時10分19秒       NWT  \n",
       "..          ...       ...  \n",
       "339   18時12分03秒       NWT  \n",
       "340   18時12分51秒       NWT  \n",
       "341   18時12分06秒       NWT  \n",
       "342   18時12分40秒       NWT  \n",
       "343   18時12分10秒       NWT  \n",
       "\n",
       "[344 rows x 7 columns]"
      ]
     },
     "execution_count": 5,
     "metadata": {},
     "output_type": "execute_result"
    }
   ],
   "source": [
    "df = pd.read_csv(\"/Users/taylorlin/Desktop/TIR101_Group2/02_parking_rowdata_NewTaipei.csv\")\n",
    "df"
   ]
  },
  {
   "cell_type": "code",
   "execution_count": 7,
   "id": "3e9ada3c712c2731",
   "metadata": {
    "ExecuteTime": {
     "end_time": "2024-05-01T17:37:37.136279Z",
     "start_time": "2024-05-01T17:37:37.117278Z"
    }
   },
   "outputs": [],
   "source": [
    "df = df.loc[:, [\"PSName\", \"city_code\", \"address\", \"totalPS\", \"remainPS\", \"update_D\", \"update_time\"]]"
   ]
  },
  {
   "cell_type": "code",
   "execution_count": 8,
   "id": "d3ef495f",
   "metadata": {},
   "outputs": [
    {
     "data": {
      "text/html": [
       "<div>\n",
       "<style scoped>\n",
       "    .dataframe tbody tr th:only-of-type {\n",
       "        vertical-align: middle;\n",
       "    }\n",
       "\n",
       "    .dataframe tbody tr th {\n",
       "        vertical-align: top;\n",
       "    }\n",
       "\n",
       "    .dataframe thead th {\n",
       "        text-align: right;\n",
       "    }\n",
       "</style>\n",
       "<table border=\"1\" class=\"dataframe\">\n",
       "  <thead>\n",
       "    <tr style=\"text-align: right;\">\n",
       "      <th></th>\n",
       "      <th>ps_name</th>\n",
       "      <th>city_code</th>\n",
       "      <th>address</th>\n",
       "      <th>total_space</th>\n",
       "      <th>aval_space</th>\n",
       "      <th>update_D</th>\n",
       "      <th>update_time</th>\n",
       "    </tr>\n",
       "  </thead>\n",
       "  <tbody>\n",
       "    <tr>\n",
       "      <th>0</th>\n",
       "      <td>八里區第一立體停車場</td>\n",
       "      <td>NWT</td>\n",
       "      <td>新北市八里區舊城路12號</td>\n",
       "      <td>220</td>\n",
       "      <td>43</td>\n",
       "      <td>113年05月02日</td>\n",
       "      <td>18時13分10秒</td>\n",
       "    </tr>\n",
       "    <tr>\n",
       "      <th>1</th>\n",
       "      <td>八里區渡船頭平面停車場</td>\n",
       "      <td>NWT</td>\n",
       "      <td>新北市八里區龍米路2段156號對面</td>\n",
       "      <td>123</td>\n",
       "      <td>100</td>\n",
       "      <td>113年04月12日</td>\n",
       "      <td>13時53分30秒</td>\n",
       "    </tr>\n",
       "    <tr>\n",
       "      <th>2</th>\n",
       "      <td>埤頭平面停車場</td>\n",
       "      <td>NWT</td>\n",
       "      <td>新北市八里區中山路一段268巷旁</td>\n",
       "      <td>70</td>\n",
       "      <td>26</td>\n",
       "      <td>113年05月02日</td>\n",
       "      <td>18時12分51秒</td>\n",
       "    </tr>\n",
       "    <tr>\n",
       "      <th>3</th>\n",
       "      <td>八里龍形平面停車場</td>\n",
       "      <td>NWT</td>\n",
       "      <td>新北市八里區龍米路1段與龍形一街交叉口</td>\n",
       "      <td>62</td>\n",
       "      <td>21</td>\n",
       "      <td>113年05月02日</td>\n",
       "      <td>18時12分51秒</td>\n",
       "    </tr>\n",
       "    <tr>\n",
       "      <th>4</th>\n",
       "      <td>八里區龍米平面停車場</td>\n",
       "      <td>NWT</td>\n",
       "      <td>新北市八里區龍米路2段150號旁</td>\n",
       "      <td>167</td>\n",
       "      <td>163</td>\n",
       "      <td>113年05月02日</td>\n",
       "      <td>18時10分19秒</td>\n",
       "    </tr>\n",
       "    <tr>\n",
       "      <th>...</th>\n",
       "      <td>...</td>\n",
       "      <td>...</td>\n",
       "      <td>...</td>\n",
       "      <td>...</td>\n",
       "      <td>...</td>\n",
       "      <td>...</td>\n",
       "      <td>...</td>\n",
       "    </tr>\n",
       "    <tr>\n",
       "      <th>339</th>\n",
       "      <td>礫間停車場</td>\n",
       "      <td>NWT</td>\n",
       "      <td>新北市鶯歌區館前路與文化路371巷交叉口</td>\n",
       "      <td>48</td>\n",
       "      <td>42</td>\n",
       "      <td>113年05月02日</td>\n",
       "      <td>18時12分03秒</td>\n",
       "    </tr>\n",
       "    <tr>\n",
       "      <th>340</th>\n",
       "      <td>後村堰極限運動公園停車場</td>\n",
       "      <td>NWT</td>\n",
       "      <td>新北市鶯歌區後村堰極限運動公園周邊停車場</td>\n",
       "      <td>61</td>\n",
       "      <td>36</td>\n",
       "      <td>113年05月02日</td>\n",
       "      <td>18時12分51秒</td>\n",
       "    </tr>\n",
       "    <tr>\n",
       "      <th>341</th>\n",
       "      <td>鶯歌區公八公園平面停車場</td>\n",
       "      <td>NWT</td>\n",
       "      <td>新北市鶯歌區國華路與永明街交叉口</td>\n",
       "      <td>116</td>\n",
       "      <td>64</td>\n",
       "      <td>113年05月02日</td>\n",
       "      <td>18時12分06秒</td>\n",
       "    </tr>\n",
       "    <tr>\n",
       "      <th>342</th>\n",
       "      <td>鶯歌區三鶯轉運站南側平面停車場</td>\n",
       "      <td>NWT</td>\n",
       "      <td>新北市鶯歌區館前路與文化路交叉口/三鶯轉運站南側</td>\n",
       "      <td>60</td>\n",
       "      <td>39</td>\n",
       "      <td>113年05月02日</td>\n",
       "      <td>18時12分40秒</td>\n",
       "    </tr>\n",
       "    <tr>\n",
       "      <th>343</th>\n",
       "      <td>鶯歌區三鶯轉運站北側平面停車場</td>\n",
       "      <td>NWT</td>\n",
       "      <td>新北市鶯歌區館前路與文化路交叉口/三鶯轉運站北側</td>\n",
       "      <td>37</td>\n",
       "      <td>36</td>\n",
       "      <td>113年05月02日</td>\n",
       "      <td>18時12分10秒</td>\n",
       "    </tr>\n",
       "  </tbody>\n",
       "</table>\n",
       "<p>344 rows × 7 columns</p>\n",
       "</div>"
      ],
      "text/plain": [
       "             ps_name city_code                   address  total_space  \\\n",
       "0         八里區第一立體停車場       NWT              新北市八里區舊城路12號          220   \n",
       "1        八里區渡船頭平面停車場       NWT         新北市八里區龍米路2段156號對面          123   \n",
       "2            埤頭平面停車場       NWT          新北市八里區中山路一段268巷旁           70   \n",
       "3          八里龍形平面停車場       NWT       新北市八里區龍米路1段與龍形一街交叉口           62   \n",
       "4         八里區龍米平面停車場       NWT          新北市八里區龍米路2段150號旁          167   \n",
       "..               ...       ...                       ...          ...   \n",
       "339            礫間停車場       NWT      新北市鶯歌區館前路與文化路371巷交叉口           48   \n",
       "340     後村堰極限運動公園停車場       NWT      新北市鶯歌區後村堰極限運動公園周邊停車場           61   \n",
       "341     鶯歌區公八公園平面停車場       NWT          新北市鶯歌區國華路與永明街交叉口          116   \n",
       "342  鶯歌區三鶯轉運站南側平面停車場       NWT  新北市鶯歌區館前路與文化路交叉口/三鶯轉運站南側           60   \n",
       "343  鶯歌區三鶯轉運站北側平面停車場       NWT  新北市鶯歌區館前路與文化路交叉口/三鶯轉運站北側           37   \n",
       "\n",
       "     aval_space    update_D update_time  \n",
       "0            43  113年05月02日   18時13分10秒  \n",
       "1           100  113年04月12日   13時53分30秒  \n",
       "2            26  113年05月02日   18時12分51秒  \n",
       "3            21  113年05月02日   18時12分51秒  \n",
       "4           163  113年05月02日   18時10分19秒  \n",
       "..          ...         ...         ...  \n",
       "339          42  113年05月02日   18時12分03秒  \n",
       "340          36  113年05月02日   18時12分51秒  \n",
       "341          64  113年05月02日   18時12分06秒  \n",
       "342          39  113年05月02日   18時12分40秒  \n",
       "343          36  113年05月02日   18時12分10秒  \n",
       "\n",
       "[344 rows x 7 columns]"
      ]
     },
     "execution_count": 8,
     "metadata": {},
     "output_type": "execute_result"
    }
   ],
   "source": [
    "df_renamed = df.rename(columns={\"PSName\":\"ps_name\", \"totalPS\":\"total_space\", \"remainPS\":'aval_space'})\n",
    "df_renamed"
   ]
  },
  {
   "cell_type": "code",
   "execution_count": 9,
   "id": "3b882ad6",
   "metadata": {},
   "outputs": [
    {
     "data": {
      "text/plain": [
       "ps_name        object\n",
       "city_code      object\n",
       "address        object\n",
       "total_space     int64\n",
       "aval_space      int64\n",
       "update_D       object\n",
       "update_time    object\n",
       "dtype: object"
      ]
     },
     "execution_count": 9,
     "metadata": {},
     "output_type": "execute_result"
    }
   ],
   "source": [
    "df_renamed.dtypes"
   ]
  },
  {
   "cell_type": "markdown",
   "id": "d73e0084",
   "metadata": {},
   "source": [
    "# 合併 日期跟時間\n"
   ]
  },
  {
   "cell_type": "code",
   "execution_count": 11,
   "id": "c0f89e65",
   "metadata": {},
   "outputs": [],
   "source": [
    "import re"
   ]
  },
  {
   "cell_type": "code",
   "execution_count": 19,
   "id": "281c1002",
   "metadata": {},
   "outputs": [
    {
     "data": {
      "text/plain": [
       "'113-05-02-'"
      ]
     },
     "execution_count": 19,
     "metadata": {},
     "output_type": "execute_result"
    }
   ],
   "source": [
    "re.sub(r\"\\D\",'-','113年05月02日')"
   ]
  },
  {
   "cell_type": "code",
   "execution_count": 27,
   "id": "b8deef09",
   "metadata": {},
   "outputs": [],
   "source": [
    "df_renamed['time_string'] = df_renamed['update_D'].apply(lambda x: re.sub(r\"\\D\",'-',x[:-1])) + ' '+df_renamed['update_time'].apply(lambda x: re.sub(r\"\\D\",':',x[:-1]))"
   ]
  },
  {
   "cell_type": "code",
   "execution_count": 28,
   "id": "6d18d1c0",
   "metadata": {},
   "outputs": [
    {
     "name": "stderr",
     "output_type": "stream",
     "text": [
      "/var/folders/77/6lnrbzg134759jvvdqm9y3vh0000gn/T/ipykernel_52380/1123140789.py:1: UserWarning: Could not infer format, so each element will be parsed individually, falling back to `dateutil`. To ensure parsing is consistent and as-expected, please specify a format.\n",
      "  pd.to_datetime(df_renamed['time_string'])\n"
     ]
    },
    {
     "ename": "OutOfBoundsDatetime",
     "evalue": "Out of bounds nanosecond timestamp: 113-05-02 18:13:10, at position 0",
     "output_type": "error",
     "traceback": [
      "\u001b[0;31m---------------------------------------------------------------------------\u001b[0m",
      "\u001b[0;31mOverflowError\u001b[0m                             Traceback (most recent call last)",
      "File \u001b[0;32mconversion.pyx:326\u001b[0m, in \u001b[0;36mpandas._libs.tslibs.conversion._TSObject.ensure_reso\u001b[0;34m()\u001b[0m\n",
      "File \u001b[0;32mnp_datetime.pyx:683\u001b[0m, in \u001b[0;36mpandas._libs.tslibs.np_datetime.convert_reso\u001b[0;34m()\u001b[0m\n",
      "\u001b[0;31mOverflowError\u001b[0m: result would overflow",
      "\nThe above exception was the direct cause of the following exception:\n",
      "\u001b[0;31mOutOfBoundsDatetime\u001b[0m                       Traceback (most recent call last)",
      "Cell \u001b[0;32mIn[28], line 1\u001b[0m\n\u001b[0;32m----> 1\u001b[0m \u001b[43mpd\u001b[49m\u001b[38;5;241;43m.\u001b[39;49m\u001b[43mto_datetime\u001b[49m\u001b[43m(\u001b[49m\u001b[43mdf_renamed\u001b[49m\u001b[43m[\u001b[49m\u001b[38;5;124;43m'\u001b[39;49m\u001b[38;5;124;43mtime_string\u001b[39;49m\u001b[38;5;124;43m'\u001b[39;49m\u001b[43m]\u001b[49m\u001b[43m)\u001b[49m\n",
      "File \u001b[0;32m~/Desktop/TIR101_Group2/.venv/lib/python3.12/site-packages/pandas/core/tools/datetimes.py:1067\u001b[0m, in \u001b[0;36mto_datetime\u001b[0;34m(arg, errors, dayfirst, yearfirst, utc, format, exact, unit, infer_datetime_format, origin, cache)\u001b[0m\n\u001b[1;32m   1065\u001b[0m         result \u001b[38;5;241m=\u001b[39m arg\u001b[38;5;241m.\u001b[39mmap(cache_array)\n\u001b[1;32m   1066\u001b[0m     \u001b[38;5;28;01melse\u001b[39;00m:\n\u001b[0;32m-> 1067\u001b[0m         values \u001b[38;5;241m=\u001b[39m \u001b[43mconvert_listlike\u001b[49m\u001b[43m(\u001b[49m\u001b[43marg\u001b[49m\u001b[38;5;241;43m.\u001b[39;49m\u001b[43m_values\u001b[49m\u001b[43m,\u001b[49m\u001b[43m \u001b[49m\u001b[38;5;28;43mformat\u001b[39;49m\u001b[43m)\u001b[49m\n\u001b[1;32m   1068\u001b[0m         result \u001b[38;5;241m=\u001b[39m arg\u001b[38;5;241m.\u001b[39m_constructor(values, index\u001b[38;5;241m=\u001b[39marg\u001b[38;5;241m.\u001b[39mindex, name\u001b[38;5;241m=\u001b[39marg\u001b[38;5;241m.\u001b[39mname)\n\u001b[1;32m   1069\u001b[0m \u001b[38;5;28;01melif\u001b[39;00m \u001b[38;5;28misinstance\u001b[39m(arg, (ABCDataFrame, abc\u001b[38;5;241m.\u001b[39mMutableMapping)):\n",
      "File \u001b[0;32m~/Desktop/TIR101_Group2/.venv/lib/python3.12/site-packages/pandas/core/tools/datetimes.py:435\u001b[0m, in \u001b[0;36m_convert_listlike_datetimes\u001b[0;34m(arg, format, name, utc, unit, errors, dayfirst, yearfirst, exact)\u001b[0m\n\u001b[1;32m    432\u001b[0m \u001b[38;5;28;01mif\u001b[39;00m \u001b[38;5;28mformat\u001b[39m \u001b[38;5;129;01mis\u001b[39;00m \u001b[38;5;129;01mnot\u001b[39;00m \u001b[38;5;28;01mNone\u001b[39;00m \u001b[38;5;129;01mand\u001b[39;00m \u001b[38;5;28mformat\u001b[39m \u001b[38;5;241m!=\u001b[39m \u001b[38;5;124m\"\u001b[39m\u001b[38;5;124mmixed\u001b[39m\u001b[38;5;124m\"\u001b[39m:\n\u001b[1;32m    433\u001b[0m     \u001b[38;5;28;01mreturn\u001b[39;00m _array_strptime_with_fallback(arg, name, utc, \u001b[38;5;28mformat\u001b[39m, exact, errors)\n\u001b[0;32m--> 435\u001b[0m result, tz_parsed \u001b[38;5;241m=\u001b[39m \u001b[43mobjects_to_datetime64\u001b[49m\u001b[43m(\u001b[49m\n\u001b[1;32m    436\u001b[0m \u001b[43m    \u001b[49m\u001b[43marg\u001b[49m\u001b[43m,\u001b[49m\n\u001b[1;32m    437\u001b[0m \u001b[43m    \u001b[49m\u001b[43mdayfirst\u001b[49m\u001b[38;5;241;43m=\u001b[39;49m\u001b[43mdayfirst\u001b[49m\u001b[43m,\u001b[49m\n\u001b[1;32m    438\u001b[0m \u001b[43m    \u001b[49m\u001b[43myearfirst\u001b[49m\u001b[38;5;241;43m=\u001b[39;49m\u001b[43myearfirst\u001b[49m\u001b[43m,\u001b[49m\n\u001b[1;32m    439\u001b[0m \u001b[43m    \u001b[49m\u001b[43mutc\u001b[49m\u001b[38;5;241;43m=\u001b[39;49m\u001b[43mutc\u001b[49m\u001b[43m,\u001b[49m\n\u001b[1;32m    440\u001b[0m \u001b[43m    \u001b[49m\u001b[43merrors\u001b[49m\u001b[38;5;241;43m=\u001b[39;49m\u001b[43merrors\u001b[49m\u001b[43m,\u001b[49m\n\u001b[1;32m    441\u001b[0m \u001b[43m    \u001b[49m\u001b[43mallow_object\u001b[49m\u001b[38;5;241;43m=\u001b[39;49m\u001b[38;5;28;43;01mTrue\u001b[39;49;00m\u001b[43m,\u001b[49m\n\u001b[1;32m    442\u001b[0m \u001b[43m\u001b[49m\u001b[43m)\u001b[49m\n\u001b[1;32m    444\u001b[0m \u001b[38;5;28;01mif\u001b[39;00m tz_parsed \u001b[38;5;129;01mis\u001b[39;00m \u001b[38;5;129;01mnot\u001b[39;00m \u001b[38;5;28;01mNone\u001b[39;00m:\n\u001b[1;32m    445\u001b[0m     \u001b[38;5;66;03m# We can take a shortcut since the datetime64 numpy array\u001b[39;00m\n\u001b[1;32m    446\u001b[0m     \u001b[38;5;66;03m# is in UTC\u001b[39;00m\n\u001b[1;32m    447\u001b[0m     out_unit \u001b[38;5;241m=\u001b[39m np\u001b[38;5;241m.\u001b[39mdatetime_data(result\u001b[38;5;241m.\u001b[39mdtype)[\u001b[38;5;241m0\u001b[39m]\n",
      "File \u001b[0;32m~/Desktop/TIR101_Group2/.venv/lib/python3.12/site-packages/pandas/core/arrays/datetimes.py:2398\u001b[0m, in \u001b[0;36mobjects_to_datetime64\u001b[0;34m(data, dayfirst, yearfirst, utc, errors, allow_object, out_unit)\u001b[0m\n\u001b[1;32m   2395\u001b[0m \u001b[38;5;66;03m# if str-dtype, convert\u001b[39;00m\n\u001b[1;32m   2396\u001b[0m data \u001b[38;5;241m=\u001b[39m np\u001b[38;5;241m.\u001b[39masarray(data, dtype\u001b[38;5;241m=\u001b[39mnp\u001b[38;5;241m.\u001b[39mobject_)\n\u001b[0;32m-> 2398\u001b[0m result, tz_parsed \u001b[38;5;241m=\u001b[39m \u001b[43mtslib\u001b[49m\u001b[38;5;241;43m.\u001b[39;49m\u001b[43marray_to_datetime\u001b[49m\u001b[43m(\u001b[49m\n\u001b[1;32m   2399\u001b[0m \u001b[43m    \u001b[49m\u001b[43mdata\u001b[49m\u001b[43m,\u001b[49m\n\u001b[1;32m   2400\u001b[0m \u001b[43m    \u001b[49m\u001b[43merrors\u001b[49m\u001b[38;5;241;43m=\u001b[39;49m\u001b[43merrors\u001b[49m\u001b[43m,\u001b[49m\n\u001b[1;32m   2401\u001b[0m \u001b[43m    \u001b[49m\u001b[43mutc\u001b[49m\u001b[38;5;241;43m=\u001b[39;49m\u001b[43mutc\u001b[49m\u001b[43m,\u001b[49m\n\u001b[1;32m   2402\u001b[0m \u001b[43m    \u001b[49m\u001b[43mdayfirst\u001b[49m\u001b[38;5;241;43m=\u001b[39;49m\u001b[43mdayfirst\u001b[49m\u001b[43m,\u001b[49m\n\u001b[1;32m   2403\u001b[0m \u001b[43m    \u001b[49m\u001b[43myearfirst\u001b[49m\u001b[38;5;241;43m=\u001b[39;49m\u001b[43myearfirst\u001b[49m\u001b[43m,\u001b[49m\n\u001b[1;32m   2404\u001b[0m \u001b[43m    \u001b[49m\u001b[43mcreso\u001b[49m\u001b[38;5;241;43m=\u001b[39;49m\u001b[43mabbrev_to_npy_unit\u001b[49m\u001b[43m(\u001b[49m\u001b[43mout_unit\u001b[49m\u001b[43m)\u001b[49m\u001b[43m,\u001b[49m\n\u001b[1;32m   2405\u001b[0m \u001b[43m\u001b[49m\u001b[43m)\u001b[49m\n\u001b[1;32m   2407\u001b[0m \u001b[38;5;28;01mif\u001b[39;00m tz_parsed \u001b[38;5;129;01mis\u001b[39;00m \u001b[38;5;129;01mnot\u001b[39;00m \u001b[38;5;28;01mNone\u001b[39;00m:\n\u001b[1;32m   2408\u001b[0m     \u001b[38;5;66;03m# We can take a shortcut since the datetime64 numpy array\u001b[39;00m\n\u001b[1;32m   2409\u001b[0m     \u001b[38;5;66;03m#  is in UTC\u001b[39;00m\n\u001b[1;32m   2410\u001b[0m     \u001b[38;5;28;01mreturn\u001b[39;00m result, tz_parsed\n",
      "File \u001b[0;32mtslib.pyx:414\u001b[0m, in \u001b[0;36mpandas._libs.tslib.array_to_datetime\u001b[0;34m()\u001b[0m\n",
      "File \u001b[0;32mtslib.pyx:596\u001b[0m, in \u001b[0;36mpandas._libs.tslib.array_to_datetime\u001b[0;34m()\u001b[0m\n",
      "File \u001b[0;32mtslib.pyx:571\u001b[0m, in \u001b[0;36mpandas._libs.tslib.array_to_datetime\u001b[0;34m()\u001b[0m\n",
      "File \u001b[0;32mconversion.pyx:332\u001b[0m, in \u001b[0;36mpandas._libs.tslibs.conversion._TSObject.ensure_reso\u001b[0;34m()\u001b[0m\n",
      "\u001b[0;31mOutOfBoundsDatetime\u001b[0m: Out of bounds nanosecond timestamp: 113-05-02 18:13:10, at position 0"
     ]
    }
   ],
   "source": [
    "pd.to_datetime(df_renamed['time_string'])"
   ]
  },
  {
   "cell_type": "markdown",
   "id": "3a4c9009",
   "metadata": {},
   "source": []
  },
  {
   "cell_type": "code",
   "execution_count": 43,
   "id": "b133e4da",
   "metadata": {},
   "outputs": [],
   "source": [
    "df_renamed\n",
    "df_renamed.to_csv(\"02_parking_TransfromData_NewTaipei.csv\")"
   ]
  }
 ],
 "metadata": {
  "kernelspec": {
   "display_name": "Python 3",
   "language": "python",
   "name": "python3"
  },
  "language_info": {
   "codemirror_mode": {
    "name": "ipython",
    "version": 3
   },
   "file_extension": ".py",
   "mimetype": "text/x-python",
   "name": "python",
   "nbconvert_exporter": "python",
   "pygments_lexer": "ipython3",
   "version": "3.12.3"
  }
 },
 "nbformat": 4,
 "nbformat_minor": 5
}
