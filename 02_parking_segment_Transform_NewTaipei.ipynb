{
 "cells": [
  {
   "cell_type": "code",
   "execution_count": 4,
   "id": "initial_id",
   "metadata": {
    "ExecuteTime": {
     "end_time": "2024-05-01T17:28:20.356890Z",
     "start_time": "2024-05-01T17:28:11.993089Z"
    },
    "collapsed": true
   },
   "outputs": [],
   "source": [
    "import pandas as pd\n",
    "import numpy as np"
   ]
  },
  {
   "cell_type": "code",
   "execution_count": 5,
   "id": "b4485f2faabd0d12",
   "metadata": {
    "ExecuteTime": {
     "end_time": "2024-05-01T17:37:26.776825Z",
     "start_time": "2024-05-01T17:37:26.751239Z"
    }
   },
   "outputs": [
    {
     "data": {
      "text/html": [
       "<div>\n",
       "<style scoped>\n",
       "    .dataframe tbody tr th:only-of-type {\n",
       "        vertical-align: middle;\n",
       "    }\n",
       "\n",
       "    .dataframe tbody tr th {\n",
       "        vertical-align: top;\n",
       "    }\n",
       "\n",
       "    .dataframe thead th {\n",
       "        text-align: right;\n",
       "    }\n",
       "</style>\n",
       "<table border=\"1\" class=\"dataframe\">\n",
       "  <thead>\n",
       "    <tr style=\"text-align: right;\">\n",
       "      <th></th>\n",
       "      <th>PSName</th>\n",
       "      <th>address</th>\n",
       "      <th>remainPS</th>\n",
       "      <th>totalPS</th>\n",
       "      <th>update_D</th>\n",
       "      <th>update_time</th>\n",
       "      <th>city_code</th>\n",
       "    </tr>\n",
       "  </thead>\n",
       "  <tbody>\n",
       "    <tr>\n",
       "      <th>0</th>\n",
       "      <td>八里區第一立體停車場</td>\n",
       "      <td>新北市八里區舊城路12號</td>\n",
       "      <td>43</td>\n",
       "      <td>220</td>\n",
       "      <td>113年05月02日</td>\n",
       "      <td>18時13分10秒</td>\n",
       "      <td>NWT</td>\n",
       "    </tr>\n",
       "    <tr>\n",
       "      <th>1</th>\n",
       "      <td>八里區渡船頭平面停車場</td>\n",
       "      <td>新北市八里區龍米路2段156號對面</td>\n",
       "      <td>100</td>\n",
       "      <td>123</td>\n",
       "      <td>113年04月12日</td>\n",
       "      <td>13時53分30秒</td>\n",
       "      <td>NWT</td>\n",
       "    </tr>\n",
       "    <tr>\n",
       "      <th>2</th>\n",
       "      <td>埤頭平面停車場</td>\n",
       "      <td>新北市八里區中山路一段268巷旁</td>\n",
       "      <td>26</td>\n",
       "      <td>70</td>\n",
       "      <td>113年05月02日</td>\n",
       "      <td>18時12分51秒</td>\n",
       "      <td>NWT</td>\n",
       "    </tr>\n",
       "    <tr>\n",
       "      <th>3</th>\n",
       "      <td>八里龍形平面停車場</td>\n",
       "      <td>新北市八里區龍米路1段與龍形一街交叉口</td>\n",
       "      <td>21</td>\n",
       "      <td>62</td>\n",
       "      <td>113年05月02日</td>\n",
       "      <td>18時12分51秒</td>\n",
       "      <td>NWT</td>\n",
       "    </tr>\n",
       "    <tr>\n",
       "      <th>4</th>\n",
       "      <td>八里區龍米平面停車場</td>\n",
       "      <td>新北市八里區龍米路2段150號旁</td>\n",
       "      <td>163</td>\n",
       "      <td>167</td>\n",
       "      <td>113年05月02日</td>\n",
       "      <td>18時10分19秒</td>\n",
       "      <td>NWT</td>\n",
       "    </tr>\n",
       "    <tr>\n",
       "      <th>...</th>\n",
       "      <td>...</td>\n",
       "      <td>...</td>\n",
       "      <td>...</td>\n",
       "      <td>...</td>\n",
       "      <td>...</td>\n",
       "      <td>...</td>\n",
       "      <td>...</td>\n",
       "    </tr>\n",
       "    <tr>\n",
       "      <th>339</th>\n",
       "      <td>礫間停車場</td>\n",
       "      <td>新北市鶯歌區館前路與文化路371巷交叉口</td>\n",
       "      <td>42</td>\n",
       "      <td>48</td>\n",
       "      <td>113年05月02日</td>\n",
       "      <td>18時12分03秒</td>\n",
       "      <td>NWT</td>\n",
       "    </tr>\n",
       "    <tr>\n",
       "      <th>340</th>\n",
       "      <td>後村堰極限運動公園停車場</td>\n",
       "      <td>新北市鶯歌區後村堰極限運動公園周邊停車場</td>\n",
       "      <td>36</td>\n",
       "      <td>61</td>\n",
       "      <td>113年05月02日</td>\n",
       "      <td>18時12分51秒</td>\n",
       "      <td>NWT</td>\n",
       "    </tr>\n",
       "    <tr>\n",
       "      <th>341</th>\n",
       "      <td>鶯歌區公八公園平面停車場</td>\n",
       "      <td>新北市鶯歌區國華路與永明街交叉口</td>\n",
       "      <td>64</td>\n",
       "      <td>116</td>\n",
       "      <td>113年05月02日</td>\n",
       "      <td>18時12分06秒</td>\n",
       "      <td>NWT</td>\n",
       "    </tr>\n",
       "    <tr>\n",
       "      <th>342</th>\n",
       "      <td>鶯歌區三鶯轉運站南側平面停車場</td>\n",
       "      <td>新北市鶯歌區館前路與文化路交叉口/三鶯轉運站南側</td>\n",
       "      <td>39</td>\n",
       "      <td>60</td>\n",
       "      <td>113年05月02日</td>\n",
       "      <td>18時12分40秒</td>\n",
       "      <td>NWT</td>\n",
       "    </tr>\n",
       "    <tr>\n",
       "      <th>343</th>\n",
       "      <td>鶯歌區三鶯轉運站北側平面停車場</td>\n",
       "      <td>新北市鶯歌區館前路與文化路交叉口/三鶯轉運站北側</td>\n",
       "      <td>36</td>\n",
       "      <td>37</td>\n",
       "      <td>113年05月02日</td>\n",
       "      <td>18時12分10秒</td>\n",
       "      <td>NWT</td>\n",
       "    </tr>\n",
       "  </tbody>\n",
       "</table>\n",
       "<p>344 rows × 7 columns</p>\n",
       "</div>"
      ],
      "text/plain": [
       "              PSName                   address  remainPS  totalPS    update_D  \\\n",
       "0         八里區第一立體停車場              新北市八里區舊城路12號        43      220  113年05月02日   \n",
       "1        八里區渡船頭平面停車場         新北市八里區龍米路2段156號對面       100      123  113年04月12日   \n",
       "2            埤頭平面停車場          新北市八里區中山路一段268巷旁        26       70  113年05月02日   \n",
       "3          八里龍形平面停車場       新北市八里區龍米路1段與龍形一街交叉口        21       62  113年05月02日   \n",
       "4         八里區龍米平面停車場          新北市八里區龍米路2段150號旁       163      167  113年05月02日   \n",
       "..               ...                       ...       ...      ...         ...   \n",
       "339            礫間停車場      新北市鶯歌區館前路與文化路371巷交叉口        42       48  113年05月02日   \n",
       "340     後村堰極限運動公園停車場      新北市鶯歌區後村堰極限運動公園周邊停車場        36       61  113年05月02日   \n",
       "341     鶯歌區公八公園平面停車場          新北市鶯歌區國華路與永明街交叉口        64      116  113年05月02日   \n",
       "342  鶯歌區三鶯轉運站南側平面停車場  新北市鶯歌區館前路與文化路交叉口/三鶯轉運站南側        39       60  113年05月02日   \n",
       "343  鶯歌區三鶯轉運站北側平面停車場  新北市鶯歌區館前路與文化路交叉口/三鶯轉運站北側        36       37  113年05月02日   \n",
       "\n",
       "    update_time city_code  \n",
       "0     18時13分10秒       NWT  \n",
       "1     13時53分30秒       NWT  \n",
       "2     18時12分51秒       NWT  \n",
       "3     18時12分51秒       NWT  \n",
       "4     18時10分19秒       NWT  \n",
       "..          ...       ...  \n",
       "339   18時12分03秒       NWT  \n",
       "340   18時12分51秒       NWT  \n",
       "341   18時12分06秒       NWT  \n",
       "342   18時12分40秒       NWT  \n",
       "343   18時12分10秒       NWT  \n",
       "\n",
       "[344 rows x 7 columns]"
      ]
     },
     "execution_count": 5,
     "metadata": {},
     "output_type": "execute_result"
    }
   ],
   "source": [
    "df = pd.read_csv(\"/Users/taylorlin/Desktop/TIR101_Group2/02_parking_rowdata_NewTaipei.csv\")\n",
    "df"
   ]
  },
  {
   "cell_type": "code",
   "execution_count": 7,
   "id": "3e9ada3c712c2731",
   "metadata": {
    "ExecuteTime": {
     "end_time": "2024-05-01T17:37:37.136279Z",
     "start_time": "2024-05-01T17:37:37.117278Z"
    }
   },
   "outputs": [],
   "source": [
    "df = df.loc[:, [\"PSName\", \"city_code\", \"address\", \"totalPS\", \"remainPS\", \"update_D\", \"update_time\"]]"
   ]
  },
  {
   "cell_type": "code",
   "execution_count": 8,
   "id": "d3ef495f",
   "metadata": {},
   "outputs": [
    {
     "data": {
      "text/html": [
       "<div>\n",
       "<style scoped>\n",
       "    .dataframe tbody tr th:only-of-type {\n",
       "        vertical-align: middle;\n",
       "    }\n",
       "\n",
       "    .dataframe tbody tr th {\n",
       "        vertical-align: top;\n",
       "    }\n",
       "\n",
       "    .dataframe thead th {\n",
       "        text-align: right;\n",
       "    }\n",
       "</style>\n",
       "<table border=\"1\" class=\"dataframe\">\n",
       "  <thead>\n",
       "    <tr style=\"text-align: right;\">\n",
       "      <th></th>\n",
       "      <th>ps_name</th>\n",
       "      <th>city_code</th>\n",
       "      <th>address</th>\n",
       "      <th>total_space</th>\n",
       "      <th>aval_space</th>\n",
       "      <th>update_D</th>\n",
       "      <th>update_time</th>\n",
       "    </tr>\n",
       "  </thead>\n",
       "  <tbody>\n",
       "    <tr>\n",
       "      <th>0</th>\n",
       "      <td>八里區第一立體停車場</td>\n",
       "      <td>NWT</td>\n",
       "      <td>新北市八里區舊城路12號</td>\n",
       "      <td>220</td>\n",
       "      <td>43</td>\n",
       "      <td>113年05月02日</td>\n",
       "      <td>18時13分10秒</td>\n",
       "    </tr>\n",
       "    <tr>\n",
       "      <th>1</th>\n",
       "      <td>八里區渡船頭平面停車場</td>\n",
       "      <td>NWT</td>\n",
       "      <td>新北市八里區龍米路2段156號對面</td>\n",
       "      <td>123</td>\n",
       "      <td>100</td>\n",
       "      <td>113年04月12日</td>\n",
       "      <td>13時53分30秒</td>\n",
       "    </tr>\n",
       "    <tr>\n",
       "      <th>2</th>\n",
       "      <td>埤頭平面停車場</td>\n",
       "      <td>NWT</td>\n",
       "      <td>新北市八里區中山路一段268巷旁</td>\n",
       "      <td>70</td>\n",
       "      <td>26</td>\n",
       "      <td>113年05月02日</td>\n",
       "      <td>18時12分51秒</td>\n",
       "    </tr>\n",
       "    <tr>\n",
       "      <th>3</th>\n",
       "      <td>八里龍形平面停車場</td>\n",
       "      <td>NWT</td>\n",
       "      <td>新北市八里區龍米路1段與龍形一街交叉口</td>\n",
       "      <td>62</td>\n",
       "      <td>21</td>\n",
       "      <td>113年05月02日</td>\n",
       "      <td>18時12分51秒</td>\n",
       "    </tr>\n",
       "    <tr>\n",
       "      <th>4</th>\n",
       "      <td>八里區龍米平面停車場</td>\n",
       "      <td>NWT</td>\n",
       "      <td>新北市八里區龍米路2段150號旁</td>\n",
       "      <td>167</td>\n",
       "      <td>163</td>\n",
       "      <td>113年05月02日</td>\n",
       "      <td>18時10分19秒</td>\n",
       "    </tr>\n",
       "    <tr>\n",
       "      <th>...</th>\n",
       "      <td>...</td>\n",
       "      <td>...</td>\n",
       "      <td>...</td>\n",
       "      <td>...</td>\n",
       "      <td>...</td>\n",
       "      <td>...</td>\n",
       "      <td>...</td>\n",
       "    </tr>\n",
       "    <tr>\n",
       "      <th>339</th>\n",
       "      <td>礫間停車場</td>\n",
       "      <td>NWT</td>\n",
       "      <td>新北市鶯歌區館前路與文化路371巷交叉口</td>\n",
       "      <td>48</td>\n",
       "      <td>42</td>\n",
       "      <td>113年05月02日</td>\n",
       "      <td>18時12分03秒</td>\n",
       "    </tr>\n",
       "    <tr>\n",
       "      <th>340</th>\n",
       "      <td>後村堰極限運動公園停車場</td>\n",
       "      <td>NWT</td>\n",
       "      <td>新北市鶯歌區後村堰極限運動公園周邊停車場</td>\n",
       "      <td>61</td>\n",
       "      <td>36</td>\n",
       "      <td>113年05月02日</td>\n",
       "      <td>18時12分51秒</td>\n",
       "    </tr>\n",
       "    <tr>\n",
       "      <th>341</th>\n",
       "      <td>鶯歌區公八公園平面停車場</td>\n",
       "      <td>NWT</td>\n",
       "      <td>新北市鶯歌區國華路與永明街交叉口</td>\n",
       "      <td>116</td>\n",
       "      <td>64</td>\n",
       "      <td>113年05月02日</td>\n",
       "      <td>18時12分06秒</td>\n",
       "    </tr>\n",
       "    <tr>\n",
       "      <th>342</th>\n",
       "      <td>鶯歌區三鶯轉運站南側平面停車場</td>\n",
       "      <td>NWT</td>\n",
       "      <td>新北市鶯歌區館前路與文化路交叉口/三鶯轉運站南側</td>\n",
       "      <td>60</td>\n",
       "      <td>39</td>\n",
       "      <td>113年05月02日</td>\n",
       "      <td>18時12分40秒</td>\n",
       "    </tr>\n",
       "    <tr>\n",
       "      <th>343</th>\n",
       "      <td>鶯歌區三鶯轉運站北側平面停車場</td>\n",
       "      <td>NWT</td>\n",
       "      <td>新北市鶯歌區館前路與文化路交叉口/三鶯轉運站北側</td>\n",
       "      <td>37</td>\n",
       "      <td>36</td>\n",
       "      <td>113年05月02日</td>\n",
       "      <td>18時12分10秒</td>\n",
       "    </tr>\n",
       "  </tbody>\n",
       "</table>\n",
       "<p>344 rows × 7 columns</p>\n",
       "</div>"
      ],
      "text/plain": [
       "             ps_name city_code                   address  total_space  \\\n",
       "0         八里區第一立體停車場       NWT              新北市八里區舊城路12號          220   \n",
       "1        八里區渡船頭平面停車場       NWT         新北市八里區龍米路2段156號對面          123   \n",
       "2            埤頭平面停車場       NWT          新北市八里區中山路一段268巷旁           70   \n",
       "3          八里龍形平面停車場       NWT       新北市八里區龍米路1段與龍形一街交叉口           62   \n",
       "4         八里區龍米平面停車場       NWT          新北市八里區龍米路2段150號旁          167   \n",
       "..               ...       ...                       ...          ...   \n",
       "339            礫間停車場       NWT      新北市鶯歌區館前路與文化路371巷交叉口           48   \n",
       "340     後村堰極限運動公園停車場       NWT      新北市鶯歌區後村堰極限運動公園周邊停車場           61   \n",
       "341     鶯歌區公八公園平面停車場       NWT          新北市鶯歌區國華路與永明街交叉口          116   \n",
       "342  鶯歌區三鶯轉運站南側平面停車場       NWT  新北市鶯歌區館前路與文化路交叉口/三鶯轉運站南側           60   \n",
       "343  鶯歌區三鶯轉運站北側平面停車場       NWT  新北市鶯歌區館前路與文化路交叉口/三鶯轉運站北側           37   \n",
       "\n",
       "     aval_space    update_D update_time  \n",
       "0            43  113年05月02日   18時13分10秒  \n",
       "1           100  113年04月12日   13時53分30秒  \n",
       "2            26  113年05月02日   18時12分51秒  \n",
       "3            21  113年05月02日   18時12分51秒  \n",
       "4           163  113年05月02日   18時10分19秒  \n",
       "..          ...         ...         ...  \n",
       "339          42  113年05月02日   18時12分03秒  \n",
       "340          36  113年05月02日   18時12分51秒  \n",
       "341          64  113年05月02日   18時12分06秒  \n",
       "342          39  113年05月02日   18時12分40秒  \n",
       "343          36  113年05月02日   18時12分10秒  \n",
       "\n",
       "[344 rows x 7 columns]"
      ]
     },
     "execution_count": 8,
     "metadata": {},
     "output_type": "execute_result"
    }
   ],
   "source": [
    "df_renamed = df.rename(columns={\"PSName\":\"ps_name\", \"totalPS\":\"total_space\", \"remainPS\":'aval_space'})\n",
    "df_renamed"
   ]
  },
  {
   "cell_type": "code",
   "execution_count": 9,
   "id": "3b882ad6",
   "metadata": {},
   "outputs": [
    {
     "data": {
      "text/plain": [
       "ps_name        object\n",
       "city_code      object\n",
       "address        object\n",
       "total_space     int64\n",
       "aval_space      int64\n",
       "update_D       object\n",
       "update_time    object\n",
       "dtype: object"
      ]
     },
     "execution_count": 9,
     "metadata": {},
     "output_type": "execute_result"
    }
   ],
   "source": [
    "df_renamed.dtypes"
   ]
  },
  {
   "cell_type": "markdown",
   "id": "d73e0084",
   "metadata": {},
   "source": [
    "# 合併 日期跟時間\n"
   ]
  },
  {
   "cell_type": "code",
   "execution_count": 11,
   "id": "c0f89e65",
   "metadata": {},
   "outputs": [],
   "source": [
    "import re"
   ]
  },
  {
   "cell_type": "code",
   "execution_count": 41,
   "id": "a031637a",
   "metadata": {},
   "outputs": [
    {
     "data": {
      "text/plain": [
       "'113年05月02'"
      ]
     },
     "execution_count": 41,
     "metadata": {},
     "output_type": "execute_result"
    }
   ],
   "source": [
    "'113年05月02日'[:-1]"
   ]
  },
  {
   "cell_type": "code",
   "execution_count": 40,
   "id": "281c1002",
   "metadata": {},
   "outputs": [
    {
     "data": {
      "text/plain": [
       "'113-05-02'"
      ]
     },
     "execution_count": 40,
     "metadata": {},
     "output_type": "execute_result"
    }
   ],
   "source": [
    "re.sub(r\"\\D\",'-','113年05月02日'[:-1])"
   ]
  },
  {
   "cell_type": "code",
   "execution_count": 27,
   "id": "b8deef09",
   "metadata": {},
   "outputs": [],
   "source": [
    "df_renamed['time_string'] = df_renamed['update_D'].apply(lambda x: re.sub(r\"\\D\",'-',x[:-1])) + ' '+df_renamed['update_time'].apply(lambda x: re.sub(r\"\\D\",':',x[:-1]))"
   ]
  },
  {
   "cell_type": "code",
   "execution_count": 32,
   "id": "6360e03c",
   "metadata": {},
   "outputs": [],
   "source": [
    "def tw_year_to_AD_year(data):\n",
    "    split = data.split('-')\n",
    "    split[0] = str(int(split[0])+1911)\n",
    "    return '-'.join(split)"
   ]
  },
  {
   "cell_type": "code",
   "execution_count": 34,
   "id": "96aeb47d",
   "metadata": {},
   "outputs": [],
   "source": [
    "df_renamed['time_string'] = df_renamed['time_string'].apply(tw_year_to_AD_year)"
   ]
  },
  {
   "cell_type": "code",
   "execution_count": 36,
   "id": "6d18d1c0",
   "metadata": {},
   "outputs": [],
   "source": [
    "df_renamed['soure_time'] = pd.to_datetime(df_renamed['time_string'])"
   ]
  },
  {
   "cell_type": "code",
   "execution_count": 38,
   "id": "efcf3ab5",
   "metadata": {},
   "outputs": [],
   "source": [
    "df_renamed = df_renamed.drop(['update_D','update_time','time_string'],axis=1)"
   ]
  },
  {
   "cell_type": "code",
   "execution_count": 39,
   "id": "b1ddadfb",
   "metadata": {},
   "outputs": [
    {
     "data": {
      "text/html": [
       "<div>\n",
       "<style scoped>\n",
       "    .dataframe tbody tr th:only-of-type {\n",
       "        vertical-align: middle;\n",
       "    }\n",
       "\n",
       "    .dataframe tbody tr th {\n",
       "        vertical-align: top;\n",
       "    }\n",
       "\n",
       "    .dataframe thead th {\n",
       "        text-align: right;\n",
       "    }\n",
       "</style>\n",
       "<table border=\"1\" class=\"dataframe\">\n",
       "  <thead>\n",
       "    <tr style=\"text-align: right;\">\n",
       "      <th></th>\n",
       "      <th>ps_name</th>\n",
       "      <th>city_code</th>\n",
       "      <th>address</th>\n",
       "      <th>total_space</th>\n",
       "      <th>aval_space</th>\n",
       "      <th>soure_time</th>\n",
       "    </tr>\n",
       "  </thead>\n",
       "  <tbody>\n",
       "    <tr>\n",
       "      <th>0</th>\n",
       "      <td>八里區第一立體停車場</td>\n",
       "      <td>NWT</td>\n",
       "      <td>新北市八里區舊城路12號</td>\n",
       "      <td>220</td>\n",
       "      <td>43</td>\n",
       "      <td>2024-05-02 18:13:10</td>\n",
       "    </tr>\n",
       "    <tr>\n",
       "      <th>1</th>\n",
       "      <td>八里區渡船頭平面停車場</td>\n",
       "      <td>NWT</td>\n",
       "      <td>新北市八里區龍米路2段156號對面</td>\n",
       "      <td>123</td>\n",
       "      <td>100</td>\n",
       "      <td>2024-04-12 13:53:30</td>\n",
       "    </tr>\n",
       "    <tr>\n",
       "      <th>2</th>\n",
       "      <td>埤頭平面停車場</td>\n",
       "      <td>NWT</td>\n",
       "      <td>新北市八里區中山路一段268巷旁</td>\n",
       "      <td>70</td>\n",
       "      <td>26</td>\n",
       "      <td>2024-05-02 18:12:51</td>\n",
       "    </tr>\n",
       "    <tr>\n",
       "      <th>3</th>\n",
       "      <td>八里龍形平面停車場</td>\n",
       "      <td>NWT</td>\n",
       "      <td>新北市八里區龍米路1段與龍形一街交叉口</td>\n",
       "      <td>62</td>\n",
       "      <td>21</td>\n",
       "      <td>2024-05-02 18:12:51</td>\n",
       "    </tr>\n",
       "    <tr>\n",
       "      <th>4</th>\n",
       "      <td>八里區龍米平面停車場</td>\n",
       "      <td>NWT</td>\n",
       "      <td>新北市八里區龍米路2段150號旁</td>\n",
       "      <td>167</td>\n",
       "      <td>163</td>\n",
       "      <td>2024-05-02 18:10:19</td>\n",
       "    </tr>\n",
       "  </tbody>\n",
       "</table>\n",
       "</div>"
      ],
      "text/plain": [
       "       ps_name city_code              address  total_space  aval_space  \\\n",
       "0   八里區第一立體停車場       NWT         新北市八里區舊城路12號          220          43   \n",
       "1  八里區渡船頭平面停車場       NWT    新北市八里區龍米路2段156號對面          123         100   \n",
       "2      埤頭平面停車場       NWT     新北市八里區中山路一段268巷旁           70          26   \n",
       "3    八里龍形平面停車場       NWT  新北市八里區龍米路1段與龍形一街交叉口           62          21   \n",
       "4   八里區龍米平面停車場       NWT     新北市八里區龍米路2段150號旁          167         163   \n",
       "\n",
       "           soure_time  \n",
       "0 2024-05-02 18:13:10  \n",
       "1 2024-04-12 13:53:30  \n",
       "2 2024-05-02 18:12:51  \n",
       "3 2024-05-02 18:12:51  \n",
       "4 2024-05-02 18:10:19  "
      ]
     },
     "execution_count": 39,
     "metadata": {},
     "output_type": "execute_result"
    }
   ],
   "source": [
    "df_renamed.head()"
   ]
  },
  {
   "cell_type": "code",
   "execution_count": 42,
   "id": "96d97b7e",
   "metadata": {},
   "outputs": [
    {
     "data": {
      "text/plain": [
       "ps_name                object\n",
       "city_code              object\n",
       "address                object\n",
       "total_space             int64\n",
       "aval_space              int64\n",
       "soure_time     datetime64[ns]\n",
       "dtype: object"
      ]
     },
     "execution_count": 42,
     "metadata": {},
     "output_type": "execute_result"
    }
   ],
   "source": [
    "df_renamed.dtypes"
   ]
  },
  {
   "cell_type": "code",
   "execution_count": 43,
   "id": "b133e4da",
   "metadata": {},
   "outputs": [],
   "source": [
    "df_renamed\n",
    "df_renamed.to_csv(\"02_parking_TransfromData_NewTaipei.csv\")"
   ]
  }
 ],
 "metadata": {
  "kernelspec": {
   "display_name": "Python 3",
   "language": "python",
   "name": "python3"
  },
  "language_info": {
   "codemirror_mode": {
    "name": "ipython",
    "version": 3
   },
   "file_extension": ".py",
   "mimetype": "text/x-python",
   "name": "python",
   "nbconvert_exporter": "python",
   "pygments_lexer": "ipython3",
   "version": "3.12.3"
  }
 },
 "nbformat": 4,
 "nbformat_minor": 5
}
